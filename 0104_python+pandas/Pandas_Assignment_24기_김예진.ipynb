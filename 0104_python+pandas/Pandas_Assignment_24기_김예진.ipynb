{
  "cells": [
    {
      "cell_type": "markdown",
      "metadata": {
        "id": "kKSrM5BOPrwD"
      },
      "source": [
        "## Pandas 과제\n",
        "\n",
        "Tabular data의 경우 모델을 돌리기에 앞서서 pandas를 통한 전처리가 많이 필요합니다.\n",
        "\n",
        "다음 과제에서는 판다스에서 가장 자주 쓰이는 함수들을 다룹니다.\n",
        "\n",
        "구글에 올라와 있는 판다스 연습문제 200제 중 중복되는 것, 불필요하다고 생각되는 것을 제외하여 과제를 만들게 되었습니다.\n",
        "\n",
        "넘파이 관련 문제들도 있었지만 판다스로만 과제를 구성하게 되었고, 그것들도 풀어보고 싶은 분들은 아래 출처를 남겨 놓았으니 참고하세요.\n",
        "\n",
        "약 150개 정도로 문제 수가 많지만 기초적인 문제들이 많기 때문에 시간이 좀 걸릴 뿐 큰 어려움은 없을 거라 생각합니다.\n",
        "\n",
        "문제를 풀다보면 부자연스러운 문제도 많이 있지만 그냥 연습 삼아 풀어보시기 바랍니다.\n",
        "\n",
        "관련 csv파일들은 별도의 파일에 담아놓았습니다.\n",
        "\n",
        "\n",
        " 발제자: DA 23기 양진성\n",
        "\n",
        "\n",
        "\n",
        "\n"
      ]
    },
    {
      "cell_type": "markdown",
      "metadata": {
        "id": "s-X-84YwPrwG"
      },
      "source": [
        "### 출처\n",
        "\n",
        "Author: Avi Chawla\n",
        "\n",
        "LinkedIn: https://www.linkedin.com/in/avi-chawla/\n",
        "\n",
        "Read my blogs here: https://medium.com/@avi_chawla"
      ]
    },
    {
      "cell_type": "markdown",
      "metadata": {
        "id": "Txkk7ukyPrwH"
      },
      "source": [
        "- **Pandas**\n",
        "\n",
        "1. Pandas Notebook 1: [Link](https://deepnote.com/workspace/avi-chawla-695b-aee6f4ef-2d50-4fb6-9ef2-20ee1022995a/project/Pandas-Notebook-1-d693ac55-6455-40cf-ae34-867c6a02014e/%2Fnotebook.ipynb)\n",
        "2. Pandas Notebook 2: [Link](https://deepnote.com/workspace/avi-chawla-695b-aee6f4ef-2d50-4fb6-9ef2-20ee1022995a/project/Pandas-Notebook-employee-dataset-7e3b6755-5d4b-464b-9b75-9c84667ae3bd/%2Fnotebook.ipynb)\n",
        "\n",
        "3. Pandas Notebook 3: [Link](https://deepnote.com/workspace/avi-chawla-695b-aee6f4ef-2d50-4fb6-9ef2-20ee1022995a/project/Pandas-Notebook-employee-part-2-adc5a3ee-5f61-4725-8e46-ccb07899acfc/%2Fnotebook.ipynb)\n",
        "\n",
        "4. Pandas Notebook 4: [Link](https://deepnote.com/workspace/avi-chawla-695b-aee6f4ef-2d50-4fb6-9ef2-20ee1022995a/project/Pandas-after-employee-f84e02a1-fb6a-428e-af90-8dd99855749a/%2Fnotebook.ipynb) **(This Notebook)**\n",
        "\n",
        "- **NumPy**\n",
        "\n",
        "1. NumPy Notebook 1: [Link](https://deepnote.com/workspace/avi-chawla-695b-aee6f4ef-2d50-4fb6-9ef2-20ee1022995a/project/Numpy-part-1-9b9979f2-b708-4292-b466-3d0157564c91/%2Fnotebook.ipynb)\n",
        "\n",
        "2. NumPy Notebook 2: [Link](https://deepnote.com/workspace/avi-chawla-695b-aee6f4ef-2d50-4fb6-9ef2-20ee1022995a/project/NumPy-Notebook-2-4456411e-2ddd-426d-8027-4881080027db/%2Fnotebook.ipynb)\n",
        "\n",
        "3. NumPy Notebook 3: [Link](https://deepnote.com/workspace/avi-chawla-695b-aee6f4ef-2d50-4fb6-9ef2-20ee1022995a/project/NumPy-Notebook-3-e6587114-b580-4249-b599-540de859e603/%2Fnotebook.ipynb)\n",
        "\n",
        "- **SQL**\n",
        "\n",
        "1. SQL Notebook 1: [Link](https://deepnote.com/workspace/avi-chawla-695b-aee6f4ef-2d50-4fb6-9ef2-20ee1022995a/project/SQL-Notebook-1-eac9d782-a9b1-4e84-a1f9-af14080a6121/%2Fnotebook.ipynb)\n",
        "\n",
        "2. SQL Notebook 2: [Link](https://deepnote.com/workspace/avi-chawla-695b-aee6f4ef-2d50-4fb6-9ef2-20ee1022995a/project/SQL-Notebook-2-1914b214-be03-44a1-be63-ad99e98be639/%2Fnotebook.ipynb)"
      ]
    },
    {
      "cell_type": "markdown",
      "metadata": {
        "cell_id": "bac3049910b240b998ba02c52dd9a7cf",
        "deepnote_cell_type": "text-cell-h1",
        "formattedRanges": [],
        "id": "tE7rMZXHPrwH",
        "is_collapsed": false,
        "tags": []
      },
      "source": [
        "# Pandas Notebook 1"
      ]
    },
    {
      "cell_type": "code",
      "execution_count": 2,
      "metadata": {
        "allow_embed": "code",
        "cell_id": "1247c98b228f4e26a7e645554d1444a0",
        "deepnote_cell_type": "code",
        "deepnote_to_be_reexecuted": false,
        "execution_millis": 2,
        "execution_start": 1659984470280,
        "id": "AuhIQuBsPrwH",
        "source_hash": "c76c7c51",
        "tags": []
      },
      "outputs": [],
      "source": [
        "import pandas as pd\n",
        "import numpy as np"
      ]
    },
    {
      "cell_type": "markdown",
      "metadata": {
        "cell_id": "6aaba47726e04be19708d622e44b4594",
        "deepnote_cell_type": "text-cell-h2",
        "formattedRanges": [],
        "id": "mp4k6VOrPrwI",
        "is_collapsed": false,
        "tags": []
      },
      "source": [
        "## Create a Pandas DataFrame"
      ]
    },
    {
      "cell_type": "markdown",
      "metadata": {
        "cell_id": "5134b361d40a48629147a7607e50e333",
        "deepnote_cell_type": "text-cell-h3",
        "formattedRanges": [],
        "id": "NE1Y1YjXPrwI",
        "is_collapsed": false,
        "tags": []
      },
      "source": [
        "### 1. Create a DataFrame from a list of lists. Name the columns \"col1\", \"col2\" and \"col3\"."
      ]
    },
    {
      "cell_type": "code",
      "execution_count": 3,
      "metadata": {
        "cell_id": "e4de38de7b714b368a3ad2cea933f99f",
        "deepnote_cell_height": 115,
        "deepnote_cell_type": "code",
        "id": "JmWzqkLJPrwJ",
        "outputId": "8cf5b54f-99f7-4864-e72d-6af7c536d544",
        "tags": []
      },
      "outputs": [
        {
          "name": "stdout",
          "output_type": "stream",
          "text": [
            "   col1  col2  col3\n",
            "0     1     2     3\n",
            "1     4     5     6\n"
          ]
        }
      ],
      "source": [
        "data_list = [[1,2,3], [4,5,6]]\n",
        "\n",
        "df = pd.DataFrame(data_list, columns=['col1', 'col2', 'col3'])\n",
        "print(df)"
      ]
    },
    {
      "cell_type": "markdown",
      "metadata": {
        "cell_id": "f24b2e095a234294b4782e696a6e5d5a",
        "deepnote_cell_type": "text-cell-h3",
        "formattedRanges": [],
        "id": "OjyLF_ExPrwK",
        "is_collapsed": false,
        "tags": []
      },
      "source": [
        "### 2. Create a DataFrame from a list of lists. Name the columns \"col1\", \"col2\" and \"col3\". Change the data type of all columns to \"int8\"."
      ]
    },
    {
      "cell_type": "code",
      "execution_count": 4,
      "metadata": {},
      "outputs": [
        {
          "name": "stdout",
          "output_type": "stream",
          "text": [
            "   col1  col2  col3\n",
            "0     1     2     3\n",
            "1     4     5     6\n",
            "col1    int8\n",
            "col2    int8\n",
            "col3    int8\n",
            "dtype: object\n"
          ]
        }
      ],
      "source": [
        "data_list = [[1,2,3], [4,5,6]]\n",
        "\n",
        "df = pd.DataFrame(data_list, columns=['col1', 'col2', 'col3'], dtype=np.int8)\n",
        "print(df)\n",
        "print(df.dtypes)"
      ]
    },
    {
      "cell_type": "markdown",
      "metadata": {
        "cell_id": "67608c871eff4c13b387c01d90efb01b",
        "deepnote_cell_type": "text-cell-h3",
        "formattedRanges": [],
        "id": "C2QQFBDhPrwK",
        "is_collapsed": false,
        "tags": []
      },
      "source": [
        "### 3. Create a DataFrame from a dictionary."
      ]
    },
    {
      "cell_type": "code",
      "execution_count": 5,
      "metadata": {},
      "outputs": [
        {
          "name": "stdout",
          "output_type": "stream",
          "text": [
            "   col1  col2\n",
            "0     1     3\n",
            "1     2     4\n"
          ]
        }
      ],
      "source": [
        "data_dict = {'col1': [1, 2], 'col2': [3, 4]}\n",
        "\n",
        "df = pd.DataFrame(data_dict)\n",
        "print(df)"
      ]
    },
    {
      "cell_type": "markdown",
      "metadata": {
        "cell_id": "10a39af80da44666b7cd6b7c76598868",
        "deepnote_cell_type": "text-cell-h3",
        "formattedRanges": [],
        "id": "rKs-p5fjPrwK",
        "is_collapsed": false,
        "tags": []
      },
      "source": [
        "### 4. Create a DataFrame from a dictionary. Change the data type to \"int8\"."
      ]
    },
    {
      "cell_type": "code",
      "execution_count": 20,
      "metadata": {},
      "outputs": [
        {
          "name": "stdout",
          "output_type": "stream",
          "text": [
            "   col1  col2\n",
            "0     1     3\n",
            "1     2     4\n",
            "col1    int8\n",
            "col2    int8\n",
            "dtype: object\n"
          ]
        }
      ],
      "source": [
        "data_dict = {'col1': [1, 2], 'col2': [3, 4]}\n",
        "\n",
        "df = pd.DataFrame(data_dict, dtype='int8')\n",
        "print(df)\n",
        "print(df.dtypes)"
      ]
    },
    {
      "cell_type": "markdown",
      "metadata": {
        "cell_id": "c4f04239427b4dfeb371b7f85167aa59",
        "deepnote_cell_type": "text-cell-h3",
        "formattedRanges": [],
        "id": "Xj6jXtBPPrwL",
        "is_collapsed": false,
        "tags": []
      },
      "source": [
        "### 5. Create a DataFrame from a numpy array. Name the columns \"col1\", \"col2\" and \"col3\"."
      ]
    },
    {
      "cell_type": "code",
      "execution_count": 7,
      "metadata": {},
      "outputs": [
        {
          "name": "stdout",
          "output_type": "stream",
          "text": [
            "   col1  col2  col3\n",
            "0     1     2     3\n",
            "1     4     5     6\n"
          ]
        }
      ],
      "source": [
        "data_nparray = np.array([[1,2,3], [4,5,6]])\n",
        "\n",
        "df = pd.DataFrame(data_nparray, columns=['col1', 'col2', 'col3'])\n",
        "print(df)"
      ]
    },
    {
      "cell_type": "markdown",
      "metadata": {
        "cell_id": "de1e8331c49f4f5c93f0c72c4b7ba203",
        "deepnote_cell_type": "text-cell-h2",
        "formattedRanges": [],
        "id": "Kf9HPUssPrwL",
        "is_collapsed": false,
        "tags": []
      },
      "source": [
        "## Input Operations from CSV in Pandas"
      ]
    },
    {
      "cell_type": "markdown",
      "metadata": {
        "cell_id": "141fc7656f334da2bbb5d43f40bec4c2",
        "deepnote_cell_type": "text-cell-h3",
        "formattedRanges": [],
        "id": "izX_mEMzPrwL",
        "is_collapsed": false,
        "tags": []
      },
      "source": [
        "### 6. Read a CSV File."
      ]
    },
    {
      "cell_type": "code",
      "execution_count": 8,
      "metadata": {},
      "outputs": [
        {
          "name": "stdout",
          "output_type": "stream",
          "text": [
            "   col1  col2  col3\n",
            "0     1     2     3\n",
            "1     4     5     6\n",
            "2     7     8     9\n"
          ]
        }
      ],
      "source": [
        "csv_file = \"input_data/file1.csv\"\n",
        "\n",
        "df = pd.read_csv(csv_file)\n",
        "print(df)"
      ]
    },
    {
      "cell_type": "markdown",
      "metadata": {
        "cell_id": "8f9a70588d944fd78abeea0971687a56",
        "deepnote_cell_type": "text-cell-h3",
        "formattedRanges": [],
        "id": "8xgQ57a1PrwL",
        "is_collapsed": false,
        "tags": []
      },
      "source": [
        "### 7. Read a CSV file with delimiter \"|\"."
      ]
    },
    {
      "cell_type": "code",
      "execution_count": 9,
      "metadata": {
        "cell_id": "0f8de42d5a9b4909b6c21941137d5b04",
        "deepnote_cell_height": 115,
        "deepnote_cell_type": "code",
        "id": "-a_4r2O4PrwL",
        "outputId": "28b98816-432c-4ae2-97a3-6e22418cf680",
        "tags": []
      },
      "outputs": [
        {
          "name": "stdout",
          "output_type": "stream",
          "text": [
            "   col1  col2  col3\n",
            "0     1     2     3\n",
            "1     4     5     6\n",
            "2     7     8     9\n"
          ]
        }
      ],
      "source": [
        "csv_file = \"input_data/file2.csv\"\n",
        "\n",
        "df = pd.read_csv(csv_file, delimiter='|')\n",
        "print(df)"
      ]
    },
    {
      "cell_type": "markdown",
      "metadata": {
        "cell_id": "2c4f52473db24da6baa0a5129e176a59",
        "deepnote_cell_type": "text-cell-h3",
        "formattedRanges": [],
        "id": "jPI1ABguPrwL",
        "is_collapsed": false,
        "tags": []
      },
      "source": [
        "### 8. Read a CSV file with no header column and use \"col1\", \"col2\" and \"col3\" as column names. The delimiter is \",\"."
      ]
    },
    {
      "cell_type": "code",
      "execution_count": 14,
      "metadata": {
        "cell_id": "e84bf940f16945cd9d91441af3658be3",
        "deepnote_cell_height": 115,
        "deepnote_cell_type": "code",
        "id": "tJJvA5YkPrwL",
        "outputId": "15a1ac68-511b-4006-ce2f-bf6acad1784a",
        "tags": []
      },
      "outputs": [
        {
          "name": "stdout",
          "output_type": "stream",
          "text": [
            "   col1  col2  col3\n",
            "0     1     2     3\n",
            "1     4     5     6\n",
            "2     7     8     9\n"
          ]
        }
      ],
      "source": [
        "csv_file = \"input_data/file3.csv\"\n",
        "\n",
        "df = pd.read_csv(csv_file, delimiter=',', names=['col1', 'col2', 'col3'])\n",
        "print(df)"
      ]
    },
    {
      "cell_type": "markdown",
      "metadata": {
        "cell_id": "4842addbe893458f80df0837f055a5fa",
        "deepnote_cell_type": "text-cell-h3",
        "formattedRanges": [],
        "id": "H45CZZzLPrwM",
        "is_collapsed": false,
        "tags": []
      },
      "source": [
        "### 9. There are 3 columns in the file, namely \"col1\", \"col2\", and \"col3\". You have to read only \"col1\" and \"col3\"."
      ]
    },
    {
      "cell_type": "code",
      "execution_count": 16,
      "metadata": {},
      "outputs": [
        {
          "name": "stdout",
          "output_type": "stream",
          "text": [
            "   col1  col3\n",
            "0     1     3\n",
            "1     4     6\n",
            "2     7     9\n"
          ]
        }
      ],
      "source": [
        "csv_file = \"input_data/file1.csv\"\n",
        "\n",
        "df = pd.read_csv(csv_file, usecols=['col1', 'col3'])\n",
        "print(df)"
      ]
    },
    {
      "cell_type": "markdown",
      "metadata": {
        "cell_id": "7810864401e849a2984e5287d89be7bc",
        "deepnote_cell_type": "text-cell-h3",
        "formattedRanges": [],
        "id": "_EjRgz9HPrwM",
        "is_collapsed": false,
        "tags": []
      },
      "source": [
        "### 10. There are 3 columns in the file, namely \"col1\", \"col2\", and \"col3\". You have to read only \"col1\" and \"col3\". Moreover, the delimiter is \"|\"."
      ]
    },
    {
      "cell_type": "code",
      "execution_count": 17,
      "metadata": {},
      "outputs": [
        {
          "name": "stdout",
          "output_type": "stream",
          "text": [
            "   col1  col3\n",
            "0     1     3\n",
            "1     4     6\n",
            "2     7     9\n"
          ]
        }
      ],
      "source": [
        "csv_file = \"input_data/file2.csv\"\n",
        "\n",
        "df = pd.read_csv(csv_file, usecols=['col1', 'col3'], delimiter='|')\n",
        "print(df)"
      ]
    },
    {
      "cell_type": "markdown",
      "metadata": {
        "cell_id": "1311297a04c94a60b908f99e5f355fa4",
        "deepnote_cell_type": "text-cell-h3",
        "formattedRanges": [],
        "id": "1AuoKiDCPrwM",
        "is_collapsed": false,
        "tags": []
      },
      "source": [
        "### 11. The file \"file4.csv\" has junk characters in the first two lines. You have to read the CSV file from the 3rd line."
      ]
    },
    {
      "cell_type": "code",
      "execution_count": 18,
      "metadata": {},
      "outputs": [
        {
          "name": "stdout",
          "output_type": "stream",
          "text": [
            "   col1  col2  col3\n",
            "0     1     2     3\n",
            "1     4     5     6\n",
            "2     7     8     9\n"
          ]
        }
      ],
      "source": [
        "csv_file = \"input_data/file4.csv\"\n",
        "\n",
        "df = pd.read_csv(csv_file, skiprows=2)\n",
        "print(df)"
      ]
    },
    {
      "cell_type": "markdown",
      "metadata": {
        "cell_id": "e1b751a1ad2c4a08b4434020f09a6dc9",
        "deepnote_cell_type": "text-cell-h3",
        "formattedRanges": [],
        "id": "s5SwPlMwPrwM",
        "is_collapsed": false,
        "tags": []
      },
      "source": [
        "### 12. There are 3 columns in the file, namely \"col1\", \"col2\", and \"col3\". While reading the CSV file, specify the data type of \"col1\" as 'int32'."
      ]
    },
    {
      "cell_type": "code",
      "execution_count": 19,
      "metadata": {},
      "outputs": [
        {
          "name": "stdout",
          "output_type": "stream",
          "text": [
            "   col1  col2  col3\n",
            "0     1     2     3\n",
            "1     4     5     6\n",
            "2     7     8     9\n"
          ]
        }
      ],
      "source": [
        "csv_file = \"input_data/file1.csv\"\n",
        "\n",
        "df = pd.read_csv(csv_file, dtype={'col1':'int32'})\n",
        "print(df)"
      ]
    },
    {
      "cell_type": "markdown",
      "metadata": {
        "cell_id": "1056a6c67708428cac87081b592c3acf",
        "deepnote_cell_type": "text-cell-h3",
        "formattedRanges": [],
        "id": "SsWtChl5PrwM",
        "is_collapsed": false,
        "tags": []
      },
      "source": [
        "### 13. The first column in the CSV file holds index values of the dataframe. Read it so that the first column goes as the index column of the dataframe."
      ]
    },
    {
      "cell_type": "code",
      "execution_count": 37,
      "metadata": {
        "cell_id": "6b910dc50ef14e558183ece164dd34e7",
        "deepnote_cell_type": "code",
        "deepnote_to_be_reexecuted": false,
        "execution_millis": 14,
        "execution_start": 1659897460042,
        "id": "VMjmk3XdPrwM",
        "outputId": "887a699b-e70b-4163-c5b0-4f9280ee969d",
        "source_hash": "6f4f6738",
        "tags": []
      },
      "outputs": [
        {
          "name": "stdout",
          "output_type": "stream",
          "text": [
            "   col1  col2  col3\n",
            "0     1     2     3\n",
            "1     4     5     6\n",
            "2     7     8     9\n"
          ]
        }
      ],
      "source": [
        "csv_file = \"input_data/file5.csv\"\n",
        "\n",
        "df = pd.read_csv(csv_file, index_col=0, header=0)\n",
        "print(df)"
      ]
    },
    {
      "cell_type": "markdown",
      "metadata": {
        "cell_id": "749a612e37d5450fa50cbbb1069605fa",
        "deepnote_cell_type": "text-cell-h3",
        "formattedRanges": [],
        "id": "LM-731B2PrwN",
        "is_collapsed": false,
        "tags": []
      },
      "source": [
        "### 14. There are 9 data rows in the CSV file. Read only the first 4 of them."
      ]
    },
    {
      "cell_type": "markdown",
      "metadata": {
        "cell_id": "ed48b92ae82e461190405bad227fd38e",
        "deepnote_cell_type": "text-cell-p",
        "formattedRanges": [
          {
            "fromCodePoint": 0,
            "marks": {
              "bold": true
            },
            "toCodePoint": 100
          }
        ],
        "id": "xXdCY-UsPrwN",
        "is_collapsed": false,
        "tags": []
      },
      "source": [
        "Note: You should NOT read the whole CSV file and use the head() method to select the first 4 rows. 🚫"
      ]
    },
    {
      "cell_type": "code",
      "execution_count": 40,
      "metadata": {
        "cell_id": "31944423ea9f473eb632efa25beb1e3a",
        "deepnote_cell_height": 115,
        "deepnote_cell_type": "code",
        "id": "AUgI5-K9PrwN",
        "outputId": "1df470e7-471f-45dc-90fc-1dca2c16baca",
        "tags": []
      },
      "outputs": [
        {
          "name": "stdout",
          "output_type": "stream",
          "text": [
            "   col1  col2  col3\n",
            "0     1     2     3\n",
            "1     4     5     6\n",
            "2     7     8     9\n",
            "3     1     2     3\n"
          ]
        }
      ],
      "source": [
        "csv_file = \"input_data/file6.csv\"\n",
        "\n",
        "df = pd.read_csv(csv_file, nrows=4)\n",
        "print(df)"
      ]
    },
    {
      "cell_type": "markdown",
      "metadata": {
        "cell_id": "b868eef4ed9745ddb43d318872c2b544",
        "deepnote_cell_type": "text-cell-h2",
        "formattedRanges": [],
        "id": "aBDs2FtVPrwN",
        "is_collapsed": false,
        "tags": []
      },
      "source": [
        "## Output Operations to CSV in Pandas"
      ]
    },
    {
      "cell_type": "markdown",
      "metadata": {
        "cell_id": "4b17329401414c36856ca40b2b8dcbdc",
        "deepnote_cell_type": "text-cell-h3",
        "formattedRanges": [],
        "id": "nuepZbpWPrwN",
        "is_collapsed": false,
        "tags": []
      },
      "source": [
        "### 16. Given the dataframe \"df\", store it to a CSV File (with the index values)."
      ]
    },
    {
      "cell_type": "code",
      "execution_count": 45,
      "metadata": {
        "cell_id": "b20aa89229a7415faacffa8aa7005698",
        "deepnote_cell_type": "code",
        "deepnote_to_be_reexecuted": false,
        "execution_millis": 1,
        "execution_start": 1659898703469,
        "id": "zgLbG2WKPrwN",
        "source_hash": "a0acabfa",
        "tags": []
      },
      "outputs": [],
      "source": [
        "df = pd.DataFrame([[1,2,3], [4,5,6]],\n",
        "                  columns = [\"col1\", \"col2\", \"col3\"])\n",
        "\n",
        "csv_file = \"output_data/file1.csv\"\n",
        "\n",
        "## Start your code here\n",
        "df.to_csv(csv_file)\n",
        "\n",
        "\n",
        "## End your code here"
      ]
    },
    {
      "cell_type": "markdown",
      "metadata": {
        "cell_id": "87c763b753ee4fbfa191b663c4830fc8",
        "deepnote_cell_type": "text-cell-h3",
        "formattedRanges": [],
        "id": "wdcazmCcPrwW",
        "is_collapsed": false,
        "tags": []
      },
      "source": [
        "### 17. Given the dataframe \"df\", store it to a CSV File without the index column this time."
      ]
    },
    {
      "cell_type": "code",
      "execution_count": 46,
      "metadata": {
        "cell_id": "55d0e76c18d4462aa24a9f76a4560f48",
        "deepnote_cell_height": 241,
        "deepnote_cell_type": "code",
        "id": "mgVezk5QPrwW",
        "tags": []
      },
      "outputs": [],
      "source": [
        "df = pd.DataFrame([[1,2,3], [4,5,6]],\n",
        "                  columns = [\"col1\", \"col2\", \"col3\"])\n",
        "\n",
        "csv_file = \"output_data/file2.csv\"\n",
        "\n",
        "## Start your code here\n",
        "df.to_csv(csv_file, index=False)\n",
        "\n",
        "## End your code here\n"
      ]
    },
    {
      "cell_type": "markdown",
      "metadata": {
        "cell_id": "6b27e6de89e44613a9a0b497fd8a96a0",
        "deepnote_cell_type": "text-cell-h3",
        "formattedRanges": [],
        "id": "tHwkqZsIPrwW",
        "is_collapsed": false,
        "tags": []
      },
      "source": [
        "### 20. Given a dataframe \"df\" with three columns -- \"col1\", \"col2\" and \"col3\". Store the DataFrame to a CSV file without the column row ( and without the index values)."
      ]
    },
    {
      "cell_type": "code",
      "execution_count": 47,
      "metadata": {
        "cell_id": "52df84f7732a4015a50c32a98328d324",
        "deepnote_cell_height": 241,
        "deepnote_cell_type": "code",
        "id": "gFf4mjEzPrwW",
        "tags": []
      },
      "outputs": [],
      "source": [
        "df = pd.DataFrame([[1,2,3], [4,5,6]],\n",
        "                  columns = [\"col1\", \"col2\", \"col3\"])\n",
        "\n",
        "csv_file = \"output_data/file5.csv\"\n",
        "\n",
        "\n",
        "## Start your code here\n",
        "\n",
        "df.to_csv(csv_file, header=False)\n",
        "\n",
        "## End your code here"
      ]
    },
    {
      "cell_type": "markdown",
      "metadata": {
        "id": "GSKwWPdCPrwW"
      },
      "source": [
        "# Pandas Notebook 2"
      ]
    },
    {
      "cell_type": "markdown",
      "metadata": {
        "id": "VFqeQ--1PrwW"
      },
      "source": [
        "### 31. Read the CSV file."
      ]
    },
    {
      "cell_type": "code",
      "execution_count": 15,
      "metadata": {
        "id": "_-ersSFqPrwX"
      },
      "outputs": [],
      "source": [
        "import pandas as pd\n",
        "import numpy as np"
      ]
    },
    {
      "cell_type": "code",
      "execution_count": 3,
      "metadata": {
        "id": "x6yBFs31PrwX",
        "outputId": "e550d96b-09c4-4735-c41a-92c9dacefcac"
      },
      "outputs": [
        {
          "data": {
            "text/html": [
              "<div>\n",
              "<style scoped>\n",
              "    .dataframe tbody tr th:only-of-type {\n",
              "        vertical-align: middle;\n",
              "    }\n",
              "\n",
              "    .dataframe tbody tr th {\n",
              "        vertical-align: top;\n",
              "    }\n",
              "\n",
              "    .dataframe thead th {\n",
              "        text-align: right;\n",
              "    }\n",
              "</style>\n",
              "<table border=\"1\" class=\"dataframe\">\n",
              "  <thead>\n",
              "    <tr style=\"text-align: right;\">\n",
              "      <th></th>\n",
              "      <th>Name</th>\n",
              "      <th>Company_Name</th>\n",
              "      <th>Employee_Job_Title</th>\n",
              "      <th>Employee_City</th>\n",
              "      <th>Employee_Country</th>\n",
              "      <th>Employee_Salary</th>\n",
              "      <th>Employment_Status</th>\n",
              "      <th>Employee_Rating</th>\n",
              "    </tr>\n",
              "  </thead>\n",
              "  <tbody>\n",
              "    <tr>\n",
              "      <th>0</th>\n",
              "      <td>Spencer Adkins</td>\n",
              "      <td>James and Sons</td>\n",
              "      <td>Equities trader</td>\n",
              "      <td>New Russellton</td>\n",
              "      <td>Palestinian Territory</td>\n",
              "      <td>321520</td>\n",
              "      <td>Full Time</td>\n",
              "      <td>3.9</td>\n",
              "    </tr>\n",
              "    <tr>\n",
              "      <th>1</th>\n",
              "      <td>Julie Morton</td>\n",
              "      <td>Nichols-James</td>\n",
              "      <td>Diplomatic Services operational officer</td>\n",
              "      <td>North Melissafurt</td>\n",
              "      <td>Marshall Islands</td>\n",
              "      <td>589090</td>\n",
              "      <td>Full Time</td>\n",
              "      <td>4.3</td>\n",
              "    </tr>\n",
              "    <tr>\n",
              "      <th>2</th>\n",
              "      <td>Matthew Hall</td>\n",
              "      <td>Scott Inc</td>\n",
              "      <td>Regulatory affairs officer</td>\n",
              "      <td>Wardfort</td>\n",
              "      <td>Anguilla</td>\n",
              "      <td>630890</td>\n",
              "      <td>Full Time</td>\n",
              "      <td>3.1</td>\n",
              "    </tr>\n",
              "    <tr>\n",
              "      <th>3</th>\n",
              "      <td>Brad Scott</td>\n",
              "      <td>Johnston, Fleming and Tanner</td>\n",
              "      <td>Production engineer</td>\n",
              "      <td>West Jamesview</td>\n",
              "      <td>Syrian Arab Republic</td>\n",
              "      <td>116400</td>\n",
              "      <td>Full Time</td>\n",
              "      <td>3.1</td>\n",
              "    </tr>\n",
              "    <tr>\n",
              "      <th>4</th>\n",
              "      <td>Theresa Owens</td>\n",
              "      <td>Baker, Allen and Edwards</td>\n",
              "      <td>Production engineer</td>\n",
              "      <td>Whiteside</td>\n",
              "      <td>Dominica</td>\n",
              "      <td>523499</td>\n",
              "      <td>Full Time</td>\n",
              "      <td>4.8</td>\n",
              "    </tr>\n",
              "    <tr>\n",
              "      <th>...</th>\n",
              "      <td>...</td>\n",
              "      <td>...</td>\n",
              "      <td>...</td>\n",
              "      <td>...</td>\n",
              "      <td>...</td>\n",
              "      <td>...</td>\n",
              "      <td>...</td>\n",
              "      <td>...</td>\n",
              "    </tr>\n",
              "    <tr>\n",
              "      <th>299995</th>\n",
              "      <td>Nancy Neal</td>\n",
              "      <td>Bullock-Carrillo</td>\n",
              "      <td>Optometrist</td>\n",
              "      <td>North Melissafurt</td>\n",
              "      <td>Samoa</td>\n",
              "      <td>99670</td>\n",
              "      <td>Intern</td>\n",
              "      <td>3.3</td>\n",
              "    </tr>\n",
              "    <tr>\n",
              "      <th>299996</th>\n",
              "      <td>Michele Butler</td>\n",
              "      <td>Johnston, Fleming and Tanner</td>\n",
              "      <td>Administrator</td>\n",
              "      <td>Aliciafort</td>\n",
              "      <td>Cuba</td>\n",
              "      <td>949580</td>\n",
              "      <td>Intern</td>\n",
              "      <td>2.6</td>\n",
              "    </tr>\n",
              "    <tr>\n",
              "      <th>299997</th>\n",
              "      <td>Lynn Wilson</td>\n",
              "      <td>Nichols-James</td>\n",
              "      <td>Administrator</td>\n",
              "      <td>New Cindychester</td>\n",
              "      <td>Bolivia</td>\n",
              "      <td>802830</td>\n",
              "      <td>Full Time</td>\n",
              "      <td>0.6</td>\n",
              "    </tr>\n",
              "    <tr>\n",
              "      <th>299998</th>\n",
              "      <td>Lindsey Keith</td>\n",
              "      <td>Nichols-James</td>\n",
              "      <td>Make</td>\n",
              "      <td>Whitakerbury</td>\n",
              "      <td>Western Sahara</td>\n",
              "      <td>257240</td>\n",
              "      <td>Full Time</td>\n",
              "      <td>2.4</td>\n",
              "    </tr>\n",
              "    <tr>\n",
              "      <th>299999</th>\n",
              "      <td>Karen Delgado</td>\n",
              "      <td>James and Sons</td>\n",
              "      <td>Actuary</td>\n",
              "      <td>New Russellton</td>\n",
              "      <td>United Kingdom</td>\n",
              "      <td>575770</td>\n",
              "      <td>Intern</td>\n",
              "      <td>3.3</td>\n",
              "    </tr>\n",
              "  </tbody>\n",
              "</table>\n",
              "<p>300000 rows × 8 columns</p>\n",
              "</div>"
            ],
            "text/plain": [
              "                  Name                  Company_Name  \\\n",
              "0       Spencer Adkins                James and Sons   \n",
              "1         Julie Morton                 Nichols-James   \n",
              "2         Matthew Hall                     Scott Inc   \n",
              "3           Brad Scott  Johnston, Fleming and Tanner   \n",
              "4        Theresa Owens      Baker, Allen and Edwards   \n",
              "...                ...                           ...   \n",
              "299995      Nancy Neal              Bullock-Carrillo   \n",
              "299996  Michele Butler  Johnston, Fleming and Tanner   \n",
              "299997     Lynn Wilson                 Nichols-James   \n",
              "299998   Lindsey Keith                 Nichols-James   \n",
              "299999   Karen Delgado                James and Sons   \n",
              "\n",
              "                             Employee_Job_Title      Employee_City  \\\n",
              "0                               Equities trader     New Russellton   \n",
              "1       Diplomatic Services operational officer  North Melissafurt   \n",
              "2                    Regulatory affairs officer           Wardfort   \n",
              "3                           Production engineer     West Jamesview   \n",
              "4                           Production engineer          Whiteside   \n",
              "...                                         ...                ...   \n",
              "299995                              Optometrist  North Melissafurt   \n",
              "299996                            Administrator         Aliciafort   \n",
              "299997                            Administrator   New Cindychester   \n",
              "299998                                     Make       Whitakerbury   \n",
              "299999                                  Actuary     New Russellton   \n",
              "\n",
              "             Employee_Country  Employee_Salary Employment_Status  \\\n",
              "0       Palestinian Territory           321520         Full Time   \n",
              "1            Marshall Islands           589090         Full Time   \n",
              "2                    Anguilla           630890         Full Time   \n",
              "3        Syrian Arab Republic           116400         Full Time   \n",
              "4                    Dominica           523499         Full Time   \n",
              "...                       ...              ...               ...   \n",
              "299995                  Samoa            99670            Intern   \n",
              "299996                   Cuba           949580            Intern   \n",
              "299997                Bolivia           802830         Full Time   \n",
              "299998         Western Sahara           257240         Full Time   \n",
              "299999         United Kingdom           575770            Intern   \n",
              "\n",
              "        Employee_Rating  \n",
              "0                   3.9  \n",
              "1                   4.3  \n",
              "2                   3.1  \n",
              "3                   3.1  \n",
              "4                   4.8  \n",
              "...                 ...  \n",
              "299995              3.3  \n",
              "299996              2.6  \n",
              "299997              0.6  \n",
              "299998              2.4  \n",
              "299999              3.3  \n",
              "\n",
              "[300000 rows x 8 columns]"
            ]
          },
          "execution_count": 3,
          "metadata": {},
          "output_type": "execute_result"
        }
      ],
      "source": [
        "file_name = \"./input_data/employee_dataset.csv\"\n",
        "\n",
        "df = pd.read_csv(file_name)\n",
        "df"
      ]
    },
    {
      "cell_type": "markdown",
      "metadata": {
        "id": "XmJRacR1PrwX"
      },
      "source": [
        "### 32. Print the first 5 rows."
      ]
    },
    {
      "cell_type": "code",
      "execution_count": 5,
      "metadata": {
        "id": "4WdBnJf4PrwX",
        "outputId": "a6779412-dae4-4cd9-a39a-4738e8c62dfd"
      },
      "outputs": [
        {
          "data": {
            "text/html": [
              "<div>\n",
              "<style scoped>\n",
              "    .dataframe tbody tr th:only-of-type {\n",
              "        vertical-align: middle;\n",
              "    }\n",
              "\n",
              "    .dataframe tbody tr th {\n",
              "        vertical-align: top;\n",
              "    }\n",
              "\n",
              "    .dataframe thead th {\n",
              "        text-align: right;\n",
              "    }\n",
              "</style>\n",
              "<table border=\"1\" class=\"dataframe\">\n",
              "  <thead>\n",
              "    <tr style=\"text-align: right;\">\n",
              "      <th></th>\n",
              "      <th>Name</th>\n",
              "      <th>Company_Name</th>\n",
              "      <th>Employee_Job_Title</th>\n",
              "      <th>Employee_City</th>\n",
              "      <th>Employee_Country</th>\n",
              "      <th>Employee_Salary</th>\n",
              "      <th>Employment_Status</th>\n",
              "      <th>Employee_Rating</th>\n",
              "    </tr>\n",
              "  </thead>\n",
              "  <tbody>\n",
              "    <tr>\n",
              "      <th>0</th>\n",
              "      <td>Spencer Adkins</td>\n",
              "      <td>James and Sons</td>\n",
              "      <td>Equities trader</td>\n",
              "      <td>New Russellton</td>\n",
              "      <td>Palestinian Territory</td>\n",
              "      <td>321520</td>\n",
              "      <td>Full Time</td>\n",
              "      <td>3.9</td>\n",
              "    </tr>\n",
              "    <tr>\n",
              "      <th>1</th>\n",
              "      <td>Julie Morton</td>\n",
              "      <td>Nichols-James</td>\n",
              "      <td>Diplomatic Services operational officer</td>\n",
              "      <td>North Melissafurt</td>\n",
              "      <td>Marshall Islands</td>\n",
              "      <td>589090</td>\n",
              "      <td>Full Time</td>\n",
              "      <td>4.3</td>\n",
              "    </tr>\n",
              "    <tr>\n",
              "      <th>2</th>\n",
              "      <td>Matthew Hall</td>\n",
              "      <td>Scott Inc</td>\n",
              "      <td>Regulatory affairs officer</td>\n",
              "      <td>Wardfort</td>\n",
              "      <td>Anguilla</td>\n",
              "      <td>630890</td>\n",
              "      <td>Full Time</td>\n",
              "      <td>3.1</td>\n",
              "    </tr>\n",
              "    <tr>\n",
              "      <th>3</th>\n",
              "      <td>Brad Scott</td>\n",
              "      <td>Johnston, Fleming and Tanner</td>\n",
              "      <td>Production engineer</td>\n",
              "      <td>West Jamesview</td>\n",
              "      <td>Syrian Arab Republic</td>\n",
              "      <td>116400</td>\n",
              "      <td>Full Time</td>\n",
              "      <td>3.1</td>\n",
              "    </tr>\n",
              "    <tr>\n",
              "      <th>4</th>\n",
              "      <td>Theresa Owens</td>\n",
              "      <td>Baker, Allen and Edwards</td>\n",
              "      <td>Production engineer</td>\n",
              "      <td>Whiteside</td>\n",
              "      <td>Dominica</td>\n",
              "      <td>523499</td>\n",
              "      <td>Full Time</td>\n",
              "      <td>4.8</td>\n",
              "    </tr>\n",
              "  </tbody>\n",
              "</table>\n",
              "</div>"
            ],
            "text/plain": [
              "             Name                  Company_Name  \\\n",
              "0  Spencer Adkins                James and Sons   \n",
              "1    Julie Morton                 Nichols-James   \n",
              "2    Matthew Hall                     Scott Inc   \n",
              "3      Brad Scott  Johnston, Fleming and Tanner   \n",
              "4   Theresa Owens      Baker, Allen and Edwards   \n",
              "\n",
              "                        Employee_Job_Title      Employee_City  \\\n",
              "0                          Equities trader     New Russellton   \n",
              "1  Diplomatic Services operational officer  North Melissafurt   \n",
              "2               Regulatory affairs officer           Wardfort   \n",
              "3                      Production engineer     West Jamesview   \n",
              "4                      Production engineer          Whiteside   \n",
              "\n",
              "        Employee_Country  Employee_Salary Employment_Status  Employee_Rating  \n",
              "0  Palestinian Territory           321520         Full Time              3.9  \n",
              "1       Marshall Islands           589090         Full Time              4.3  \n",
              "2               Anguilla           630890         Full Time              3.1  \n",
              "3   Syrian Arab Republic           116400         Full Time              3.1  \n",
              "4               Dominica           523499         Full Time              4.8  "
            ]
          },
          "execution_count": 5,
          "metadata": {},
          "output_type": "execute_result"
        }
      ],
      "source": [
        "df.head()"
      ]
    },
    {
      "cell_type": "markdown",
      "metadata": {
        "id": "APCFlDZ2PrwX"
      },
      "source": [
        "### 33. Print the last 10 rows."
      ]
    },
    {
      "cell_type": "code",
      "execution_count": 6,
      "metadata": {
        "id": "uEEn76mlPrwX",
        "outputId": "cbab0640-c940-4001-f336-55a838fe9d3e"
      },
      "outputs": [
        {
          "data": {
            "text/html": [
              "<div>\n",
              "<style scoped>\n",
              "    .dataframe tbody tr th:only-of-type {\n",
              "        vertical-align: middle;\n",
              "    }\n",
              "\n",
              "    .dataframe tbody tr th {\n",
              "        vertical-align: top;\n",
              "    }\n",
              "\n",
              "    .dataframe thead th {\n",
              "        text-align: right;\n",
              "    }\n",
              "</style>\n",
              "<table border=\"1\" class=\"dataframe\">\n",
              "  <thead>\n",
              "    <tr style=\"text-align: right;\">\n",
              "      <th></th>\n",
              "      <th>Name</th>\n",
              "      <th>Company_Name</th>\n",
              "      <th>Employee_Job_Title</th>\n",
              "      <th>Employee_City</th>\n",
              "      <th>Employee_Country</th>\n",
              "      <th>Employee_Salary</th>\n",
              "      <th>Employment_Status</th>\n",
              "      <th>Employee_Rating</th>\n",
              "    </tr>\n",
              "  </thead>\n",
              "  <tbody>\n",
              "    <tr>\n",
              "      <th>299990</th>\n",
              "      <td>Monica Bender</td>\n",
              "      <td>Wallace, Smith and Shepard</td>\n",
              "      <td>Production engineer</td>\n",
              "      <td>New Cindychester</td>\n",
              "      <td>Bangladesh</td>\n",
              "      <td>852660</td>\n",
              "      <td>Full Time</td>\n",
              "      <td>3.0</td>\n",
              "    </tr>\n",
              "    <tr>\n",
              "      <th>299991</th>\n",
              "      <td>William Rodriguez</td>\n",
              "      <td>Scott Inc</td>\n",
              "      <td>Ergonomist</td>\n",
              "      <td>Whiteside</td>\n",
              "      <td>New Zealand</td>\n",
              "      <td>214400</td>\n",
              "      <td>Full Time</td>\n",
              "      <td>1.5</td>\n",
              "    </tr>\n",
              "    <tr>\n",
              "      <th>299992</th>\n",
              "      <td>Steven Thornton</td>\n",
              "      <td>Baker, Allen and Edwards</td>\n",
              "      <td>Patent examiner</td>\n",
              "      <td>Aliciafort</td>\n",
              "      <td>Benin</td>\n",
              "      <td>60240</td>\n",
              "      <td>Full Time</td>\n",
              "      <td>4.3</td>\n",
              "    </tr>\n",
              "    <tr>\n",
              "      <th>299993</th>\n",
              "      <td>Terry Hill</td>\n",
              "      <td>White, Mcclain and Cobb</td>\n",
              "      <td>Investment banker, corporate</td>\n",
              "      <td>New Cindychester</td>\n",
              "      <td>Sweden</td>\n",
              "      <td>414720</td>\n",
              "      <td>Intern</td>\n",
              "      <td>2.3</td>\n",
              "    </tr>\n",
              "    <tr>\n",
              "      <th>299994</th>\n",
              "      <td>Kelly Bennett</td>\n",
              "      <td>White, Mcclain and Cobb</td>\n",
              "      <td>Radiographer, therapeutic</td>\n",
              "      <td>Wardfort</td>\n",
              "      <td>Fiji</td>\n",
              "      <td>182270</td>\n",
              "      <td>Full Time</td>\n",
              "      <td>3.6</td>\n",
              "    </tr>\n",
              "    <tr>\n",
              "      <th>299995</th>\n",
              "      <td>Nancy Neal</td>\n",
              "      <td>Bullock-Carrillo</td>\n",
              "      <td>Optometrist</td>\n",
              "      <td>North Melissafurt</td>\n",
              "      <td>Samoa</td>\n",
              "      <td>99670</td>\n",
              "      <td>Intern</td>\n",
              "      <td>3.3</td>\n",
              "    </tr>\n",
              "    <tr>\n",
              "      <th>299996</th>\n",
              "      <td>Michele Butler</td>\n",
              "      <td>Johnston, Fleming and Tanner</td>\n",
              "      <td>Administrator</td>\n",
              "      <td>Aliciafort</td>\n",
              "      <td>Cuba</td>\n",
              "      <td>949580</td>\n",
              "      <td>Intern</td>\n",
              "      <td>2.6</td>\n",
              "    </tr>\n",
              "    <tr>\n",
              "      <th>299997</th>\n",
              "      <td>Lynn Wilson</td>\n",
              "      <td>Nichols-James</td>\n",
              "      <td>Administrator</td>\n",
              "      <td>New Cindychester</td>\n",
              "      <td>Bolivia</td>\n",
              "      <td>802830</td>\n",
              "      <td>Full Time</td>\n",
              "      <td>0.6</td>\n",
              "    </tr>\n",
              "    <tr>\n",
              "      <th>299998</th>\n",
              "      <td>Lindsey Keith</td>\n",
              "      <td>Nichols-James</td>\n",
              "      <td>Make</td>\n",
              "      <td>Whitakerbury</td>\n",
              "      <td>Western Sahara</td>\n",
              "      <td>257240</td>\n",
              "      <td>Full Time</td>\n",
              "      <td>2.4</td>\n",
              "    </tr>\n",
              "    <tr>\n",
              "      <th>299999</th>\n",
              "      <td>Karen Delgado</td>\n",
              "      <td>James and Sons</td>\n",
              "      <td>Actuary</td>\n",
              "      <td>New Russellton</td>\n",
              "      <td>United Kingdom</td>\n",
              "      <td>575770</td>\n",
              "      <td>Intern</td>\n",
              "      <td>3.3</td>\n",
              "    </tr>\n",
              "  </tbody>\n",
              "</table>\n",
              "</div>"
            ],
            "text/plain": [
              "                     Name                  Company_Name  \\\n",
              "299990      Monica Bender    Wallace, Smith and Shepard   \n",
              "299991  William Rodriguez                     Scott Inc   \n",
              "299992    Steven Thornton      Baker, Allen and Edwards   \n",
              "299993         Terry Hill       White, Mcclain and Cobb   \n",
              "299994      Kelly Bennett       White, Mcclain and Cobb   \n",
              "299995         Nancy Neal              Bullock-Carrillo   \n",
              "299996     Michele Butler  Johnston, Fleming and Tanner   \n",
              "299997        Lynn Wilson                 Nichols-James   \n",
              "299998      Lindsey Keith                 Nichols-James   \n",
              "299999      Karen Delgado                James and Sons   \n",
              "\n",
              "                  Employee_Job_Title      Employee_City Employee_Country  \\\n",
              "299990           Production engineer   New Cindychester       Bangladesh   \n",
              "299991                    Ergonomist          Whiteside      New Zealand   \n",
              "299992               Patent examiner         Aliciafort            Benin   \n",
              "299993  Investment banker, corporate   New Cindychester           Sweden   \n",
              "299994     Radiographer, therapeutic           Wardfort             Fiji   \n",
              "299995                   Optometrist  North Melissafurt            Samoa   \n",
              "299996                 Administrator         Aliciafort             Cuba   \n",
              "299997                 Administrator   New Cindychester          Bolivia   \n",
              "299998                          Make       Whitakerbury   Western Sahara   \n",
              "299999                       Actuary     New Russellton   United Kingdom   \n",
              "\n",
              "        Employee_Salary Employment_Status  Employee_Rating  \n",
              "299990           852660         Full Time              3.0  \n",
              "299991           214400         Full Time              1.5  \n",
              "299992            60240         Full Time              4.3  \n",
              "299993           414720            Intern              2.3  \n",
              "299994           182270         Full Time              3.6  \n",
              "299995            99670            Intern              3.3  \n",
              "299996           949580            Intern              2.6  \n",
              "299997           802830         Full Time              0.6  \n",
              "299998           257240         Full Time              2.4  \n",
              "299999           575770            Intern              3.3  "
            ]
          },
          "execution_count": 6,
          "metadata": {},
          "output_type": "execute_result"
        }
      ],
      "source": [
        "df.tail(10)"
      ]
    },
    {
      "cell_type": "markdown",
      "metadata": {
        "id": "XQu3QOWnPrwX"
      },
      "source": [
        "### 34. Print the number of rows."
      ]
    },
    {
      "cell_type": "code",
      "execution_count": 10,
      "metadata": {
        "id": "LVuW2KyBPrwX",
        "outputId": "31aad053-0d93-4f84-92a4-f667fe260c73"
      },
      "outputs": [
        {
          "name": "stdout",
          "output_type": "stream",
          "text": [
            "300000\n"
          ]
        }
      ],
      "source": [
        "rows = df.shape[0]\n",
        "\n",
        "print(rows)"
      ]
    },
    {
      "cell_type": "markdown",
      "metadata": {
        "id": "RAtkgGJ8PrwX"
      },
      "source": [
        "### 35. Print the number of columns."
      ]
    },
    {
      "cell_type": "code",
      "execution_count": 11,
      "metadata": {
        "id": "a3K7hJLwPrwX",
        "outputId": "e0fd1cc1-ac56-496a-f871-fa342411a721"
      },
      "outputs": [
        {
          "name": "stdout",
          "output_type": "stream",
          "text": [
            "8\n"
          ]
        }
      ],
      "source": [
        "columns = df.shape[1]\n",
        "\n",
        "print(columns)"
      ]
    },
    {
      "cell_type": "markdown",
      "metadata": {
        "id": "llk62JB8PrwX"
      },
      "source": [
        "### 36. Print all column names."
      ]
    },
    {
      "cell_type": "code",
      "execution_count": 12,
      "metadata": {
        "id": "TJNj1UP_PrwX",
        "outputId": "6642a8c2-9cb0-4a98-b60d-0c185bede061"
      },
      "outputs": [
        {
          "name": "stdout",
          "output_type": "stream",
          "text": [
            "Index(['Name', 'Company_Name', 'Employee_Job_Title', 'Employee_City',\n",
            "       'Employee_Country', 'Employee_Salary', 'Employment_Status',\n",
            "       'Employee_Rating'],\n",
            "      dtype='object')\n"
          ]
        }
      ],
      "source": [
        "column_names = df.columns\n",
        "\n",
        "print(column_names)"
      ]
    },
    {
      "cell_type": "markdown",
      "metadata": {
        "id": "qf8vBkmyPrwX"
      },
      "source": [
        "### 37. Print the mean of Employee_Salary."
      ]
    },
    {
      "cell_type": "code",
      "execution_count": 16,
      "metadata": {
        "id": "12bXx7WfPrwX",
        "outputId": "6d1a13ee-a904-4200-b154-70e4709f4d43"
      },
      "outputs": [
        {
          "data": {
            "text/plain": [
              "500224.20772666665"
            ]
          },
          "execution_count": 16,
          "metadata": {},
          "output_type": "execute_result"
        }
      ],
      "source": [
        "np.mean(df.Employee_Salary)"
      ]
    },
    {
      "cell_type": "markdown",
      "metadata": {
        "id": "7PYnhmQWPrwX"
      },
      "source": [
        "### 38. Print the mean of Employee_Rating."
      ]
    },
    {
      "cell_type": "code",
      "execution_count": 17,
      "metadata": {
        "id": "btehvsgwPrwX",
        "outputId": "2e860092-f3c9-486b-cf72-32e2c53c5de1"
      },
      "outputs": [
        {
          "data": {
            "text/plain": [
              "2.5059550000000006"
            ]
          },
          "execution_count": 17,
          "metadata": {},
          "output_type": "execute_result"
        }
      ],
      "source": [
        "np.mean(df.Employee_Rating)"
      ]
    },
    {
      "cell_type": "markdown",
      "metadata": {
        "id": "mylxBbcQPrwX"
      },
      "source": [
        "### 39. Print the number of distinct Company_Name."
      ]
    },
    {
      "cell_type": "code",
      "execution_count": 20,
      "metadata": {
        "id": "-yAkgBsAPrwX",
        "outputId": "320cf2e6-407a-4610-e8e3-5a7240391d4d"
      },
      "outputs": [
        {
          "data": {
            "text/plain": [
              "15"
            ]
          },
          "execution_count": 20,
          "metadata": {},
          "output_type": "execute_result"
        }
      ],
      "source": [
        "len(df.Company_Name.unique())"
      ]
    },
    {
      "cell_type": "markdown",
      "metadata": {
        "id": "XkagEMCFPrwY"
      },
      "source": [
        "### 41. Print the number of employees working in the company \"Nichols-James\".  "
      ]
    },
    {
      "cell_type": "code",
      "execution_count": 26,
      "metadata": {
        "id": "U-8gbhzEPrwY",
        "outputId": "eb3d3fb3-7058-4ba6-ed43-7ce910f31ec4"
      },
      "outputs": [
        {
          "data": {
            "text/plain": [
              "19911"
            ]
          },
          "execution_count": 26,
          "metadata": {},
          "output_type": "execute_result"
        }
      ],
      "source": [
        "len(df[df.Company_Name == 'Nichols-James'])"
      ]
    },
    {
      "cell_type": "markdown",
      "metadata": {
        "id": "d7zwEeF5PrwY"
      },
      "source": [
        "### 42-44. Print the maximum, minimum and median Employee_Salary."
      ]
    },
    {
      "cell_type": "code",
      "execution_count": 47,
      "metadata": {
        "id": "f4eQPFdwPrwY",
        "outputId": "ff29e63a-8365-4d15-f8ad-be9cc5671dfe"
      },
      "outputs": [
        {
          "data": {
            "text/plain": [
              "max    999990.0\n",
              "min         0.0\n",
              "50%    500780.0\n",
              "Name: Employee_Salary, dtype: float64"
            ]
          },
          "execution_count": 47,
          "metadata": {},
          "output_type": "execute_result"
        }
      ],
      "source": [
        "df.Employee_Salary.describe().loc[['max', 'min', '50%']]"
      ]
    },
    {
      "cell_type": "markdown",
      "metadata": {
        "id": "aFdXcVNePrwY"
      },
      "source": [
        "### 45-49. Print the distribution of the following columns: (the frequency of individual entries)."
      ]
    },
    {
      "cell_type": "markdown",
      "metadata": {
        "id": "FSlgQOKiPrwY"
      },
      "source": [
        "1. Company_Name"
      ]
    },
    {
      "cell_type": "code",
      "execution_count": 50,
      "metadata": {
        "id": "IjxXFbsDPrwY",
        "outputId": "20aa460b-2cf7-41f7-c4f3-c63a1cb9f2e1"
      },
      "outputs": [
        {
          "data": {
            "text/plain": [
              "Company_Name\n",
              "Scott Inc                         20390\n",
              "White, Mcclain and Cobb           20261\n",
              "Thomas-Spencer                    20142\n",
              "Nelson-Li                         20132\n",
              "Taylor-Ramos                      20122\n",
              "Baker, Allen and Edwards          20084\n",
              "Matthews Inc                      20083\n",
              "Bullock-Carrillo                  20063\n",
              "Andrade LLC                       19983\n",
              "Campos, Reynolds and Mccormick    19927\n",
              "Nichols-James                     19911\n",
              "James and Sons                    19868\n",
              "Marshall-Holloway                 19859\n",
              "Johnston, Fleming and Tanner      19811\n",
              "Wallace, Smith and Shepard        19364\n",
              "Name: count, dtype: int64"
            ]
          },
          "execution_count": 50,
          "metadata": {},
          "output_type": "execute_result"
        }
      ],
      "source": [
        "df.Company_Name.value_counts()"
      ]
    },
    {
      "cell_type": "markdown",
      "metadata": {
        "id": "NimbOVX_PrwY"
      },
      "source": [
        "2. Employee_Job_Title"
      ]
    },
    {
      "cell_type": "code",
      "execution_count": 51,
      "metadata": {
        "id": "bebAo5qoPrwY",
        "outputId": "2029008b-0c98-443b-9b8b-64c3402490e5"
      },
      "outputs": [
        {
          "data": {
            "text/plain": [
              "Employee_Job_Title\n",
              "Diplomatic Services operational officer                  30137\n",
              "Administrator                                            15222\n",
              "Garment/textile technologist                             15183\n",
              "Trading standards officer                                15155\n",
              "Patent examiner                                          15085\n",
              "Armed forces logistics/support/administrative officer    15050\n",
              "Retail merchandiser                                      15033\n",
              "Energy manager                                           15033\n",
              "Actuary                                                  15030\n",
              "Investment banker, corporate                             15008\n",
              "Ergonomist                                               15006\n",
              "Production engineer                                      15003\n",
              "Equities trader                                          15000\n",
              "Naval architect                                          14905\n",
              "Radiographer, therapeutic                                14882\n",
              "Regulatory affairs officer                               14869\n",
              "Optometrist                                              14838\n",
              "Sales promotion account executive                        14820\n",
              "Make                                                     14741\n",
              "Name: count, dtype: int64"
            ]
          },
          "execution_count": 51,
          "metadata": {},
          "output_type": "execute_result"
        }
      ],
      "source": [
        "df.Employee_Job_Title.value_counts()"
      ]
    },
    {
      "cell_type": "markdown",
      "metadata": {
        "id": "TfBuJvLePrwY"
      },
      "source": [
        "### 50. Print the company with the most number of employees."
      ]
    },
    {
      "cell_type": "code",
      "execution_count": 74,
      "metadata": {
        "id": "lSXzBowJPrwY",
        "outputId": "5663b677-21af-4f62-9e8c-8d61aa7adb51"
      },
      "outputs": [
        {
          "data": {
            "text/plain": [
              "'Scott Inc'"
            ]
          },
          "execution_count": 74,
          "metadata": {},
          "output_type": "execute_result"
        }
      ],
      "source": [
        "df.Company_Name.value_counts().idxmax()"
      ]
    },
    {
      "cell_type": "markdown",
      "metadata": {
        "id": "u95QrsOVPrwY"
      },
      "source": [
        "### 51. Print the number of employees in the above company."
      ]
    },
    {
      "cell_type": "code",
      "execution_count": 77,
      "metadata": {
        "id": "xXwX0iOgPrwY",
        "outputId": "708dd5d9-f1b1-4aa3-f355-90dfa26cd472"
      },
      "outputs": [
        {
          "data": {
            "text/plain": [
              "20390"
            ]
          },
          "execution_count": 77,
          "metadata": {},
          "output_type": "execute_result"
        }
      ],
      "source": [
        "df.Company_Name.value_counts().max()"
      ]
    },
    {
      "cell_type": "markdown",
      "metadata": {
        "id": "rRQAG5ntPrwY"
      },
      "source": [
        "### 52. Print the company with the least number of employees."
      ]
    },
    {
      "cell_type": "code",
      "execution_count": 79,
      "metadata": {
        "id": "MaUlGFR2PrwY",
        "outputId": "675af464-4854-40c7-c93a-2c6a5cb93bbe"
      },
      "outputs": [
        {
          "data": {
            "text/plain": [
              "'Wallace, Smith and Shepard'"
            ]
          },
          "execution_count": 79,
          "metadata": {},
          "output_type": "execute_result"
        }
      ],
      "source": [
        "df.Company_Name.value_counts().idxmin()"
      ]
    },
    {
      "cell_type": "markdown",
      "metadata": {
        "id": "yE18ZOllPrwY"
      },
      "source": [
        "### 53. Print the number of employees in the above company."
      ]
    },
    {
      "cell_type": "code",
      "execution_count": 81,
      "metadata": {
        "id": "OGQFGKPZPrwY",
        "outputId": "42c5c396-4113-443d-f912-926c4fe6b713"
      },
      "outputs": [
        {
          "data": {
            "text/plain": [
              "19364"
            ]
          },
          "execution_count": 81,
          "metadata": {},
          "output_type": "execute_result"
        }
      ],
      "source": [
        "df.Company_Name.value_counts().min()"
      ]
    },
    {
      "cell_type": "markdown",
      "metadata": {
        "id": "Qw-kWop5PrwY"
      },
      "source": [
        "### 54. Print the employee details with the maximum salary"
      ]
    },
    {
      "cell_type": "code",
      "execution_count": 100,
      "metadata": {
        "id": "gVCKGwVqPrwY",
        "outputId": "1968f648-0ba1-4bae-8bf4-acb7212b62fb"
      },
      "outputs": [
        {
          "data": {
            "text/html": [
              "<div>\n",
              "<style scoped>\n",
              "    .dataframe tbody tr th:only-of-type {\n",
              "        vertical-align: middle;\n",
              "    }\n",
              "\n",
              "    .dataframe tbody tr th {\n",
              "        vertical-align: top;\n",
              "    }\n",
              "\n",
              "    .dataframe thead th {\n",
              "        text-align: right;\n",
              "    }\n",
              "</style>\n",
              "<table border=\"1\" class=\"dataframe\">\n",
              "  <thead>\n",
              "    <tr style=\"text-align: right;\">\n",
              "      <th></th>\n",
              "      <th>Name</th>\n",
              "      <th>Company_Name</th>\n",
              "      <th>Employee_Job_Title</th>\n",
              "      <th>Employee_City</th>\n",
              "      <th>Employee_Country</th>\n",
              "      <th>Employee_Salary</th>\n",
              "      <th>Employment_Status</th>\n",
              "      <th>Employee_Rating</th>\n",
              "    </tr>\n",
              "  </thead>\n",
              "  <tbody>\n",
              "    <tr>\n",
              "      <th>70356</th>\n",
              "      <td>Anna Lawson</td>\n",
              "      <td>Taylor-Ramos</td>\n",
              "      <td>Production engineer</td>\n",
              "      <td>Kristaburgh</td>\n",
              "      <td>Lesotho</td>\n",
              "      <td>999990</td>\n",
              "      <td>Full Time</td>\n",
              "      <td>4.0</td>\n",
              "    </tr>\n",
              "  </tbody>\n",
              "</table>\n",
              "</div>"
            ],
            "text/plain": [
              "              Name  Company_Name   Employee_Job_Title Employee_City  \\\n",
              "70356  Anna Lawson  Taylor-Ramos  Production engineer   Kristaburgh   \n",
              "\n",
              "      Employee_Country  Employee_Salary Employment_Status  Employee_Rating  \n",
              "70356          Lesotho           999990         Full Time              4.0  "
            ]
          },
          "execution_count": 100,
          "metadata": {},
          "output_type": "execute_result"
        }
      ],
      "source": [
        "idx = df.Employee_Salary.max()\n",
        "df.loc[df.Employee_Salary == idx]"
      ]
    },
    {
      "cell_type": "markdown",
      "metadata": {
        "id": "NXIrPFpQPrwY"
      },
      "source": [
        "### 55. Print the employee details with the maximum rating"
      ]
    },
    {
      "cell_type": "code",
      "execution_count": 103,
      "metadata": {
        "id": "kuPwXUXYPrwZ",
        "outputId": "276e169f-ad31-45f9-df94-1858603d4d14"
      },
      "outputs": [
        {
          "data": {
            "text/html": [
              "<div>\n",
              "<style scoped>\n",
              "    .dataframe tbody tr th:only-of-type {\n",
              "        vertical-align: middle;\n",
              "    }\n",
              "\n",
              "    .dataframe tbody tr th {\n",
              "        vertical-align: top;\n",
              "    }\n",
              "\n",
              "    .dataframe thead th {\n",
              "        text-align: right;\n",
              "    }\n",
              "</style>\n",
              "<table border=\"1\" class=\"dataframe\">\n",
              "  <thead>\n",
              "    <tr style=\"text-align: right;\">\n",
              "      <th></th>\n",
              "      <th>Name</th>\n",
              "      <th>Company_Name</th>\n",
              "      <th>Employee_Job_Title</th>\n",
              "      <th>Employee_City</th>\n",
              "      <th>Employee_Country</th>\n",
              "      <th>Employee_Salary</th>\n",
              "      <th>Employment_Status</th>\n",
              "      <th>Employee_Rating</th>\n",
              "    </tr>\n",
              "  </thead>\n",
              "  <tbody>\n",
              "    <tr>\n",
              "      <th>124</th>\n",
              "      <td>Joshua Huffman</td>\n",
              "      <td>James and Sons</td>\n",
              "      <td>Garment/textile technologist</td>\n",
              "      <td>New Russellton</td>\n",
              "      <td>Cook Islands</td>\n",
              "      <td>694760</td>\n",
              "      <td>Full Time</td>\n",
              "      <td>5.0</td>\n",
              "    </tr>\n",
              "    <tr>\n",
              "      <th>342</th>\n",
              "      <td>Alan Carlson</td>\n",
              "      <td>Baker, Allen and Edwards</td>\n",
              "      <td>Diplomatic Services operational officer</td>\n",
              "      <td>Kristaburgh</td>\n",
              "      <td>Mongolia</td>\n",
              "      <td>491710</td>\n",
              "      <td>Intern</td>\n",
              "      <td>5.0</td>\n",
              "    </tr>\n",
              "    <tr>\n",
              "      <th>391</th>\n",
              "      <td>Lisa Summers</td>\n",
              "      <td>Johnston, Fleming and Tanner</td>\n",
              "      <td>Regulatory affairs officer</td>\n",
              "      <td>North Melissafurt</td>\n",
              "      <td>Togo</td>\n",
              "      <td>933500</td>\n",
              "      <td>Full Time</td>\n",
              "      <td>5.0</td>\n",
              "    </tr>\n",
              "    <tr>\n",
              "      <th>395</th>\n",
              "      <td>Timothy Woods</td>\n",
              "      <td>Johnston, Fleming and Tanner</td>\n",
              "      <td>Garment/textile technologist</td>\n",
              "      <td>Whiteside</td>\n",
              "      <td>United States Virgin Islands</td>\n",
              "      <td>367630</td>\n",
              "      <td>Full Time</td>\n",
              "      <td>5.0</td>\n",
              "    </tr>\n",
              "    <tr>\n",
              "      <th>415</th>\n",
              "      <td>Cameron Hawkins</td>\n",
              "      <td>Taylor-Ramos</td>\n",
              "      <td>Armed forces logistics/support/administrative ...</td>\n",
              "      <td>Wardfort</td>\n",
              "      <td>Tanzania</td>\n",
              "      <td>66570</td>\n",
              "      <td>Intern</td>\n",
              "      <td>5.0</td>\n",
              "    </tr>\n",
              "    <tr>\n",
              "      <th>...</th>\n",
              "      <td>...</td>\n",
              "      <td>...</td>\n",
              "      <td>...</td>\n",
              "      <td>...</td>\n",
              "      <td>...</td>\n",
              "      <td>...</td>\n",
              "      <td>...</td>\n",
              "      <td>...</td>\n",
              "    </tr>\n",
              "    <tr>\n",
              "      <th>299689</th>\n",
              "      <td>Michael Jordan</td>\n",
              "      <td>Johnston, Fleming and Tanner</td>\n",
              "      <td>Naval architect</td>\n",
              "      <td>Whitakerbury</td>\n",
              "      <td>Philippines</td>\n",
              "      <td>474540</td>\n",
              "      <td>Full Time</td>\n",
              "      <td>5.0</td>\n",
              "    </tr>\n",
              "    <tr>\n",
              "      <th>299855</th>\n",
              "      <td>Rebecca Garrison</td>\n",
              "      <td>Nelson-Li</td>\n",
              "      <td>Production engineer</td>\n",
              "      <td>Whitakerbury</td>\n",
              "      <td>Ireland</td>\n",
              "      <td>592530</td>\n",
              "      <td>Full Time</td>\n",
              "      <td>5.0</td>\n",
              "    </tr>\n",
              "    <tr>\n",
              "      <th>299900</th>\n",
              "      <td>Daniel Jones</td>\n",
              "      <td>Taylor-Ramos</td>\n",
              "      <td>Sales promotion account executive</td>\n",
              "      <td>Kristaburgh</td>\n",
              "      <td>Sierra Leone</td>\n",
              "      <td>32160</td>\n",
              "      <td>Full Time</td>\n",
              "      <td>5.0</td>\n",
              "    </tr>\n",
              "    <tr>\n",
              "      <th>299906</th>\n",
              "      <td>Justin Mendez</td>\n",
              "      <td>Bullock-Carrillo</td>\n",
              "      <td>Regulatory affairs officer</td>\n",
              "      <td>New Cindychester</td>\n",
              "      <td>Colombia</td>\n",
              "      <td>374540</td>\n",
              "      <td>Full Time</td>\n",
              "      <td>5.0</td>\n",
              "    </tr>\n",
              "    <tr>\n",
              "      <th>299973</th>\n",
              "      <td>Doris Miller</td>\n",
              "      <td>Andrade LLC</td>\n",
              "      <td>Armed forces logistics/support/administrative ...</td>\n",
              "      <td>Wardfort</td>\n",
              "      <td>Kazakhstan</td>\n",
              "      <td>943340</td>\n",
              "      <td>Intern</td>\n",
              "      <td>5.0</td>\n",
              "    </tr>\n",
              "  </tbody>\n",
              "</table>\n",
              "<p>2985 rows × 8 columns</p>\n",
              "</div>"
            ],
            "text/plain": [
              "                    Name                  Company_Name  \\\n",
              "124       Joshua Huffman                James and Sons   \n",
              "342         Alan Carlson      Baker, Allen and Edwards   \n",
              "391         Lisa Summers  Johnston, Fleming and Tanner   \n",
              "395        Timothy Woods  Johnston, Fleming and Tanner   \n",
              "415      Cameron Hawkins                  Taylor-Ramos   \n",
              "...                  ...                           ...   \n",
              "299689    Michael Jordan  Johnston, Fleming and Tanner   \n",
              "299855  Rebecca Garrison                     Nelson-Li   \n",
              "299900      Daniel Jones                  Taylor-Ramos   \n",
              "299906     Justin Mendez              Bullock-Carrillo   \n",
              "299973      Doris Miller                   Andrade LLC   \n",
              "\n",
              "                                       Employee_Job_Title      Employee_City  \\\n",
              "124                          Garment/textile technologist     New Russellton   \n",
              "342               Diplomatic Services operational officer        Kristaburgh   \n",
              "391                            Regulatory affairs officer  North Melissafurt   \n",
              "395                          Garment/textile technologist          Whiteside   \n",
              "415     Armed forces logistics/support/administrative ...           Wardfort   \n",
              "...                                                   ...                ...   \n",
              "299689                                    Naval architect       Whitakerbury   \n",
              "299855                                Production engineer       Whitakerbury   \n",
              "299900                  Sales promotion account executive        Kristaburgh   \n",
              "299906                         Regulatory affairs officer   New Cindychester   \n",
              "299973  Armed forces logistics/support/administrative ...           Wardfort   \n",
              "\n",
              "                    Employee_Country  Employee_Salary Employment_Status  \\\n",
              "124                     Cook Islands           694760         Full Time   \n",
              "342                         Mongolia           491710            Intern   \n",
              "391                             Togo           933500         Full Time   \n",
              "395     United States Virgin Islands           367630         Full Time   \n",
              "415                         Tanzania            66570            Intern   \n",
              "...                              ...              ...               ...   \n",
              "299689                   Philippines           474540         Full Time   \n",
              "299855                       Ireland           592530         Full Time   \n",
              "299900                  Sierra Leone            32160         Full Time   \n",
              "299906                      Colombia           374540         Full Time   \n",
              "299973                    Kazakhstan           943340            Intern   \n",
              "\n",
              "        Employee_Rating  \n",
              "124                 5.0  \n",
              "342                 5.0  \n",
              "391                 5.0  \n",
              "395                 5.0  \n",
              "415                 5.0  \n",
              "...                 ...  \n",
              "299689              5.0  \n",
              "299855              5.0  \n",
              "299900              5.0  \n",
              "299906              5.0  \n",
              "299973              5.0  \n",
              "\n",
              "[2985 rows x 8 columns]"
            ]
          },
          "execution_count": 103,
          "metadata": {},
          "output_type": "execute_result"
        }
      ],
      "source": [
        "df.loc[df.Employee_Rating == df.Employee_Rating.max()]"
      ]
    },
    {
      "cell_type": "markdown",
      "metadata": {
        "id": "Tiei-EsOPrwZ"
      },
      "source": [
        "### 56. Print the Company_Name with most number of employees in 'Wardfort' city."
      ]
    },
    {
      "cell_type": "code",
      "execution_count": 9,
      "metadata": {
        "id": "SXOE0YVSPrwZ",
        "outputId": "09e16786-7054-4a72-e792-8df4ceb46181"
      },
      "outputs": [
        {
          "data": {
            "text/plain": [
              "'White, Mcclain and Cobb'"
            ]
          },
          "execution_count": 9,
          "metadata": {},
          "output_type": "execute_result"
        }
      ],
      "source": [
        "df[df.Employee_City == 'Wardfort'].Company_Name.value_counts().idxmax()"
      ]
    },
    {
      "cell_type": "markdown",
      "metadata": {
        "id": "gLuF2AliPrwZ"
      },
      "source": [
        "### 57. Change the Data type of 'Employee_Salary' column to float."
      ]
    },
    {
      "cell_type": "code",
      "execution_count": 13,
      "metadata": {
        "id": "VBbFcawGPrwZ",
        "outputId": "339fe060-d8d8-4035-fa9f-6e4a2d41ee75"
      },
      "outputs": [
        {
          "data": {
            "text/plain": [
              "0         321520.0\n",
              "1         589090.0\n",
              "2         630890.0\n",
              "3         116400.0\n",
              "4         523499.0\n",
              "            ...   \n",
              "299995     99670.0\n",
              "299996    949580.0\n",
              "299997    802830.0\n",
              "299998    257240.0\n",
              "299999    575770.0\n",
              "Name: Employee_Salary, Length: 300000, dtype: float64"
            ]
          },
          "execution_count": 13,
          "metadata": {},
          "output_type": "execute_result"
        }
      ],
      "source": [
        "df['Employee_Salary'].astype(float)"
      ]
    },
    {
      "cell_type": "markdown",
      "metadata": {
        "id": "9PK4oBVMPrwZ"
      },
      "source": [
        "### 58. Print the Employee_City with the most number of 'Production engineer'."
      ]
    },
    {
      "cell_type": "code",
      "execution_count": 20,
      "metadata": {
        "id": "h20j8OxUPrwZ",
        "outputId": "6aad15f5-6772-423e-c39a-2de48651a4ca"
      },
      "outputs": [
        {
          "data": {
            "text/plain": [
              "'Aliciafort'"
            ]
          },
          "execution_count": 20,
          "metadata": {},
          "output_type": "execute_result"
        }
      ],
      "source": [
        "df[df.Employee_Job_Title == 'Production engineer'].Employee_City.value_counts().idxmax()"
      ]
    },
    {
      "cell_type": "markdown",
      "metadata": {
        "id": "JNoTUdLOPrwZ"
      },
      "source": [
        "### 60. Print the Company_Name with the highest average 'Employee_Rating'."
      ]
    },
    {
      "cell_type": "code",
      "execution_count": 25,
      "metadata": {
        "id": "c2MQ9Ov7PrwZ",
        "outputId": "13022f28-4112-4164-b776-46455200a5a9"
      },
      "outputs": [
        {
          "data": {
            "text/plain": [
              "'Matthews Inc'"
            ]
          },
          "execution_count": 25,
          "metadata": {},
          "output_type": "execute_result"
        }
      ],
      "source": [
        "df.groupby('Company_Name').Employee_Rating.mean().idxmax()"
      ]
    },
    {
      "cell_type": "markdown",
      "metadata": {
        "id": "2y9ac6AuPrwZ"
      },
      "source": [
        "### 61. Print the number of employees working in 'Ricardomouth' and 'Kristaburgh' location combined."
      ]
    },
    {
      "cell_type": "code",
      "execution_count": 39,
      "metadata": {
        "id": "cFTUv6stPrwZ",
        "outputId": "66323633-6263-40ca-a0cf-f754088eace1"
      },
      "outputs": [
        {
          "data": {
            "text/plain": [
              "30204"
            ]
          },
          "execution_count": 39,
          "metadata": {},
          "output_type": "execute_result"
        }
      ],
      "source": [
        "df[df.Employee_City.isin(['Richardmouth', 'Kristaburgh'])].shape[0]"
      ]
    },
    {
      "cell_type": "markdown",
      "metadata": {
        "id": "YzNuiZ64PrwZ"
      },
      "source": [
        "### 62. Print the distinct Company_Name corresponding to the 5 highest paid employees in the dataset."
      ]
    },
    {
      "cell_type": "code",
      "execution_count": 45,
      "metadata": {
        "id": "latrfJzaPrwZ",
        "outputId": "9d67c128-54c3-4848-c64b-e6948b137cc6"
      },
      "outputs": [
        {
          "data": {
            "text/plain": [
              "array(['Taylor-Ramos', 'White, Mcclain and Cobb', 'Thomas-Spencer',\n",
              "       'Campos, Reynolds and Mccormick'], dtype=object)"
            ]
          },
          "execution_count": 45,
          "metadata": {},
          "output_type": "execute_result"
        }
      ],
      "source": [
        "df.nlargest(5, 'Employee_Salary').Company_Name.unique()"
      ]
    },
    {
      "cell_type": "markdown",
      "metadata": {
        "id": "4gE18FJPPrwZ"
      },
      "source": [
        "### 63. Check if there are any duplicate rows in the DataFrame."
      ]
    },
    {
      "cell_type": "code",
      "execution_count": 47,
      "metadata": {
        "id": "gPxkjZhWPrwZ",
        "outputId": "72c68467-df48-41d9-ade9-48404c1612d6"
      },
      "outputs": [
        {
          "data": {
            "text/plain": [
              "0         False\n",
              "1         False\n",
              "2         False\n",
              "3         False\n",
              "4         False\n",
              "          ...  \n",
              "299995    False\n",
              "299996    False\n",
              "299997    False\n",
              "299998    False\n",
              "299999    False\n",
              "Length: 300000, dtype: bool"
            ]
          },
          "execution_count": 47,
          "metadata": {},
          "output_type": "execute_result"
        }
      ],
      "source": [
        "df.duplicated()"
      ]
    },
    {
      "cell_type": "markdown",
      "metadata": {
        "id": "43plDjjCPrwZ"
      },
      "source": [
        "### 64. Check if any of the columns has NaN values."
      ]
    },
    {
      "cell_type": "code",
      "execution_count": 50,
      "metadata": {
        "id": "gNMgTo67PrwZ",
        "outputId": "c771deff-85c9-48d5-a734-1a75d714e153"
      },
      "outputs": [
        {
          "data": {
            "text/plain": [
              "Name                  0\n",
              "Company_Name          0\n",
              "Employee_Job_Title    0\n",
              "Employee_City         0\n",
              "Employee_Country      0\n",
              "Employee_Salary       0\n",
              "Employment_Status     0\n",
              "Employee_Rating       0\n",
              "dtype: int64"
            ]
          },
          "execution_count": 50,
          "metadata": {},
          "output_type": "execute_result"
        }
      ],
      "source": [
        "df.isna().sum()"
      ]
    },
    {
      "cell_type": "markdown",
      "metadata": {
        "id": "1g_IHO8nPrwZ"
      },
      "source": [
        "### 65. Print the data type of every column in the DataFrame."
      ]
    },
    {
      "cell_type": "code",
      "execution_count": 53,
      "metadata": {
        "id": "4xD11zm_PrwZ",
        "outputId": "68c74833-4f3a-46fd-f99a-e71a60bf2bbc"
      },
      "outputs": [
        {
          "data": {
            "text/plain": [
              "Name                   object\n",
              "Company_Name           object\n",
              "Employee_Job_Title     object\n",
              "Employee_City          object\n",
              "Employee_Country       object\n",
              "Employee_Salary         int64\n",
              "Employment_Status      object\n",
              "Employee_Rating       float64\n",
              "dtype: object"
            ]
          },
          "execution_count": 53,
          "metadata": {},
          "output_type": "execute_result"
        }
      ],
      "source": [
        "df.dtypes"
      ]
    },
    {
      "cell_type": "markdown",
      "metadata": {
        "id": "iN5p5biSPrwZ"
      },
      "source": [
        "### 66. Print the Company_Name column only as a Series"
      ]
    },
    {
      "cell_type": "code",
      "execution_count": 54,
      "metadata": {
        "id": "R6wl1fnfPrwZ",
        "outputId": "4fa5ce94-46e4-4f13-e69b-3564b7f2b0dd"
      },
      "outputs": [
        {
          "data": {
            "text/plain": [
              "0                       James and Sons\n",
              "1                        Nichols-James\n",
              "2                            Scott Inc\n",
              "3         Johnston, Fleming and Tanner\n",
              "4             Baker, Allen and Edwards\n",
              "                      ...             \n",
              "299995                Bullock-Carrillo\n",
              "299996    Johnston, Fleming and Tanner\n",
              "299997                   Nichols-James\n",
              "299998                   Nichols-James\n",
              "299999                  James and Sons\n",
              "Name: Company_Name, Length: 300000, dtype: object"
            ]
          },
          "execution_count": 54,
          "metadata": {},
          "output_type": "execute_result"
        }
      ],
      "source": [
        "df.Company_Name"
      ]
    },
    {
      "cell_type": "markdown",
      "metadata": {
        "id": "bbkzW996Prwa"
      },
      "source": [
        "### 67. Print the Company_Name column only as a DataFrame"
      ]
    },
    {
      "cell_type": "code",
      "execution_count": 58,
      "metadata": {
        "id": "-uN8evPpPrwa",
        "outputId": "5c9c8ead-c728-420c-e13f-2f1c927e3e9a"
      },
      "outputs": [
        {
          "data": {
            "text/html": [
              "<div>\n",
              "<style scoped>\n",
              "    .dataframe tbody tr th:only-of-type {\n",
              "        vertical-align: middle;\n",
              "    }\n",
              "\n",
              "    .dataframe tbody tr th {\n",
              "        vertical-align: top;\n",
              "    }\n",
              "\n",
              "    .dataframe thead th {\n",
              "        text-align: right;\n",
              "    }\n",
              "</style>\n",
              "<table border=\"1\" class=\"dataframe\">\n",
              "  <thead>\n",
              "    <tr style=\"text-align: right;\">\n",
              "      <th></th>\n",
              "      <th>Company_Name</th>\n",
              "    </tr>\n",
              "  </thead>\n",
              "  <tbody>\n",
              "    <tr>\n",
              "      <th>0</th>\n",
              "      <td>James and Sons</td>\n",
              "    </tr>\n",
              "    <tr>\n",
              "      <th>1</th>\n",
              "      <td>Nichols-James</td>\n",
              "    </tr>\n",
              "    <tr>\n",
              "      <th>2</th>\n",
              "      <td>Scott Inc</td>\n",
              "    </tr>\n",
              "    <tr>\n",
              "      <th>3</th>\n",
              "      <td>Johnston, Fleming and Tanner</td>\n",
              "    </tr>\n",
              "    <tr>\n",
              "      <th>4</th>\n",
              "      <td>Baker, Allen and Edwards</td>\n",
              "    </tr>\n",
              "    <tr>\n",
              "      <th>...</th>\n",
              "      <td>...</td>\n",
              "    </tr>\n",
              "    <tr>\n",
              "      <th>299995</th>\n",
              "      <td>Bullock-Carrillo</td>\n",
              "    </tr>\n",
              "    <tr>\n",
              "      <th>299996</th>\n",
              "      <td>Johnston, Fleming and Tanner</td>\n",
              "    </tr>\n",
              "    <tr>\n",
              "      <th>299997</th>\n",
              "      <td>Nichols-James</td>\n",
              "    </tr>\n",
              "    <tr>\n",
              "      <th>299998</th>\n",
              "      <td>Nichols-James</td>\n",
              "    </tr>\n",
              "    <tr>\n",
              "      <th>299999</th>\n",
              "      <td>James and Sons</td>\n",
              "    </tr>\n",
              "  </tbody>\n",
              "</table>\n",
              "<p>300000 rows × 1 columns</p>\n",
              "</div>"
            ],
            "text/plain": [
              "                        Company_Name\n",
              "0                     James and Sons\n",
              "1                      Nichols-James\n",
              "2                          Scott Inc\n",
              "3       Johnston, Fleming and Tanner\n",
              "4           Baker, Allen and Edwards\n",
              "...                              ...\n",
              "299995              Bullock-Carrillo\n",
              "299996  Johnston, Fleming and Tanner\n",
              "299997                 Nichols-James\n",
              "299998                 Nichols-James\n",
              "299999                James and Sons\n",
              "\n",
              "[300000 rows x 1 columns]"
            ]
          },
          "execution_count": 58,
          "metadata": {},
          "output_type": "execute_result"
        }
      ],
      "source": [
        "#30th\n",
        "df[['Company_Name']]"
      ]
    },
    {
      "cell_type": "markdown",
      "metadata": {
        "id": "9p7eoiWTPrwa"
      },
      "source": [
        "### 68. Select the 'Employee_Job_Title' and 'Employee_City' column."
      ]
    },
    {
      "cell_type": "code",
      "execution_count": 61,
      "metadata": {
        "id": "rdox_AUuPrwa",
        "outputId": "f30797dc-646d-45dc-8484-d032379f82b4"
      },
      "outputs": [
        {
          "data": {
            "text/html": [
              "<div>\n",
              "<style scoped>\n",
              "    .dataframe tbody tr th:only-of-type {\n",
              "        vertical-align: middle;\n",
              "    }\n",
              "\n",
              "    .dataframe tbody tr th {\n",
              "        vertical-align: top;\n",
              "    }\n",
              "\n",
              "    .dataframe thead th {\n",
              "        text-align: right;\n",
              "    }\n",
              "</style>\n",
              "<table border=\"1\" class=\"dataframe\">\n",
              "  <thead>\n",
              "    <tr style=\"text-align: right;\">\n",
              "      <th></th>\n",
              "      <th>Employee_Job_Title</th>\n",
              "      <th>Employee_City</th>\n",
              "    </tr>\n",
              "  </thead>\n",
              "  <tbody>\n",
              "    <tr>\n",
              "      <th>0</th>\n",
              "      <td>Equities trader</td>\n",
              "      <td>New Russellton</td>\n",
              "    </tr>\n",
              "    <tr>\n",
              "      <th>1</th>\n",
              "      <td>Diplomatic Services operational officer</td>\n",
              "      <td>North Melissafurt</td>\n",
              "    </tr>\n",
              "    <tr>\n",
              "      <th>2</th>\n",
              "      <td>Regulatory affairs officer</td>\n",
              "      <td>Wardfort</td>\n",
              "    </tr>\n",
              "    <tr>\n",
              "      <th>3</th>\n",
              "      <td>Production engineer</td>\n",
              "      <td>West Jamesview</td>\n",
              "    </tr>\n",
              "    <tr>\n",
              "      <th>4</th>\n",
              "      <td>Production engineer</td>\n",
              "      <td>Whiteside</td>\n",
              "    </tr>\n",
              "    <tr>\n",
              "      <th>...</th>\n",
              "      <td>...</td>\n",
              "      <td>...</td>\n",
              "    </tr>\n",
              "    <tr>\n",
              "      <th>299995</th>\n",
              "      <td>Optometrist</td>\n",
              "      <td>North Melissafurt</td>\n",
              "    </tr>\n",
              "    <tr>\n",
              "      <th>299996</th>\n",
              "      <td>Administrator</td>\n",
              "      <td>Aliciafort</td>\n",
              "    </tr>\n",
              "    <tr>\n",
              "      <th>299997</th>\n",
              "      <td>Administrator</td>\n",
              "      <td>New Cindychester</td>\n",
              "    </tr>\n",
              "    <tr>\n",
              "      <th>299998</th>\n",
              "      <td>Make</td>\n",
              "      <td>Whitakerbury</td>\n",
              "    </tr>\n",
              "    <tr>\n",
              "      <th>299999</th>\n",
              "      <td>Actuary</td>\n",
              "      <td>New Russellton</td>\n",
              "    </tr>\n",
              "  </tbody>\n",
              "</table>\n",
              "<p>300000 rows × 2 columns</p>\n",
              "</div>"
            ],
            "text/plain": [
              "                             Employee_Job_Title      Employee_City\n",
              "0                               Equities trader     New Russellton\n",
              "1       Diplomatic Services operational officer  North Melissafurt\n",
              "2                    Regulatory affairs officer           Wardfort\n",
              "3                           Production engineer     West Jamesview\n",
              "4                           Production engineer          Whiteside\n",
              "...                                         ...                ...\n",
              "299995                              Optometrist  North Melissafurt\n",
              "299996                            Administrator         Aliciafort\n",
              "299997                            Administrator   New Cindychester\n",
              "299998                                     Make       Whitakerbury\n",
              "299999                                  Actuary     New Russellton\n",
              "\n",
              "[300000 rows x 2 columns]"
            ]
          },
          "execution_count": 61,
          "metadata": {},
          "output_type": "execute_result"
        }
      ],
      "source": [
        "df[['Employee_Job_Title', 'Employee_City']]"
      ]
    },
    {
      "cell_type": "markdown",
      "metadata": {
        "id": "GAG2Vu2mPrwa"
      },
      "source": [
        "### 69. Print the number of employees with Employee_Rating greater than the average Employee_Rating"
      ]
    },
    {
      "cell_type": "code",
      "execution_count": 67,
      "metadata": {
        "id": "yGbo_VdZPrwa",
        "outputId": "64768140-94dd-41c8-9a6c-765f981435fc"
      },
      "outputs": [
        {
          "data": {
            "text/plain": [
              "147548"
            ]
          },
          "execution_count": 67,
          "metadata": {},
          "output_type": "execute_result"
        }
      ],
      "source": [
        "avg = df['Employee_Rating'].mean()\n",
        "df[df['Employee_Rating'] > avg].shape[0]"
      ]
    },
    {
      "cell_type": "markdown",
      "metadata": {
        "id": "aYiQf9BXPrwa"
      },
      "source": [
        "### 74. Print the first 5 rows of the first 5 columns."
      ]
    },
    {
      "cell_type": "code",
      "execution_count": 74,
      "metadata": {
        "id": "8jsFWQU5Prwa",
        "outputId": "cf665d27-b475-45c2-f569-5995e1c9eed7"
      },
      "outputs": [
        {
          "data": {
            "text/html": [
              "<div>\n",
              "<style scoped>\n",
              "    .dataframe tbody tr th:only-of-type {\n",
              "        vertical-align: middle;\n",
              "    }\n",
              "\n",
              "    .dataframe tbody tr th {\n",
              "        vertical-align: top;\n",
              "    }\n",
              "\n",
              "    .dataframe thead th {\n",
              "        text-align: right;\n",
              "    }\n",
              "</style>\n",
              "<table border=\"1\" class=\"dataframe\">\n",
              "  <thead>\n",
              "    <tr style=\"text-align: right;\">\n",
              "      <th></th>\n",
              "      <th>Name</th>\n",
              "      <th>Company_Name</th>\n",
              "      <th>Employee_Job_Title</th>\n",
              "      <th>Employee_City</th>\n",
              "      <th>Employee_Country</th>\n",
              "    </tr>\n",
              "  </thead>\n",
              "  <tbody>\n",
              "    <tr>\n",
              "      <th>0</th>\n",
              "      <td>Spencer Adkins</td>\n",
              "      <td>James and Sons</td>\n",
              "      <td>Equities trader</td>\n",
              "      <td>New Russellton</td>\n",
              "      <td>Palestinian Territory</td>\n",
              "    </tr>\n",
              "    <tr>\n",
              "      <th>1</th>\n",
              "      <td>Julie Morton</td>\n",
              "      <td>Nichols-James</td>\n",
              "      <td>Diplomatic Services operational officer</td>\n",
              "      <td>North Melissafurt</td>\n",
              "      <td>Marshall Islands</td>\n",
              "    </tr>\n",
              "    <tr>\n",
              "      <th>2</th>\n",
              "      <td>Matthew Hall</td>\n",
              "      <td>Scott Inc</td>\n",
              "      <td>Regulatory affairs officer</td>\n",
              "      <td>Wardfort</td>\n",
              "      <td>Anguilla</td>\n",
              "    </tr>\n",
              "    <tr>\n",
              "      <th>3</th>\n",
              "      <td>Brad Scott</td>\n",
              "      <td>Johnston, Fleming and Tanner</td>\n",
              "      <td>Production engineer</td>\n",
              "      <td>West Jamesview</td>\n",
              "      <td>Syrian Arab Republic</td>\n",
              "    </tr>\n",
              "    <tr>\n",
              "      <th>4</th>\n",
              "      <td>Theresa Owens</td>\n",
              "      <td>Baker, Allen and Edwards</td>\n",
              "      <td>Production engineer</td>\n",
              "      <td>Whiteside</td>\n",
              "      <td>Dominica</td>\n",
              "    </tr>\n",
              "  </tbody>\n",
              "</table>\n",
              "</div>"
            ],
            "text/plain": [
              "             Name                  Company_Name  \\\n",
              "0  Spencer Adkins                James and Sons   \n",
              "1    Julie Morton                 Nichols-James   \n",
              "2    Matthew Hall                     Scott Inc   \n",
              "3      Brad Scott  Johnston, Fleming and Tanner   \n",
              "4   Theresa Owens      Baker, Allen and Edwards   \n",
              "\n",
              "                        Employee_Job_Title      Employee_City  \\\n",
              "0                          Equities trader     New Russellton   \n",
              "1  Diplomatic Services operational officer  North Melissafurt   \n",
              "2               Regulatory affairs officer           Wardfort   \n",
              "3                      Production engineer     West Jamesview   \n",
              "4                      Production engineer          Whiteside   \n",
              "\n",
              "        Employee_Country  \n",
              "0  Palestinian Territory  \n",
              "1       Marshall Islands  \n",
              "2               Anguilla  \n",
              "3   Syrian Arab Republic  \n",
              "4               Dominica  "
            ]
          },
          "execution_count": 74,
          "metadata": {},
          "output_type": "execute_result"
        }
      ],
      "source": [
        "df.head().iloc[:,0:5]"
      ]
    },
    {
      "cell_type": "markdown",
      "metadata": {
        "id": "LXRbdgkxPrwa"
      },
      "source": [
        "### 76. Print the number of employees whose first name starts with the letter 'V'."
      ]
    },
    {
      "cell_type": "code",
      "execution_count": 100,
      "metadata": {
        "id": "l231USScPrwa",
        "outputId": "2b688352-e842-4d19-db50-a92f67812861"
      },
      "outputs": [
        {
          "data": {
            "text/plain": [
              "3683"
            ]
          },
          "execution_count": 100,
          "metadata": {},
          "output_type": "execute_result"
        }
      ],
      "source": [
        "df[df['Name'].str.startswith('V')].shape[0]"
      ]
    },
    {
      "cell_type": "markdown",
      "metadata": {
        "id": "zqBGGFYdPrwa"
      },
      "source": [
        "### 77. Print the number of employees whose last name starts with the letter 'R'."
      ]
    },
    {
      "cell_type": "code",
      "execution_count": 113,
      "metadata": {
        "id": "bJrtPNUWPrwa",
        "outputId": "bdecb495-8f38-4e1d-f048-b9463b069f7a"
      },
      "outputs": [
        {
          "data": {
            "text/html": [
              "<div>\n",
              "<style scoped>\n",
              "    .dataframe tbody tr th:only-of-type {\n",
              "        vertical-align: middle;\n",
              "    }\n",
              "\n",
              "    .dataframe tbody tr th {\n",
              "        vertical-align: top;\n",
              "    }\n",
              "\n",
              "    .dataframe thead th {\n",
              "        text-align: right;\n",
              "    }\n",
              "</style>\n",
              "<table border=\"1\" class=\"dataframe\">\n",
              "  <thead>\n",
              "    <tr style=\"text-align: right;\">\n",
              "      <th></th>\n",
              "      <th>Name</th>\n",
              "      <th>Company_Name</th>\n",
              "      <th>Employee_Job_Title</th>\n",
              "      <th>Employee_City</th>\n",
              "      <th>Employee_Country</th>\n",
              "      <th>Employee_Salary</th>\n",
              "      <th>Employment_Status</th>\n",
              "      <th>Employee_Rating</th>\n",
              "    </tr>\n",
              "  </thead>\n",
              "  <tbody>\n",
              "    <tr>\n",
              "      <th>17</th>\n",
              "      <td>Gail Rose</td>\n",
              "      <td>Thomas-Spencer</td>\n",
              "      <td>Patent examiner</td>\n",
              "      <td>Whitakerbury</td>\n",
              "      <td>Finland</td>\n",
              "      <td>178570</td>\n",
              "      <td>Full Time</td>\n",
              "      <td>1.9</td>\n",
              "    </tr>\n",
              "    <tr>\n",
              "      <th>26</th>\n",
              "      <td>Donna Rodriguez</td>\n",
              "      <td>Thomas-Spencer</td>\n",
              "      <td>Sales promotion account executive</td>\n",
              "      <td>Whiteside</td>\n",
              "      <td>Guam</td>\n",
              "      <td>622920</td>\n",
              "      <td>Full Time</td>\n",
              "      <td>2.8</td>\n",
              "    </tr>\n",
              "    <tr>\n",
              "      <th>28</th>\n",
              "      <td>Kim Reynolds</td>\n",
              "      <td>Marshall-Holloway</td>\n",
              "      <td>Actuary</td>\n",
              "      <td>West Jamesview</td>\n",
              "      <td>Faroe Islands</td>\n",
              "      <td>794450</td>\n",
              "      <td>Full Time</td>\n",
              "      <td>1.4</td>\n",
              "    </tr>\n",
              "    <tr>\n",
              "      <th>39</th>\n",
              "      <td>Jessica Reyes</td>\n",
              "      <td>Thomas-Spencer</td>\n",
              "      <td>Garment/textile technologist</td>\n",
              "      <td>Kristaburgh</td>\n",
              "      <td>Botswana</td>\n",
              "      <td>667490</td>\n",
              "      <td>Full Time</td>\n",
              "      <td>0.7</td>\n",
              "    </tr>\n",
              "    <tr>\n",
              "      <th>55</th>\n",
              "      <td>Amanda Roth</td>\n",
              "      <td>Taylor-Ramos</td>\n",
              "      <td>Administrator</td>\n",
              "      <td>North Melissafurt</td>\n",
              "      <td>Macedonia</td>\n",
              "      <td>437720</td>\n",
              "      <td>Full Time</td>\n",
              "      <td>0.7</td>\n",
              "    </tr>\n",
              "    <tr>\n",
              "      <th>...</th>\n",
              "      <td>...</td>\n",
              "      <td>...</td>\n",
              "      <td>...</td>\n",
              "      <td>...</td>\n",
              "      <td>...</td>\n",
              "      <td>...</td>\n",
              "      <td>...</td>\n",
              "      <td>...</td>\n",
              "    </tr>\n",
              "    <tr>\n",
              "      <th>299902</th>\n",
              "      <td>Michelle Reynolds</td>\n",
              "      <td>Marshall-Holloway</td>\n",
              "      <td>Make</td>\n",
              "      <td>Wardfort</td>\n",
              "      <td>El Salvador</td>\n",
              "      <td>105680</td>\n",
              "      <td>Full Time</td>\n",
              "      <td>4.8</td>\n",
              "    </tr>\n",
              "    <tr>\n",
              "      <th>299905</th>\n",
              "      <td>Sandra Riley</td>\n",
              "      <td>Wallace, Smith and Shepard</td>\n",
              "      <td>Energy manager</td>\n",
              "      <td>Whiteside</td>\n",
              "      <td>Northern Mariana Islands</td>\n",
              "      <td>34760</td>\n",
              "      <td>Full Time</td>\n",
              "      <td>2.0</td>\n",
              "    </tr>\n",
              "    <tr>\n",
              "      <th>299964</th>\n",
              "      <td>Joshua Rodriguez</td>\n",
              "      <td>Andrade LLC</td>\n",
              "      <td>Trading standards officer</td>\n",
              "      <td>New Cindychester</td>\n",
              "      <td>Sierra Leone</td>\n",
              "      <td>118300</td>\n",
              "      <td>Full Time</td>\n",
              "      <td>1.1</td>\n",
              "    </tr>\n",
              "    <tr>\n",
              "      <th>299967</th>\n",
              "      <td>James Rhodes</td>\n",
              "      <td>Matthews Inc</td>\n",
              "      <td>Production engineer</td>\n",
              "      <td>New Cindychester</td>\n",
              "      <td>Honduras</td>\n",
              "      <td>386610</td>\n",
              "      <td>Full Time</td>\n",
              "      <td>1.4</td>\n",
              "    </tr>\n",
              "    <tr>\n",
              "      <th>299991</th>\n",
              "      <td>William Rodriguez</td>\n",
              "      <td>Scott Inc</td>\n",
              "      <td>Ergonomist</td>\n",
              "      <td>Whiteside</td>\n",
              "      <td>New Zealand</td>\n",
              "      <td>214400</td>\n",
              "      <td>Full Time</td>\n",
              "      <td>1.5</td>\n",
              "    </tr>\n",
              "  </tbody>\n",
              "</table>\n",
              "<p>20712 rows × 8 columns</p>\n",
              "</div>"
            ],
            "text/plain": [
              "                     Name                Company_Name  \\\n",
              "17              Gail Rose              Thomas-Spencer   \n",
              "26        Donna Rodriguez              Thomas-Spencer   \n",
              "28           Kim Reynolds           Marshall-Holloway   \n",
              "39          Jessica Reyes              Thomas-Spencer   \n",
              "55            Amanda Roth                Taylor-Ramos   \n",
              "...                   ...                         ...   \n",
              "299902  Michelle Reynolds           Marshall-Holloway   \n",
              "299905       Sandra Riley  Wallace, Smith and Shepard   \n",
              "299964   Joshua Rodriguez                 Andrade LLC   \n",
              "299967       James Rhodes                Matthews Inc   \n",
              "299991  William Rodriguez                   Scott Inc   \n",
              "\n",
              "                       Employee_Job_Title      Employee_City  \\\n",
              "17                        Patent examiner       Whitakerbury   \n",
              "26      Sales promotion account executive          Whiteside   \n",
              "28                                Actuary     West Jamesview   \n",
              "39           Garment/textile technologist        Kristaburgh   \n",
              "55                          Administrator  North Melissafurt   \n",
              "...                                   ...                ...   \n",
              "299902                               Make           Wardfort   \n",
              "299905                     Energy manager          Whiteside   \n",
              "299964          Trading standards officer   New Cindychester   \n",
              "299967                Production engineer   New Cindychester   \n",
              "299991                         Ergonomist          Whiteside   \n",
              "\n",
              "                Employee_Country  Employee_Salary Employment_Status  \\\n",
              "17                       Finland           178570         Full Time   \n",
              "26                          Guam           622920         Full Time   \n",
              "28                 Faroe Islands           794450         Full Time   \n",
              "39                      Botswana           667490         Full Time   \n",
              "55                     Macedonia           437720         Full Time   \n",
              "...                          ...              ...               ...   \n",
              "299902               El Salvador           105680         Full Time   \n",
              "299905  Northern Mariana Islands            34760         Full Time   \n",
              "299964              Sierra Leone           118300         Full Time   \n",
              "299967                  Honduras           386610         Full Time   \n",
              "299991               New Zealand           214400         Full Time   \n",
              "\n",
              "        Employee_Rating  \n",
              "17                  1.9  \n",
              "26                  2.8  \n",
              "28                  1.4  \n",
              "39                  0.7  \n",
              "55                  0.7  \n",
              "...                 ...  \n",
              "299902              4.8  \n",
              "299905              2.0  \n",
              "299964              1.1  \n",
              "299967              1.4  \n",
              "299991              1.5  \n",
              "\n",
              "[20712 rows x 8 columns]"
            ]
          },
          "execution_count": 113,
          "metadata": {},
          "output_type": "execute_result"
        }
      ],
      "source": [
        "last_name = df['Name'].str.split(' ').str[1]\n",
        "df[last_name.str.startswith('R')]"
      ]
    },
    {
      "cell_type": "markdown",
      "metadata": {
        "id": "lnM0T1PUPrwa"
      },
      "source": [
        "### 78. Select the rows 2 to 7 and the columns 3 to 7 (both included)"
      ]
    },
    {
      "cell_type": "code",
      "execution_count": 116,
      "metadata": {
        "id": "jgZlVt-GPrwa",
        "outputId": "37a13c44-5bf6-450b-9944-5a6d374ea501"
      },
      "outputs": [
        {
          "data": {
            "text/html": [
              "<div>\n",
              "<style scoped>\n",
              "    .dataframe tbody tr th:only-of-type {\n",
              "        vertical-align: middle;\n",
              "    }\n",
              "\n",
              "    .dataframe tbody tr th {\n",
              "        vertical-align: top;\n",
              "    }\n",
              "\n",
              "    .dataframe thead th {\n",
              "        text-align: right;\n",
              "    }\n",
              "</style>\n",
              "<table border=\"1\" class=\"dataframe\">\n",
              "  <thead>\n",
              "    <tr style=\"text-align: right;\">\n",
              "      <th></th>\n",
              "      <th>Employee_City</th>\n",
              "      <th>Employee_Country</th>\n",
              "      <th>Employee_Salary</th>\n",
              "      <th>Employment_Status</th>\n",
              "      <th>Employee_Rating</th>\n",
              "    </tr>\n",
              "  </thead>\n",
              "  <tbody>\n",
              "    <tr>\n",
              "      <th>2</th>\n",
              "      <td>Wardfort</td>\n",
              "      <td>Anguilla</td>\n",
              "      <td>630890</td>\n",
              "      <td>Full Time</td>\n",
              "      <td>3.1</td>\n",
              "    </tr>\n",
              "    <tr>\n",
              "      <th>3</th>\n",
              "      <td>West Jamesview</td>\n",
              "      <td>Syrian Arab Republic</td>\n",
              "      <td>116400</td>\n",
              "      <td>Full Time</td>\n",
              "      <td>3.1</td>\n",
              "    </tr>\n",
              "    <tr>\n",
              "      <th>4</th>\n",
              "      <td>Whiteside</td>\n",
              "      <td>Dominica</td>\n",
              "      <td>523499</td>\n",
              "      <td>Full Time</td>\n",
              "      <td>4.8</td>\n",
              "    </tr>\n",
              "    <tr>\n",
              "      <th>5</th>\n",
              "      <td>Ricardomouth</td>\n",
              "      <td>Mali</td>\n",
              "      <td>850140</td>\n",
              "      <td>Full Time</td>\n",
              "      <td>2.6</td>\n",
              "    </tr>\n",
              "    <tr>\n",
              "      <th>6</th>\n",
              "      <td>Wardfort</td>\n",
              "      <td>Aruba</td>\n",
              "      <td>711410</td>\n",
              "      <td>Full Time</td>\n",
              "      <td>2.0</td>\n",
              "    </tr>\n",
              "    <tr>\n",
              "      <th>7</th>\n",
              "      <td>Kristaburgh</td>\n",
              "      <td>Western Sahara</td>\n",
              "      <td>777000</td>\n",
              "      <td>Full Time</td>\n",
              "      <td>3.3</td>\n",
              "    </tr>\n",
              "  </tbody>\n",
              "</table>\n",
              "</div>"
            ],
            "text/plain": [
              "    Employee_City      Employee_Country  Employee_Salary Employment_Status  \\\n",
              "2        Wardfort              Anguilla           630890         Full Time   \n",
              "3  West Jamesview  Syrian Arab Republic           116400         Full Time   \n",
              "4       Whiteside              Dominica           523499         Full Time   \n",
              "5    Ricardomouth                  Mali           850140         Full Time   \n",
              "6        Wardfort                 Aruba           711410         Full Time   \n",
              "7     Kristaburgh        Western Sahara           777000         Full Time   \n",
              "\n",
              "   Employee_Rating  \n",
              "2              3.1  \n",
              "3              3.1  \n",
              "4              4.8  \n",
              "5              2.6  \n",
              "6              2.0  \n",
              "7              3.3  "
            ]
          },
          "execution_count": 116,
          "metadata": {},
          "output_type": "execute_result"
        }
      ],
      "source": [
        "df.iloc[2:8, 3:8]"
      ]
    },
    {
      "cell_type": "markdown",
      "metadata": {
        "id": "6vIEAX6lPrwa"
      },
      "source": [
        "### 79. Select every row after the 10th row and select all columns."
      ]
    },
    {
      "cell_type": "code",
      "execution_count": 117,
      "metadata": {
        "id": "T7Xxrfb1Prwa",
        "outputId": "4729dfc6-56da-4548-c1ed-c3712b1779d8"
      },
      "outputs": [
        {
          "data": {
            "text/html": [
              "<div>\n",
              "<style scoped>\n",
              "    .dataframe tbody tr th:only-of-type {\n",
              "        vertical-align: middle;\n",
              "    }\n",
              "\n",
              "    .dataframe tbody tr th {\n",
              "        vertical-align: top;\n",
              "    }\n",
              "\n",
              "    .dataframe thead th {\n",
              "        text-align: right;\n",
              "    }\n",
              "</style>\n",
              "<table border=\"1\" class=\"dataframe\">\n",
              "  <thead>\n",
              "    <tr style=\"text-align: right;\">\n",
              "      <th></th>\n",
              "      <th>Name</th>\n",
              "      <th>Company_Name</th>\n",
              "      <th>Employee_Job_Title</th>\n",
              "      <th>Employee_City</th>\n",
              "      <th>Employee_Country</th>\n",
              "      <th>Employee_Salary</th>\n",
              "      <th>Employment_Status</th>\n",
              "      <th>Employee_Rating</th>\n",
              "    </tr>\n",
              "  </thead>\n",
              "  <tbody>\n",
              "    <tr>\n",
              "      <th>10</th>\n",
              "      <td>Victoria Sutton</td>\n",
              "      <td>White, Mcclain and Cobb</td>\n",
              "      <td>Naval architect</td>\n",
              "      <td>Whiteside</td>\n",
              "      <td>Poland</td>\n",
              "      <td>656260</td>\n",
              "      <td>Full Time</td>\n",
              "      <td>4.9</td>\n",
              "    </tr>\n",
              "    <tr>\n",
              "      <th>11</th>\n",
              "      <td>Timothy Johnson</td>\n",
              "      <td>Baker, Allen and Edwards</td>\n",
              "      <td>Regulatory affairs officer</td>\n",
              "      <td>Ricardomouth</td>\n",
              "      <td>Georgia</td>\n",
              "      <td>503610</td>\n",
              "      <td>Full Time</td>\n",
              "      <td>2.9</td>\n",
              "    </tr>\n",
              "    <tr>\n",
              "      <th>12</th>\n",
              "      <td>Tiffany Galvan</td>\n",
              "      <td>Campos, Reynolds and Mccormick</td>\n",
              "      <td>Diplomatic Services operational officer</td>\n",
              "      <td>West Jamesview</td>\n",
              "      <td>Niger</td>\n",
              "      <td>786430</td>\n",
              "      <td>Intern</td>\n",
              "      <td>3.6</td>\n",
              "    </tr>\n",
              "    <tr>\n",
              "      <th>13</th>\n",
              "      <td>David Duran</td>\n",
              "      <td>Nichols-James</td>\n",
              "      <td>Investment banker, corporate</td>\n",
              "      <td>New Russellton</td>\n",
              "      <td>Georgia</td>\n",
              "      <td>910210</td>\n",
              "      <td>Full Time</td>\n",
              "      <td>4.9</td>\n",
              "    </tr>\n",
              "    <tr>\n",
              "      <th>14</th>\n",
              "      <td>Julie Cook</td>\n",
              "      <td>Matthews Inc</td>\n",
              "      <td>Equities trader</td>\n",
              "      <td>New Russellton</td>\n",
              "      <td>Puerto Rico</td>\n",
              "      <td>328860</td>\n",
              "      <td>Full Time</td>\n",
              "      <td>4.8</td>\n",
              "    </tr>\n",
              "    <tr>\n",
              "      <th>...</th>\n",
              "      <td>...</td>\n",
              "      <td>...</td>\n",
              "      <td>...</td>\n",
              "      <td>...</td>\n",
              "      <td>...</td>\n",
              "      <td>...</td>\n",
              "      <td>...</td>\n",
              "      <td>...</td>\n",
              "    </tr>\n",
              "    <tr>\n",
              "      <th>299995</th>\n",
              "      <td>Nancy Neal</td>\n",
              "      <td>Bullock-Carrillo</td>\n",
              "      <td>Optometrist</td>\n",
              "      <td>North Melissafurt</td>\n",
              "      <td>Samoa</td>\n",
              "      <td>99670</td>\n",
              "      <td>Intern</td>\n",
              "      <td>3.3</td>\n",
              "    </tr>\n",
              "    <tr>\n",
              "      <th>299996</th>\n",
              "      <td>Michele Butler</td>\n",
              "      <td>Johnston, Fleming and Tanner</td>\n",
              "      <td>Administrator</td>\n",
              "      <td>Aliciafort</td>\n",
              "      <td>Cuba</td>\n",
              "      <td>949580</td>\n",
              "      <td>Intern</td>\n",
              "      <td>2.6</td>\n",
              "    </tr>\n",
              "    <tr>\n",
              "      <th>299997</th>\n",
              "      <td>Lynn Wilson</td>\n",
              "      <td>Nichols-James</td>\n",
              "      <td>Administrator</td>\n",
              "      <td>New Cindychester</td>\n",
              "      <td>Bolivia</td>\n",
              "      <td>802830</td>\n",
              "      <td>Full Time</td>\n",
              "      <td>0.6</td>\n",
              "    </tr>\n",
              "    <tr>\n",
              "      <th>299998</th>\n",
              "      <td>Lindsey Keith</td>\n",
              "      <td>Nichols-James</td>\n",
              "      <td>Make</td>\n",
              "      <td>Whitakerbury</td>\n",
              "      <td>Western Sahara</td>\n",
              "      <td>257240</td>\n",
              "      <td>Full Time</td>\n",
              "      <td>2.4</td>\n",
              "    </tr>\n",
              "    <tr>\n",
              "      <th>299999</th>\n",
              "      <td>Karen Delgado</td>\n",
              "      <td>James and Sons</td>\n",
              "      <td>Actuary</td>\n",
              "      <td>New Russellton</td>\n",
              "      <td>United Kingdom</td>\n",
              "      <td>575770</td>\n",
              "      <td>Intern</td>\n",
              "      <td>3.3</td>\n",
              "    </tr>\n",
              "  </tbody>\n",
              "</table>\n",
              "<p>299990 rows × 8 columns</p>\n",
              "</div>"
            ],
            "text/plain": [
              "                   Name                    Company_Name  \\\n",
              "10      Victoria Sutton         White, Mcclain and Cobb   \n",
              "11      Timothy Johnson        Baker, Allen and Edwards   \n",
              "12       Tiffany Galvan  Campos, Reynolds and Mccormick   \n",
              "13          David Duran                   Nichols-James   \n",
              "14           Julie Cook                    Matthews Inc   \n",
              "...                 ...                             ...   \n",
              "299995       Nancy Neal                Bullock-Carrillo   \n",
              "299996   Michele Butler    Johnston, Fleming and Tanner   \n",
              "299997      Lynn Wilson                   Nichols-James   \n",
              "299998    Lindsey Keith                   Nichols-James   \n",
              "299999    Karen Delgado                  James and Sons   \n",
              "\n",
              "                             Employee_Job_Title      Employee_City  \\\n",
              "10                              Naval architect          Whiteside   \n",
              "11                   Regulatory affairs officer       Ricardomouth   \n",
              "12      Diplomatic Services operational officer     West Jamesview   \n",
              "13                 Investment banker, corporate     New Russellton   \n",
              "14                              Equities trader     New Russellton   \n",
              "...                                         ...                ...   \n",
              "299995                              Optometrist  North Melissafurt   \n",
              "299996                            Administrator         Aliciafort   \n",
              "299997                            Administrator   New Cindychester   \n",
              "299998                                     Make       Whitakerbury   \n",
              "299999                                  Actuary     New Russellton   \n",
              "\n",
              "       Employee_Country  Employee_Salary Employment_Status  Employee_Rating  \n",
              "10               Poland           656260         Full Time              4.9  \n",
              "11              Georgia           503610         Full Time              2.9  \n",
              "12                Niger           786430            Intern              3.6  \n",
              "13              Georgia           910210         Full Time              4.9  \n",
              "14          Puerto Rico           328860         Full Time              4.8  \n",
              "...                 ...              ...               ...              ...  \n",
              "299995            Samoa            99670            Intern              3.3  \n",
              "299996             Cuba           949580            Intern              2.6  \n",
              "299997          Bolivia           802830         Full Time              0.6  \n",
              "299998   Western Sahara           257240         Full Time              2.4  \n",
              "299999   United Kingdom           575770            Intern              3.3  \n",
              "\n",
              "[299990 rows x 8 columns]"
            ]
          },
          "execution_count": 117,
          "metadata": {},
          "output_type": "execute_result"
        }
      ],
      "source": [
        "df.iloc[10:]"
      ]
    },
    {
      "cell_type": "markdown",
      "metadata": {
        "id": "6ElCJsaOPrwa"
      },
      "source": [
        "### 83. Print the name of the company with the maximum employees having rating > 4."
      ]
    },
    {
      "cell_type": "code",
      "execution_count": 209,
      "metadata": {
        "id": "_QVE9uKfPrwa",
        "outputId": "c5c80e85-17ad-4bc3-8691-5dadfb2a0249"
      },
      "outputs": [
        {
          "data": {
            "text/plain": [
              "'Matthews Inc'"
            ]
          },
          "execution_count": 209,
          "metadata": {},
          "output_type": "execute_result"
        }
      ],
      "source": [
        "df[df['Employee_Rating'] > 4]['Company_Name'].value_counts().idxmax()"
      ]
    },
    {
      "cell_type": "markdown",
      "metadata": {
        "id": "HpL4GZ-dPrwa"
      },
      "source": [
        "### 88. Which is the most common first name in the dataframe?"
      ]
    },
    {
      "cell_type": "code",
      "execution_count": 208,
      "metadata": {
        "id": "eXfDT2ecPrwa",
        "outputId": "e347a711-72a2-43a3-98e2-a408b19c222c"
      },
      "outputs": [
        {
          "data": {
            "text/plain": [
              "'Michael'"
            ]
          },
          "execution_count": 208,
          "metadata": {},
          "output_type": "execute_result"
        }
      ],
      "source": [
        "df['Name'].str.split(' ').str[0].value_counts().idxmax()"
      ]
    },
    {
      "cell_type": "markdown",
      "metadata": {
        "id": "IlSjRwG8Prwa"
      },
      "source": [
        "### 90. What is the average name length?"
      ]
    },
    {
      "cell_type": "code",
      "execution_count": 207,
      "metadata": {
        "id": "glcYdNXIPrwa",
        "outputId": "665a5815-d869-4830-a281-66cee6ca7c64"
      },
      "outputs": [
        {
          "data": {
            "text/plain": [
              "13.1079"
            ]
          },
          "execution_count": 207,
          "metadata": {},
          "output_type": "execute_result"
        }
      ],
      "source": [
        "df['Name'].str.len().mean()"
      ]
    },
    {
      "cell_type": "markdown",
      "metadata": {
        "id": "ZLfhlN6MPrwb"
      },
      "source": [
        "# Pandas Notebook 3"
      ]
    },
    {
      "cell_type": "code",
      "execution_count": null,
      "metadata": {
        "id": "teZjdKX5Prwb"
      },
      "outputs": [],
      "source": [
        "import pandas as pd"
      ]
    },
    {
      "cell_type": "code",
      "execution_count": 406,
      "metadata": {
        "id": "z4PTkFGdPrwb",
        "outputId": "43966519-bd08-48e9-dd22-e329b701cd72"
      },
      "outputs": [
        {
          "data": {
            "text/html": [
              "<div>\n",
              "<style scoped>\n",
              "    .dataframe tbody tr th:only-of-type {\n",
              "        vertical-align: middle;\n",
              "    }\n",
              "\n",
              "    .dataframe tbody tr th {\n",
              "        vertical-align: top;\n",
              "    }\n",
              "\n",
              "    .dataframe thead th {\n",
              "        text-align: right;\n",
              "    }\n",
              "</style>\n",
              "<table border=\"1\" class=\"dataframe\">\n",
              "  <thead>\n",
              "    <tr style=\"text-align: right;\">\n",
              "      <th></th>\n",
              "      <th>Name</th>\n",
              "      <th>Company_Name</th>\n",
              "      <th>Employee_Job_Title</th>\n",
              "      <th>Employee_City</th>\n",
              "      <th>Employee_Country</th>\n",
              "      <th>Employee_Salary</th>\n",
              "      <th>Employment_Status</th>\n",
              "      <th>Employee_Rating</th>\n",
              "    </tr>\n",
              "  </thead>\n",
              "  <tbody>\n",
              "    <tr>\n",
              "      <th>0</th>\n",
              "      <td>Spencer Adkins</td>\n",
              "      <td>James and Sons</td>\n",
              "      <td>Equities trader</td>\n",
              "      <td>New Russellton</td>\n",
              "      <td>Palestinian Territory</td>\n",
              "      <td>321520</td>\n",
              "      <td>Full Time</td>\n",
              "      <td>3.9</td>\n",
              "    </tr>\n",
              "    <tr>\n",
              "      <th>1</th>\n",
              "      <td>Julie Morton</td>\n",
              "      <td>Nichols-James</td>\n",
              "      <td>Diplomatic Services operational officer</td>\n",
              "      <td>North Melissafurt</td>\n",
              "      <td>Marshall Islands</td>\n",
              "      <td>589090</td>\n",
              "      <td>Full Time</td>\n",
              "      <td>4.3</td>\n",
              "    </tr>\n",
              "    <tr>\n",
              "      <th>2</th>\n",
              "      <td>Matthew Hall</td>\n",
              "      <td>Scott Inc</td>\n",
              "      <td>Regulatory affairs officer</td>\n",
              "      <td>Wardfort</td>\n",
              "      <td>Anguilla</td>\n",
              "      <td>630890</td>\n",
              "      <td>Full Time</td>\n",
              "      <td>3.1</td>\n",
              "    </tr>\n",
              "    <tr>\n",
              "      <th>3</th>\n",
              "      <td>Brad Scott</td>\n",
              "      <td>Johnston, Fleming and Tanner</td>\n",
              "      <td>Production engineer</td>\n",
              "      <td>West Jamesview</td>\n",
              "      <td>Syrian Arab Republic</td>\n",
              "      <td>116400</td>\n",
              "      <td>Full Time</td>\n",
              "      <td>3.1</td>\n",
              "    </tr>\n",
              "    <tr>\n",
              "      <th>4</th>\n",
              "      <td>Theresa Owens</td>\n",
              "      <td>Baker, Allen and Edwards</td>\n",
              "      <td>Production engineer</td>\n",
              "      <td>Whiteside</td>\n",
              "      <td>Dominica</td>\n",
              "      <td>523499</td>\n",
              "      <td>Full Time</td>\n",
              "      <td>4.8</td>\n",
              "    </tr>\n",
              "  </tbody>\n",
              "</table>\n",
              "</div>"
            ],
            "text/plain": [
              "             Name                  Company_Name  \\\n",
              "0  Spencer Adkins                James and Sons   \n",
              "1    Julie Morton                 Nichols-James   \n",
              "2    Matthew Hall                     Scott Inc   \n",
              "3      Brad Scott  Johnston, Fleming and Tanner   \n",
              "4   Theresa Owens      Baker, Allen and Edwards   \n",
              "\n",
              "                        Employee_Job_Title      Employee_City  \\\n",
              "0                          Equities trader     New Russellton   \n",
              "1  Diplomatic Services operational officer  North Melissafurt   \n",
              "2               Regulatory affairs officer           Wardfort   \n",
              "3                      Production engineer     West Jamesview   \n",
              "4                      Production engineer          Whiteside   \n",
              "\n",
              "        Employee_Country  Employee_Salary Employment_Status  Employee_Rating  \n",
              "0  Palestinian Territory           321520         Full Time              3.9  \n",
              "1       Marshall Islands           589090         Full Time              4.3  \n",
              "2               Anguilla           630890         Full Time              3.1  \n",
              "3   Syrian Arab Republic           116400         Full Time              3.1  \n",
              "4               Dominica           523499         Full Time              4.8  "
            ]
          },
          "execution_count": 406,
          "metadata": {},
          "output_type": "execute_result"
        }
      ],
      "source": [
        "df = pd.read_csv(\"./input_data/employee_dataset.csv\")\n",
        "df.head()"
      ]
    },
    {
      "cell_type": "markdown",
      "metadata": {
        "id": "ibOytWifPrwb"
      },
      "source": [
        "### 91. What is the ratio of total full-time employees to Interns?"
      ]
    },
    {
      "cell_type": "code",
      "execution_count": 206,
      "metadata": {
        "id": "V1rPkPEePrwb",
        "outputId": "6ebc0c8d-fc1a-49c7-c9d2-418d6ef0c027"
      },
      "outputs": [
        {
          "data": {
            "text/plain": [
              "4.0008334722453744"
            ]
          },
          "execution_count": 206,
          "metadata": {},
          "output_type": "execute_result"
        }
      ],
      "source": [
        "status = df['Employment_Status'].value_counts()\n",
        "status['Full Time'] / status['Intern']"
      ]
    },
    {
      "cell_type": "markdown",
      "metadata": {
        "id": "zMukwDKZPrwb"
      },
      "source": [
        "### 92. Starting from the first record, print every third record in the DataFrame."
      ]
    },
    {
      "cell_type": "markdown",
      "metadata": {
        "id": "RGY1hYrMPrwb"
      },
      "source": [
        "Print 1st row, then 4th, 7th, 10th, and so on..."
      ]
    },
    {
      "cell_type": "code",
      "execution_count": 162,
      "metadata": {
        "id": "r7B23Tc_Prwb",
        "outputId": "9b60dcf9-f274-414f-cfe7-9d2e5b61cd79"
      },
      "outputs": [
        {
          "data": {
            "text/html": [
              "<div>\n",
              "<style scoped>\n",
              "    .dataframe tbody tr th:only-of-type {\n",
              "        vertical-align: middle;\n",
              "    }\n",
              "\n",
              "    .dataframe tbody tr th {\n",
              "        vertical-align: top;\n",
              "    }\n",
              "\n",
              "    .dataframe thead th {\n",
              "        text-align: right;\n",
              "    }\n",
              "</style>\n",
              "<table border=\"1\" class=\"dataframe\">\n",
              "  <thead>\n",
              "    <tr style=\"text-align: right;\">\n",
              "      <th></th>\n",
              "      <th>Name</th>\n",
              "      <th>Company_Name</th>\n",
              "      <th>Employee_Job_Title</th>\n",
              "      <th>Employee_City</th>\n",
              "      <th>Employee_Country</th>\n",
              "      <th>Employee_Salary</th>\n",
              "      <th>Employment_Status</th>\n",
              "      <th>Employee_Rating</th>\n",
              "    </tr>\n",
              "  </thead>\n",
              "  <tbody>\n",
              "    <tr>\n",
              "      <th>0</th>\n",
              "      <td>Spencer Adkins</td>\n",
              "      <td>James and Sons</td>\n",
              "      <td>Equities trader</td>\n",
              "      <td>New Russellton</td>\n",
              "      <td>Palestinian Territory</td>\n",
              "      <td>321520</td>\n",
              "      <td>Full Time</td>\n",
              "      <td>3.9</td>\n",
              "    </tr>\n",
              "    <tr>\n",
              "      <th>3</th>\n",
              "      <td>Brad Scott</td>\n",
              "      <td>Johnston, Fleming and Tanner</td>\n",
              "      <td>Production engineer</td>\n",
              "      <td>West Jamesview</td>\n",
              "      <td>Syrian Arab Republic</td>\n",
              "      <td>116400</td>\n",
              "      <td>Full Time</td>\n",
              "      <td>3.1</td>\n",
              "    </tr>\n",
              "    <tr>\n",
              "      <th>6</th>\n",
              "      <td>Kelly Brown</td>\n",
              "      <td>Andrade LLC</td>\n",
              "      <td>Naval architect</td>\n",
              "      <td>Wardfort</td>\n",
              "      <td>Aruba</td>\n",
              "      <td>711410</td>\n",
              "      <td>Full Time</td>\n",
              "      <td>2.0</td>\n",
              "    </tr>\n",
              "    <tr>\n",
              "      <th>9</th>\n",
              "      <td>Michael Edwards</td>\n",
              "      <td>Campos, Reynolds and Mccormick</td>\n",
              "      <td>Ergonomist</td>\n",
              "      <td>New Cindychester</td>\n",
              "      <td>Lao People's Democratic Republic</td>\n",
              "      <td>516950</td>\n",
              "      <td>Full Time</td>\n",
              "      <td>2.3</td>\n",
              "    </tr>\n",
              "    <tr>\n",
              "      <th>12</th>\n",
              "      <td>Tiffany Galvan</td>\n",
              "      <td>Campos, Reynolds and Mccormick</td>\n",
              "      <td>Diplomatic Services operational officer</td>\n",
              "      <td>West Jamesview</td>\n",
              "      <td>Niger</td>\n",
              "      <td>786430</td>\n",
              "      <td>Intern</td>\n",
              "      <td>3.6</td>\n",
              "    </tr>\n",
              "    <tr>\n",
              "      <th>...</th>\n",
              "      <td>...</td>\n",
              "      <td>...</td>\n",
              "      <td>...</td>\n",
              "      <td>...</td>\n",
              "      <td>...</td>\n",
              "      <td>...</td>\n",
              "      <td>...</td>\n",
              "      <td>...</td>\n",
              "    </tr>\n",
              "    <tr>\n",
              "      <th>299985</th>\n",
              "      <td>Chase Stevens</td>\n",
              "      <td>Nelson-Li</td>\n",
              "      <td>Energy manager</td>\n",
              "      <td>Whitakerbury</td>\n",
              "      <td>Northern Mariana Islands</td>\n",
              "      <td>590590</td>\n",
              "      <td>Full Time</td>\n",
              "      <td>2.6</td>\n",
              "    </tr>\n",
              "    <tr>\n",
              "      <th>299988</th>\n",
              "      <td>Kenneth Hurley</td>\n",
              "      <td>Scott Inc</td>\n",
              "      <td>Make</td>\n",
              "      <td>New Russellton</td>\n",
              "      <td>Russian Federation</td>\n",
              "      <td>211180</td>\n",
              "      <td>Full Time</td>\n",
              "      <td>3.9</td>\n",
              "    </tr>\n",
              "    <tr>\n",
              "      <th>299991</th>\n",
              "      <td>William Rodriguez</td>\n",
              "      <td>Scott Inc</td>\n",
              "      <td>Ergonomist</td>\n",
              "      <td>Whiteside</td>\n",
              "      <td>New Zealand</td>\n",
              "      <td>214400</td>\n",
              "      <td>Full Time</td>\n",
              "      <td>1.5</td>\n",
              "    </tr>\n",
              "    <tr>\n",
              "      <th>299994</th>\n",
              "      <td>Kelly Bennett</td>\n",
              "      <td>White, Mcclain and Cobb</td>\n",
              "      <td>Radiographer, therapeutic</td>\n",
              "      <td>Wardfort</td>\n",
              "      <td>Fiji</td>\n",
              "      <td>182270</td>\n",
              "      <td>Full Time</td>\n",
              "      <td>3.6</td>\n",
              "    </tr>\n",
              "    <tr>\n",
              "      <th>299997</th>\n",
              "      <td>Lynn Wilson</td>\n",
              "      <td>Nichols-James</td>\n",
              "      <td>Administrator</td>\n",
              "      <td>New Cindychester</td>\n",
              "      <td>Bolivia</td>\n",
              "      <td>802830</td>\n",
              "      <td>Full Time</td>\n",
              "      <td>0.6</td>\n",
              "    </tr>\n",
              "  </tbody>\n",
              "</table>\n",
              "<p>100000 rows × 8 columns</p>\n",
              "</div>"
            ],
            "text/plain": [
              "                     Name                    Company_Name  \\\n",
              "0          Spencer Adkins                  James and Sons   \n",
              "3              Brad Scott    Johnston, Fleming and Tanner   \n",
              "6             Kelly Brown                     Andrade LLC   \n",
              "9         Michael Edwards  Campos, Reynolds and Mccormick   \n",
              "12         Tiffany Galvan  Campos, Reynolds and Mccormick   \n",
              "...                   ...                             ...   \n",
              "299985      Chase Stevens                       Nelson-Li   \n",
              "299988     Kenneth Hurley                       Scott Inc   \n",
              "299991  William Rodriguez                       Scott Inc   \n",
              "299994      Kelly Bennett         White, Mcclain and Cobb   \n",
              "299997        Lynn Wilson                   Nichols-James   \n",
              "\n",
              "                             Employee_Job_Title     Employee_City  \\\n",
              "0                               Equities trader    New Russellton   \n",
              "3                           Production engineer    West Jamesview   \n",
              "6                               Naval architect          Wardfort   \n",
              "9                                    Ergonomist  New Cindychester   \n",
              "12      Diplomatic Services operational officer    West Jamesview   \n",
              "...                                         ...               ...   \n",
              "299985                           Energy manager      Whitakerbury   \n",
              "299988                                     Make    New Russellton   \n",
              "299991                               Ergonomist         Whiteside   \n",
              "299994                Radiographer, therapeutic          Wardfort   \n",
              "299997                            Administrator  New Cindychester   \n",
              "\n",
              "                        Employee_Country  Employee_Salary Employment_Status  \\\n",
              "0                  Palestinian Territory           321520         Full Time   \n",
              "3                   Syrian Arab Republic           116400         Full Time   \n",
              "6                                  Aruba           711410         Full Time   \n",
              "9       Lao People's Democratic Republic           516950         Full Time   \n",
              "12                                 Niger           786430            Intern   \n",
              "...                                  ...              ...               ...   \n",
              "299985          Northern Mariana Islands           590590         Full Time   \n",
              "299988                Russian Federation           211180         Full Time   \n",
              "299991                       New Zealand           214400         Full Time   \n",
              "299994                              Fiji           182270         Full Time   \n",
              "299997                           Bolivia           802830         Full Time   \n",
              "\n",
              "        Employee_Rating  \n",
              "0                   3.9  \n",
              "3                   3.1  \n",
              "6                   2.0  \n",
              "9                   2.3  \n",
              "12                  3.6  \n",
              "...                 ...  \n",
              "299985              2.6  \n",
              "299988              3.9  \n",
              "299991              1.5  \n",
              "299994              3.6  \n",
              "299997              0.6  \n",
              "\n",
              "[100000 rows x 8 columns]"
            ]
          },
          "execution_count": 162,
          "metadata": {},
          "output_type": "execute_result"
        }
      ],
      "source": [
        "df.iloc[::3]"
      ]
    },
    {
      "cell_type": "markdown",
      "metadata": {
        "id": "KOWvV0U2Prwb"
      },
      "source": [
        "### 93. Find the average salary for every company."
      ]
    },
    {
      "cell_type": "code",
      "execution_count": 168,
      "metadata": {
        "id": "jUz_diauPrwb",
        "outputId": "afe54136-3abc-41c8-a60b-1b97626b2854"
      },
      "outputs": [
        {
          "data": {
            "text/plain": [
              "Company_Name\n",
              "Andrade LLC                       497237.159385\n",
              "Baker, Allen and Edwards          498032.358445\n",
              "Bullock-Carrillo                  499603.804865\n",
              "Campos, Reynolds and Mccormick    503528.982687\n",
              "James and Sons                    503581.015754\n",
              "Johnston, Fleming and Tanner      500579.128010\n",
              "Marshall-Holloway                 502314.169445\n",
              "Matthews Inc                      501640.159488\n",
              "Nelson-Li                         500569.824558\n",
              "Nichols-James                     497881.232334\n",
              "Scott Inc                         500491.809024\n",
              "Taylor-Ramos                      498747.292516\n",
              "Thomas-Spencer                    499350.850164\n",
              "Wallace, Smith and Shepard        500807.608810\n",
              "White, Mcclain and Cobb           499083.493806\n",
              "Name: Employee_Salary, dtype: float64"
            ]
          },
          "execution_count": 168,
          "metadata": {},
          "output_type": "execute_result"
        }
      ],
      "source": [
        "df.groupby('Company_Name')['Employee_Salary'].mean()"
      ]
    },
    {
      "cell_type": "markdown",
      "metadata": {
        "id": "htSVdlqdPrwb"
      },
      "source": [
        "### 95. Find the average salary and average rating for every company in a single line."
      ]
    },
    {
      "cell_type": "code",
      "execution_count": 174,
      "metadata": {
        "id": "NqNFzusZPrwb",
        "outputId": "1049badd-bb01-4a75-b4b9-18c8e2788cdf"
      },
      "outputs": [
        {
          "data": {
            "text/html": [
              "<div>\n",
              "<style scoped>\n",
              "    .dataframe tbody tr th:only-of-type {\n",
              "        vertical-align: middle;\n",
              "    }\n",
              "\n",
              "    .dataframe tbody tr th {\n",
              "        vertical-align: top;\n",
              "    }\n",
              "\n",
              "    .dataframe thead th {\n",
              "        text-align: right;\n",
              "    }\n",
              "</style>\n",
              "<table border=\"1\" class=\"dataframe\">\n",
              "  <thead>\n",
              "    <tr style=\"text-align: right;\">\n",
              "      <th></th>\n",
              "      <th>Employee_Salary</th>\n",
              "      <th>Employee_Rating</th>\n",
              "    </tr>\n",
              "    <tr>\n",
              "      <th>Company_Name</th>\n",
              "      <th></th>\n",
              "      <th></th>\n",
              "    </tr>\n",
              "  </thead>\n",
              "  <tbody>\n",
              "    <tr>\n",
              "      <th>Andrade LLC</th>\n",
              "      <td>497237.159385</td>\n",
              "      <td>2.498218</td>\n",
              "    </tr>\n",
              "    <tr>\n",
              "      <th>Baker, Allen and Edwards</th>\n",
              "      <td>498032.358445</td>\n",
              "      <td>2.504795</td>\n",
              "    </tr>\n",
              "    <tr>\n",
              "      <th>Bullock-Carrillo</th>\n",
              "      <td>499603.804865</td>\n",
              "      <td>2.502014</td>\n",
              "    </tr>\n",
              "    <tr>\n",
              "      <th>Campos, Reynolds and Mccormick</th>\n",
              "      <td>503528.982687</td>\n",
              "      <td>2.506288</td>\n",
              "    </tr>\n",
              "    <tr>\n",
              "      <th>James and Sons</th>\n",
              "      <td>503581.015754</td>\n",
              "      <td>2.505023</td>\n",
              "    </tr>\n",
              "    <tr>\n",
              "      <th>Johnston, Fleming and Tanner</th>\n",
              "      <td>500579.128010</td>\n",
              "      <td>2.513159</td>\n",
              "    </tr>\n",
              "    <tr>\n",
              "      <th>Marshall-Holloway</th>\n",
              "      <td>502314.169445</td>\n",
              "      <td>2.504900</td>\n",
              "    </tr>\n",
              "    <tr>\n",
              "      <th>Matthews Inc</th>\n",
              "      <td>501640.159488</td>\n",
              "      <td>2.525454</td>\n",
              "    </tr>\n",
              "    <tr>\n",
              "      <th>Nelson-Li</th>\n",
              "      <td>500569.824558</td>\n",
              "      <td>2.504649</td>\n",
              "    </tr>\n",
              "    <tr>\n",
              "      <th>Nichols-James</th>\n",
              "      <td>497881.232334</td>\n",
              "      <td>2.488554</td>\n",
              "    </tr>\n",
              "    <tr>\n",
              "      <th>Scott Inc</th>\n",
              "      <td>500491.809024</td>\n",
              "      <td>2.515993</td>\n",
              "    </tr>\n",
              "    <tr>\n",
              "      <th>Taylor-Ramos</th>\n",
              "      <td>498747.292516</td>\n",
              "      <td>2.513150</td>\n",
              "    </tr>\n",
              "    <tr>\n",
              "      <th>Thomas-Spencer</th>\n",
              "      <td>499350.850164</td>\n",
              "      <td>2.505114</td>\n",
              "    </tr>\n",
              "    <tr>\n",
              "      <th>Wallace, Smith and Shepard</th>\n",
              "      <td>500807.608810</td>\n",
              "      <td>2.497402</td>\n",
              "    </tr>\n",
              "    <tr>\n",
              "      <th>White, Mcclain and Cobb</th>\n",
              "      <td>499083.493806</td>\n",
              "      <td>2.504047</td>\n",
              "    </tr>\n",
              "  </tbody>\n",
              "</table>\n",
              "</div>"
            ],
            "text/plain": [
              "                                Employee_Salary  Employee_Rating\n",
              "Company_Name                                                    \n",
              "Andrade LLC                       497237.159385         2.498218\n",
              "Baker, Allen and Edwards          498032.358445         2.504795\n",
              "Bullock-Carrillo                  499603.804865         2.502014\n",
              "Campos, Reynolds and Mccormick    503528.982687         2.506288\n",
              "James and Sons                    503581.015754         2.505023\n",
              "Johnston, Fleming and Tanner      500579.128010         2.513159\n",
              "Marshall-Holloway                 502314.169445         2.504900\n",
              "Matthews Inc                      501640.159488         2.525454\n",
              "Nelson-Li                         500569.824558         2.504649\n",
              "Nichols-James                     497881.232334         2.488554\n",
              "Scott Inc                         500491.809024         2.515993\n",
              "Taylor-Ramos                      498747.292516         2.513150\n",
              "Thomas-Spencer                    499350.850164         2.505114\n",
              "Wallace, Smith and Shepard        500807.608810         2.497402\n",
              "White, Mcclain and Cobb           499083.493806         2.504047"
            ]
          },
          "execution_count": 174,
          "metadata": {},
          "output_type": "execute_result"
        }
      ],
      "source": [
        "df.groupby('Company_Name')[['Employee_Salary', 'Employee_Rating']].mean()"
      ]
    },
    {
      "cell_type": "markdown",
      "metadata": {
        "id": "vjPKwVORPrwb"
      },
      "source": [
        "### 96. Find the number of unique Employee_City corresponding to every Company_Name."
      ]
    },
    {
      "cell_type": "code",
      "execution_count": 187,
      "metadata": {
        "id": "9k3QV1aIPrwb"
      },
      "outputs": [
        {
          "data": {
            "text/plain": [
              "Company_Name\n",
              "Andrade LLC                       [Ricardomouth, Wardfort, Aliciafort, Kristabur...\n",
              "Baker, Allen and Edwards          [Whiteside, Ricardomouth, North Melissafurt, N...\n",
              "Bullock-Carrillo                  [New Russellton, Aliciafort, Whiteside, Krista...\n",
              "Campos, Reynolds and Mccormick    [New Cindychester, West Jamesview, North Melis...\n",
              "James and Sons                    [New Russellton, West Jamesview, Ricardomouth,...\n",
              "Johnston, Fleming and Tanner      [West Jamesview, Ricardomouth, Wardfort, Krist...\n",
              "Marshall-Holloway                 [Kristaburgh, West Jamesview, Wardfort, Whites...\n",
              "Matthews Inc                      [Kristaburgh, New Russellton, Aliciafort, Ward...\n",
              "Nelson-Li                         [Whitakerbury, Wardfort, Aliciafort, West Jame...\n",
              "Nichols-James                     [North Melissafurt, New Russellton, Kristaburg...\n",
              "Scott Inc                         [Wardfort, West Jamesview, New Cindychester, W...\n",
              "Taylor-Ramos                      [West Jamesview, Wardfort, New Russellton, Whi...\n",
              "Thomas-Spencer                    [Whitakerbury, New Russellton, Whiteside, Kris...\n",
              "Wallace, Smith and Shepard        [North Melissafurt, Aliciafort, Whiteside, New...\n",
              "White, Mcclain and Cobb           [Whiteside, Whitakerbury, North Melissafurt, W...\n",
              "Name: Employee_City, dtype: object"
            ]
          },
          "execution_count": 187,
          "metadata": {},
          "output_type": "execute_result"
        }
      ],
      "source": [
        "df.groupby('Company_Name')['Employee_City'].unique()"
      ]
    },
    {
      "cell_type": "markdown",
      "metadata": {
        "id": "Jas958ClPrwb"
      },
      "source": [
        "### 98. Print the number of full-time and intern employees for every company"
      ]
    },
    {
      "cell_type": "code",
      "execution_count": 194,
      "metadata": {
        "id": "ZfQMgskqPrwb",
        "outputId": "827a0b11-e756-4c34-f388-1528bc862c3b"
      },
      "outputs": [
        {
          "data": {
            "text/plain": [
              "Company_Name                    Employment_Status\n",
              "Andrade LLC                     Full Time            15964\n",
              "                                Intern                4019\n",
              "Baker, Allen and Edwards        Full Time            16118\n",
              "                                Intern                3966\n",
              "Bullock-Carrillo                Full Time            16135\n",
              "                                Intern                3928\n",
              "Campos, Reynolds and Mccormick  Full Time            15930\n",
              "                                Intern                3997\n",
              "James and Sons                  Full Time            15888\n",
              "                                Intern                3980\n",
              "Johnston, Fleming and Tanner    Full Time            15832\n",
              "                                Intern                3979\n",
              "Marshall-Holloway               Full Time            15871\n",
              "                                Intern                3988\n",
              "Matthews Inc                    Full Time            16082\n",
              "                                Intern                4001\n",
              "Nelson-Li                       Full Time            16027\n",
              "                                Intern                4105\n",
              "Nichols-James                   Full Time            15872\n",
              "                                Intern                4039\n",
              "Scott Inc                       Full Time            16396\n",
              "                                Intern                3994\n",
              "Taylor-Ramos                    Full Time            16086\n",
              "                                Intern                4036\n",
              "Thomas-Spencer                  Full Time            16037\n",
              "                                Intern                4105\n",
              "Wallace, Smith and Shepard      Full Time            15467\n",
              "                                Intern                3897\n",
              "White, Mcclain and Cobb         Full Time            16305\n",
              "                                Intern                3956\n",
              "Name: count, dtype: int64"
            ]
          },
          "execution_count": 194,
          "metadata": {},
          "output_type": "execute_result"
        }
      ],
      "source": [
        "df.groupby('Company_Name')['Employment_Status'].value_counts()"
      ]
    },
    {
      "cell_type": "markdown",
      "metadata": {
        "id": "e13L7bEkPrwb"
      },
      "source": [
        "### 99. Print the job title with the most employees."
      ]
    },
    {
      "cell_type": "code",
      "execution_count": 205,
      "metadata": {
        "id": "ASaeBSRKPrwb",
        "outputId": "3b897fd8-31fb-4b4f-8238-eeb291746c56"
      },
      "outputs": [
        {
          "data": {
            "text/plain": [
              "'Diplomatic Services operational officer'"
            ]
          },
          "execution_count": 205,
          "metadata": {},
          "output_type": "execute_result"
        }
      ],
      "source": [
        "df['Employee_Job_Title'].value_counts().idxmax()"
      ]
    },
    {
      "cell_type": "markdown",
      "metadata": {
        "id": "fIak_HKbPrwb"
      },
      "source": [
        "### 107. Check if the substring 'Michael Edward' appears in the Name column or not."
      ]
    },
    {
      "cell_type": "code",
      "execution_count": 213,
      "metadata": {
        "id": "anFs0wZkPrwb",
        "outputId": "97a64c1a-a39a-4e44-8447-a9774349fb41"
      },
      "outputs": [
        {
          "data": {
            "text/html": [
              "<div>\n",
              "<style scoped>\n",
              "    .dataframe tbody tr th:only-of-type {\n",
              "        vertical-align: middle;\n",
              "    }\n",
              "\n",
              "    .dataframe tbody tr th {\n",
              "        vertical-align: top;\n",
              "    }\n",
              "\n",
              "    .dataframe thead th {\n",
              "        text-align: right;\n",
              "    }\n",
              "</style>\n",
              "<table border=\"1\" class=\"dataframe\">\n",
              "  <thead>\n",
              "    <tr style=\"text-align: right;\">\n",
              "      <th></th>\n",
              "      <th>Name</th>\n",
              "      <th>Company_Name</th>\n",
              "      <th>Employee_Job_Title</th>\n",
              "      <th>Employee_City</th>\n",
              "      <th>Employee_Country</th>\n",
              "      <th>Employee_Salary</th>\n",
              "      <th>Employment_Status</th>\n",
              "      <th>Employee_Rating</th>\n",
              "    </tr>\n",
              "  </thead>\n",
              "  <tbody>\n",
              "    <tr>\n",
              "      <th>9</th>\n",
              "      <td>Michael Edwards</td>\n",
              "      <td>Campos, Reynolds and Mccormick</td>\n",
              "      <td>Ergonomist</td>\n",
              "      <td>New Cindychester</td>\n",
              "      <td>Lao People's Democratic Republic</td>\n",
              "      <td>516950</td>\n",
              "      <td>Full Time</td>\n",
              "      <td>2.3</td>\n",
              "    </tr>\n",
              "    <tr>\n",
              "      <th>5255</th>\n",
              "      <td>Michael Edwards</td>\n",
              "      <td>Johnston, Fleming and Tanner</td>\n",
              "      <td>Regulatory affairs officer</td>\n",
              "      <td>West Jamesview</td>\n",
              "      <td>Brazil</td>\n",
              "      <td>822420</td>\n",
              "      <td>Intern</td>\n",
              "      <td>3.5</td>\n",
              "    </tr>\n",
              "    <tr>\n",
              "      <th>18849</th>\n",
              "      <td>Michael Edwards</td>\n",
              "      <td>White, Mcclain and Cobb</td>\n",
              "      <td>Armed forces logistics/support/administrative ...</td>\n",
              "      <td>Whiteside</td>\n",
              "      <td>Croatia</td>\n",
              "      <td>818710</td>\n",
              "      <td>Full Time</td>\n",
              "      <td>2.8</td>\n",
              "    </tr>\n",
              "    <tr>\n",
              "      <th>25616</th>\n",
              "      <td>Michael Edwards</td>\n",
              "      <td>Bullock-Carrillo</td>\n",
              "      <td>Trading standards officer</td>\n",
              "      <td>Wardfort</td>\n",
              "      <td>Greenland</td>\n",
              "      <td>467160</td>\n",
              "      <td>Intern</td>\n",
              "      <td>2.1</td>\n",
              "    </tr>\n",
              "    <tr>\n",
              "      <th>31519</th>\n",
              "      <td>Michael Edwards</td>\n",
              "      <td>Nelson-Li</td>\n",
              "      <td>Patent examiner</td>\n",
              "      <td>Whiteside</td>\n",
              "      <td>Kuwait</td>\n",
              "      <td>287350</td>\n",
              "      <td>Full Time</td>\n",
              "      <td>1.8</td>\n",
              "    </tr>\n",
              "    <tr>\n",
              "      <th>112668</th>\n",
              "      <td>Michael Edwards</td>\n",
              "      <td>Scott Inc</td>\n",
              "      <td>Equities trader</td>\n",
              "      <td>West Jamesview</td>\n",
              "      <td>Northern Mariana Islands</td>\n",
              "      <td>21540</td>\n",
              "      <td>Full Time</td>\n",
              "      <td>1.5</td>\n",
              "    </tr>\n",
              "    <tr>\n",
              "      <th>114386</th>\n",
              "      <td>Michael Edwards</td>\n",
              "      <td>Nichols-James</td>\n",
              "      <td>Patent examiner</td>\n",
              "      <td>Whitakerbury</td>\n",
              "      <td>Iceland</td>\n",
              "      <td>687630</td>\n",
              "      <td>Intern</td>\n",
              "      <td>2.1</td>\n",
              "    </tr>\n",
              "    <tr>\n",
              "      <th>124065</th>\n",
              "      <td>Michael Edwards</td>\n",
              "      <td>White, Mcclain and Cobb</td>\n",
              "      <td>Diplomatic Services operational officer</td>\n",
              "      <td>Ricardomouth</td>\n",
              "      <td>Central African Republic</td>\n",
              "      <td>546870</td>\n",
              "      <td>Full Time</td>\n",
              "      <td>1.4</td>\n",
              "    </tr>\n",
              "    <tr>\n",
              "      <th>135078</th>\n",
              "      <td>Michael Edwards</td>\n",
              "      <td>Matthews Inc</td>\n",
              "      <td>Patent examiner</td>\n",
              "      <td>Wardfort</td>\n",
              "      <td>Grenada</td>\n",
              "      <td>209030</td>\n",
              "      <td>Full Time</td>\n",
              "      <td>2.2</td>\n",
              "    </tr>\n",
              "    <tr>\n",
              "      <th>149363</th>\n",
              "      <td>Michael Edwards</td>\n",
              "      <td>Scott Inc</td>\n",
              "      <td>Diplomatic Services operational officer</td>\n",
              "      <td>Wardfort</td>\n",
              "      <td>Chile</td>\n",
              "      <td>254160</td>\n",
              "      <td>Intern</td>\n",
              "      <td>1.2</td>\n",
              "    </tr>\n",
              "    <tr>\n",
              "      <th>158104</th>\n",
              "      <td>Michael Edwards</td>\n",
              "      <td>Wallace, Smith and Shepard</td>\n",
              "      <td>Regulatory affairs officer</td>\n",
              "      <td>New Russellton</td>\n",
              "      <td>Angola</td>\n",
              "      <td>121770</td>\n",
              "      <td>Full Time</td>\n",
              "      <td>1.1</td>\n",
              "    </tr>\n",
              "    <tr>\n",
              "      <th>191831</th>\n",
              "      <td>Michael Edwards</td>\n",
              "      <td>Wallace, Smith and Shepard</td>\n",
              "      <td>Trading standards officer</td>\n",
              "      <td>Aliciafort</td>\n",
              "      <td>Israel</td>\n",
              "      <td>854420</td>\n",
              "      <td>Full Time</td>\n",
              "      <td>4.8</td>\n",
              "    </tr>\n",
              "    <tr>\n",
              "      <th>193911</th>\n",
              "      <td>Michael Edwards</td>\n",
              "      <td>Baker, Allen and Edwards</td>\n",
              "      <td>Investment banker, corporate</td>\n",
              "      <td>New Cindychester</td>\n",
              "      <td>Lesotho</td>\n",
              "      <td>365180</td>\n",
              "      <td>Full Time</td>\n",
              "      <td>1.8</td>\n",
              "    </tr>\n",
              "    <tr>\n",
              "      <th>205550</th>\n",
              "      <td>Michael Edwards</td>\n",
              "      <td>Johnston, Fleming and Tanner</td>\n",
              "      <td>Patent examiner</td>\n",
              "      <td>Wardfort</td>\n",
              "      <td>Belgium</td>\n",
              "      <td>579130</td>\n",
              "      <td>Intern</td>\n",
              "      <td>4.7</td>\n",
              "    </tr>\n",
              "    <tr>\n",
              "      <th>210504</th>\n",
              "      <td>Michael Edwards</td>\n",
              "      <td>White, Mcclain and Cobb</td>\n",
              "      <td>Ergonomist</td>\n",
              "      <td>Whiteside</td>\n",
              "      <td>Philippines</td>\n",
              "      <td>150730</td>\n",
              "      <td>Full Time</td>\n",
              "      <td>3.2</td>\n",
              "    </tr>\n",
              "    <tr>\n",
              "      <th>217498</th>\n",
              "      <td>Michael Edwards</td>\n",
              "      <td>Johnston, Fleming and Tanner</td>\n",
              "      <td>Actuary</td>\n",
              "      <td>Wardfort</td>\n",
              "      <td>Trinidad and Tobago</td>\n",
              "      <td>600090</td>\n",
              "      <td>Full Time</td>\n",
              "      <td>0.8</td>\n",
              "    </tr>\n",
              "    <tr>\n",
              "      <th>217970</th>\n",
              "      <td>Michael Edwards</td>\n",
              "      <td>Bullock-Carrillo</td>\n",
              "      <td>Equities trader</td>\n",
              "      <td>West Jamesview</td>\n",
              "      <td>Slovakia (Slovak Republic)</td>\n",
              "      <td>698220</td>\n",
              "      <td>Full Time</td>\n",
              "      <td>0.7</td>\n",
              "    </tr>\n",
              "    <tr>\n",
              "      <th>227767</th>\n",
              "      <td>Michael Edwards</td>\n",
              "      <td>Marshall-Holloway</td>\n",
              "      <td>Armed forces logistics/support/administrative ...</td>\n",
              "      <td>North Melissafurt</td>\n",
              "      <td>Ghana</td>\n",
              "      <td>565940</td>\n",
              "      <td>Intern</td>\n",
              "      <td>4.4</td>\n",
              "    </tr>\n",
              "    <tr>\n",
              "      <th>229786</th>\n",
              "      <td>Michael Edwards</td>\n",
              "      <td>Scott Inc</td>\n",
              "      <td>Diplomatic Services operational officer</td>\n",
              "      <td>Whitakerbury</td>\n",
              "      <td>Turks and Caicos Islands</td>\n",
              "      <td>105450</td>\n",
              "      <td>Intern</td>\n",
              "      <td>2.6</td>\n",
              "    </tr>\n",
              "    <tr>\n",
              "      <th>267189</th>\n",
              "      <td>Michael Edwards</td>\n",
              "      <td>James and Sons</td>\n",
              "      <td>Make</td>\n",
              "      <td>Ricardomouth</td>\n",
              "      <td>Paraguay</td>\n",
              "      <td>391700</td>\n",
              "      <td>Intern</td>\n",
              "      <td>1.4</td>\n",
              "    </tr>\n",
              "    <tr>\n",
              "      <th>276731</th>\n",
              "      <td>Michael Edwards</td>\n",
              "      <td>Campos, Reynolds and Mccormick</td>\n",
              "      <td>Armed forces logistics/support/administrative ...</td>\n",
              "      <td>North Melissafurt</td>\n",
              "      <td>Serbia</td>\n",
              "      <td>865280</td>\n",
              "      <td>Intern</td>\n",
              "      <td>0.7</td>\n",
              "    </tr>\n",
              "    <tr>\n",
              "      <th>282601</th>\n",
              "      <td>Michael Edwards</td>\n",
              "      <td>White, Mcclain and Cobb</td>\n",
              "      <td>Naval architect</td>\n",
              "      <td>Wardfort</td>\n",
              "      <td>Cambodia</td>\n",
              "      <td>855180</td>\n",
              "      <td>Intern</td>\n",
              "      <td>4.7</td>\n",
              "    </tr>\n",
              "    <tr>\n",
              "      <th>287887</th>\n",
              "      <td>Michael Edwards</td>\n",
              "      <td>Scott Inc</td>\n",
              "      <td>Investment banker, corporate</td>\n",
              "      <td>Aliciafort</td>\n",
              "      <td>Belize</td>\n",
              "      <td>69680</td>\n",
              "      <td>Intern</td>\n",
              "      <td>1.9</td>\n",
              "    </tr>\n",
              "    <tr>\n",
              "      <th>298857</th>\n",
              "      <td>Michael Edwards</td>\n",
              "      <td>White, Mcclain and Cobb</td>\n",
              "      <td>Make</td>\n",
              "      <td>New Cindychester</td>\n",
              "      <td>Macao</td>\n",
              "      <td>318800</td>\n",
              "      <td>Full Time</td>\n",
              "      <td>3.6</td>\n",
              "    </tr>\n",
              "  </tbody>\n",
              "</table>\n",
              "</div>"
            ],
            "text/plain": [
              "                   Name                    Company_Name  \\\n",
              "9       Michael Edwards  Campos, Reynolds and Mccormick   \n",
              "5255    Michael Edwards    Johnston, Fleming and Tanner   \n",
              "18849   Michael Edwards         White, Mcclain and Cobb   \n",
              "25616   Michael Edwards                Bullock-Carrillo   \n",
              "31519   Michael Edwards                       Nelson-Li   \n",
              "112668  Michael Edwards                       Scott Inc   \n",
              "114386  Michael Edwards                   Nichols-James   \n",
              "124065  Michael Edwards         White, Mcclain and Cobb   \n",
              "135078  Michael Edwards                    Matthews Inc   \n",
              "149363  Michael Edwards                       Scott Inc   \n",
              "158104  Michael Edwards      Wallace, Smith and Shepard   \n",
              "191831  Michael Edwards      Wallace, Smith and Shepard   \n",
              "193911  Michael Edwards        Baker, Allen and Edwards   \n",
              "205550  Michael Edwards    Johnston, Fleming and Tanner   \n",
              "210504  Michael Edwards         White, Mcclain and Cobb   \n",
              "217498  Michael Edwards    Johnston, Fleming and Tanner   \n",
              "217970  Michael Edwards                Bullock-Carrillo   \n",
              "227767  Michael Edwards               Marshall-Holloway   \n",
              "229786  Michael Edwards                       Scott Inc   \n",
              "267189  Michael Edwards                  James and Sons   \n",
              "276731  Michael Edwards  Campos, Reynolds and Mccormick   \n",
              "282601  Michael Edwards         White, Mcclain and Cobb   \n",
              "287887  Michael Edwards                       Scott Inc   \n",
              "298857  Michael Edwards         White, Mcclain and Cobb   \n",
              "\n",
              "                                       Employee_Job_Title      Employee_City  \\\n",
              "9                                              Ergonomist   New Cindychester   \n",
              "5255                           Regulatory affairs officer     West Jamesview   \n",
              "18849   Armed forces logistics/support/administrative ...          Whiteside   \n",
              "25616                           Trading standards officer           Wardfort   \n",
              "31519                                     Patent examiner          Whiteside   \n",
              "112668                                    Equities trader     West Jamesview   \n",
              "114386                                    Patent examiner       Whitakerbury   \n",
              "124065            Diplomatic Services operational officer       Ricardomouth   \n",
              "135078                                    Patent examiner           Wardfort   \n",
              "149363            Diplomatic Services operational officer           Wardfort   \n",
              "158104                         Regulatory affairs officer     New Russellton   \n",
              "191831                          Trading standards officer         Aliciafort   \n",
              "193911                       Investment banker, corporate   New Cindychester   \n",
              "205550                                    Patent examiner           Wardfort   \n",
              "210504                                         Ergonomist          Whiteside   \n",
              "217498                                            Actuary           Wardfort   \n",
              "217970                                    Equities trader     West Jamesview   \n",
              "227767  Armed forces logistics/support/administrative ...  North Melissafurt   \n",
              "229786            Diplomatic Services operational officer       Whitakerbury   \n",
              "267189                                               Make       Ricardomouth   \n",
              "276731  Armed forces logistics/support/administrative ...  North Melissafurt   \n",
              "282601                                    Naval architect           Wardfort   \n",
              "287887                       Investment banker, corporate         Aliciafort   \n",
              "298857                                               Make   New Cindychester   \n",
              "\n",
              "                        Employee_Country  Employee_Salary Employment_Status  \\\n",
              "9       Lao People's Democratic Republic           516950         Full Time   \n",
              "5255                              Brazil           822420            Intern   \n",
              "18849                            Croatia           818710         Full Time   \n",
              "25616                          Greenland           467160            Intern   \n",
              "31519                             Kuwait           287350         Full Time   \n",
              "112668          Northern Mariana Islands            21540         Full Time   \n",
              "114386                           Iceland           687630            Intern   \n",
              "124065          Central African Republic           546870         Full Time   \n",
              "135078                           Grenada           209030         Full Time   \n",
              "149363                             Chile           254160            Intern   \n",
              "158104                            Angola           121770         Full Time   \n",
              "191831                            Israel           854420         Full Time   \n",
              "193911                           Lesotho           365180         Full Time   \n",
              "205550                           Belgium           579130            Intern   \n",
              "210504                       Philippines           150730         Full Time   \n",
              "217498               Trinidad and Tobago           600090         Full Time   \n",
              "217970        Slovakia (Slovak Republic)           698220         Full Time   \n",
              "227767                             Ghana           565940            Intern   \n",
              "229786          Turks and Caicos Islands           105450            Intern   \n",
              "267189                          Paraguay           391700            Intern   \n",
              "276731                            Serbia           865280            Intern   \n",
              "282601                          Cambodia           855180            Intern   \n",
              "287887                            Belize            69680            Intern   \n",
              "298857                             Macao           318800         Full Time   \n",
              "\n",
              "        Employee_Rating  \n",
              "9                   2.3  \n",
              "5255                3.5  \n",
              "18849               2.8  \n",
              "25616               2.1  \n",
              "31519               1.8  \n",
              "112668              1.5  \n",
              "114386              2.1  \n",
              "124065              1.4  \n",
              "135078              2.2  \n",
              "149363              1.2  \n",
              "158104              1.1  \n",
              "191831              4.8  \n",
              "193911              1.8  \n",
              "205550              4.7  \n",
              "210504              3.2  \n",
              "217498              0.8  \n",
              "217970              0.7  \n",
              "227767              4.4  \n",
              "229786              2.6  \n",
              "267189              1.4  \n",
              "276731              0.7  \n",
              "282601              4.7  \n",
              "287887              1.9  \n",
              "298857              3.6  "
            ]
          },
          "execution_count": 213,
          "metadata": {},
          "output_type": "execute_result"
        }
      ],
      "source": [
        "df[df['Name'] == 'Michael Edwards']"
      ]
    },
    {
      "cell_type": "markdown",
      "metadata": {
        "id": "7uolN6oWPrwb"
      },
      "source": [
        "### 110. Print the number of records whose company name contains the substring 'LL' (case-insensitive)."
      ]
    },
    {
      "cell_type": "code",
      "execution_count": 218,
      "metadata": {
        "id": "c8FMG-lnPrwc",
        "outputId": "6da5bac0-f9bd-4b89-95d5-62274784ae3c"
      },
      "outputs": [
        {
          "data": {
            "text/plain": [
              "99353"
            ]
          },
          "execution_count": 218,
          "metadata": {},
          "output_type": "execute_result"
        }
      ],
      "source": [
        "df[df['Company_Name'].str.contains('LL', case=False)].shape[0]"
      ]
    },
    {
      "cell_type": "markdown",
      "metadata": {
        "id": "lkCbI9MXPrwc"
      },
      "source": [
        "### 111. Select the first row corresponding to every company in the dataframe"
      ]
    },
    {
      "cell_type": "code",
      "execution_count": 222,
      "metadata": {
        "id": "HUEXyjiYPrwc",
        "outputId": "935ab446-db1b-46ff-f3cb-22d345110975"
      },
      "outputs": [
        {
          "data": {
            "text/html": [
              "<div>\n",
              "<style scoped>\n",
              "    .dataframe tbody tr th:only-of-type {\n",
              "        vertical-align: middle;\n",
              "    }\n",
              "\n",
              "    .dataframe tbody tr th {\n",
              "        vertical-align: top;\n",
              "    }\n",
              "\n",
              "    .dataframe thead th {\n",
              "        text-align: right;\n",
              "    }\n",
              "</style>\n",
              "<table border=\"1\" class=\"dataframe\">\n",
              "  <thead>\n",
              "    <tr style=\"text-align: right;\">\n",
              "      <th></th>\n",
              "      <th>Name</th>\n",
              "      <th>Employee_Job_Title</th>\n",
              "      <th>Employee_City</th>\n",
              "      <th>Employee_Country</th>\n",
              "      <th>Employee_Salary</th>\n",
              "      <th>Employment_Status</th>\n",
              "      <th>Employee_Rating</th>\n",
              "    </tr>\n",
              "    <tr>\n",
              "      <th>Company_Name</th>\n",
              "      <th></th>\n",
              "      <th></th>\n",
              "      <th></th>\n",
              "      <th></th>\n",
              "      <th></th>\n",
              "      <th></th>\n",
              "      <th></th>\n",
              "    </tr>\n",
              "  </thead>\n",
              "  <tbody>\n",
              "    <tr>\n",
              "      <th>Andrade LLC</th>\n",
              "      <td>Vanessa Allen</td>\n",
              "      <td>Make</td>\n",
              "      <td>Ricardomouth</td>\n",
              "      <td>Mali</td>\n",
              "      <td>850140</td>\n",
              "      <td>Full Time</td>\n",
              "      <td>2.6</td>\n",
              "    </tr>\n",
              "    <tr>\n",
              "      <th>Baker, Allen and Edwards</th>\n",
              "      <td>Theresa Owens</td>\n",
              "      <td>Production engineer</td>\n",
              "      <td>Whiteside</td>\n",
              "      <td>Dominica</td>\n",
              "      <td>523499</td>\n",
              "      <td>Full Time</td>\n",
              "      <td>4.8</td>\n",
              "    </tr>\n",
              "    <tr>\n",
              "      <th>Bullock-Carrillo</th>\n",
              "      <td>Carrie Woods</td>\n",
              "      <td>Ergonomist</td>\n",
              "      <td>New Russellton</td>\n",
              "      <td>Gabon</td>\n",
              "      <td>985290</td>\n",
              "      <td>Full Time</td>\n",
              "      <td>2.4</td>\n",
              "    </tr>\n",
              "    <tr>\n",
              "      <th>Campos, Reynolds and Mccormick</th>\n",
              "      <td>Michael Edwards</td>\n",
              "      <td>Ergonomist</td>\n",
              "      <td>New Cindychester</td>\n",
              "      <td>Lao People's Democratic Republic</td>\n",
              "      <td>516950</td>\n",
              "      <td>Full Time</td>\n",
              "      <td>2.3</td>\n",
              "    </tr>\n",
              "    <tr>\n",
              "      <th>James and Sons</th>\n",
              "      <td>Spencer Adkins</td>\n",
              "      <td>Equities trader</td>\n",
              "      <td>New Russellton</td>\n",
              "      <td>Palestinian Territory</td>\n",
              "      <td>321520</td>\n",
              "      <td>Full Time</td>\n",
              "      <td>3.9</td>\n",
              "    </tr>\n",
              "    <tr>\n",
              "      <th>Johnston, Fleming and Tanner</th>\n",
              "      <td>Brad Scott</td>\n",
              "      <td>Production engineer</td>\n",
              "      <td>West Jamesview</td>\n",
              "      <td>Syrian Arab Republic</td>\n",
              "      <td>116400</td>\n",
              "      <td>Full Time</td>\n",
              "      <td>3.1</td>\n",
              "    </tr>\n",
              "    <tr>\n",
              "      <th>Marshall-Holloway</th>\n",
              "      <td>David Phillips</td>\n",
              "      <td>Radiographer, therapeutic</td>\n",
              "      <td>Kristaburgh</td>\n",
              "      <td>British Virgin Islands</td>\n",
              "      <td>58800</td>\n",
              "      <td>Full Time</td>\n",
              "      <td>0.6</td>\n",
              "    </tr>\n",
              "    <tr>\n",
              "      <th>Matthews Inc</th>\n",
              "      <td>Vicki Beard</td>\n",
              "      <td>Diplomatic Services operational officer</td>\n",
              "      <td>Kristaburgh</td>\n",
              "      <td>Western Sahara</td>\n",
              "      <td>777000</td>\n",
              "      <td>Full Time</td>\n",
              "      <td>3.3</td>\n",
              "    </tr>\n",
              "    <tr>\n",
              "      <th>Nelson-Li</th>\n",
              "      <td>Micheal Fitzgerald</td>\n",
              "      <td>Diplomatic Services operational officer</td>\n",
              "      <td>Whitakerbury</td>\n",
              "      <td>Switzerland</td>\n",
              "      <td>796690</td>\n",
              "      <td>Full Time</td>\n",
              "      <td>4.1</td>\n",
              "    </tr>\n",
              "    <tr>\n",
              "      <th>Nichols-James</th>\n",
              "      <td>Julie Morton</td>\n",
              "      <td>Diplomatic Services operational officer</td>\n",
              "      <td>North Melissafurt</td>\n",
              "      <td>Marshall Islands</td>\n",
              "      <td>589090</td>\n",
              "      <td>Full Time</td>\n",
              "      <td>4.3</td>\n",
              "    </tr>\n",
              "    <tr>\n",
              "      <th>Scott Inc</th>\n",
              "      <td>Matthew Hall</td>\n",
              "      <td>Regulatory affairs officer</td>\n",
              "      <td>Wardfort</td>\n",
              "      <td>Anguilla</td>\n",
              "      <td>630890</td>\n",
              "      <td>Full Time</td>\n",
              "      <td>3.1</td>\n",
              "    </tr>\n",
              "    <tr>\n",
              "      <th>Taylor-Ramos</th>\n",
              "      <td>Lisa French</td>\n",
              "      <td>Radiographer, therapeutic</td>\n",
              "      <td>West Jamesview</td>\n",
              "      <td>Kuwait</td>\n",
              "      <td>870580</td>\n",
              "      <td>Full Time</td>\n",
              "      <td>1.3</td>\n",
              "    </tr>\n",
              "    <tr>\n",
              "      <th>Thomas-Spencer</th>\n",
              "      <td>Gail Rose</td>\n",
              "      <td>Patent examiner</td>\n",
              "      <td>Whitakerbury</td>\n",
              "      <td>Finland</td>\n",
              "      <td>178570</td>\n",
              "      <td>Full Time</td>\n",
              "      <td>1.9</td>\n",
              "    </tr>\n",
              "    <tr>\n",
              "      <th>Wallace, Smith and Shepard</th>\n",
              "      <td>Ronald Clark</td>\n",
              "      <td>Regulatory affairs officer</td>\n",
              "      <td>North Melissafurt</td>\n",
              "      <td>Palau</td>\n",
              "      <td>914110</td>\n",
              "      <td>Full Time</td>\n",
              "      <td>3.2</td>\n",
              "    </tr>\n",
              "    <tr>\n",
              "      <th>White, Mcclain and Cobb</th>\n",
              "      <td>Victoria Sutton</td>\n",
              "      <td>Naval architect</td>\n",
              "      <td>Whiteside</td>\n",
              "      <td>Poland</td>\n",
              "      <td>656260</td>\n",
              "      <td>Full Time</td>\n",
              "      <td>4.9</td>\n",
              "    </tr>\n",
              "  </tbody>\n",
              "</table>\n",
              "</div>"
            ],
            "text/plain": [
              "                                              Name  \\\n",
              "Company_Name                                         \n",
              "Andrade LLC                          Vanessa Allen   \n",
              "Baker, Allen and Edwards             Theresa Owens   \n",
              "Bullock-Carrillo                      Carrie Woods   \n",
              "Campos, Reynolds and Mccormick     Michael Edwards   \n",
              "James and Sons                      Spencer Adkins   \n",
              "Johnston, Fleming and Tanner            Brad Scott   \n",
              "Marshall-Holloway                   David Phillips   \n",
              "Matthews Inc                           Vicki Beard   \n",
              "Nelson-Li                       Micheal Fitzgerald   \n",
              "Nichols-James                         Julie Morton   \n",
              "Scott Inc                             Matthew Hall   \n",
              "Taylor-Ramos                           Lisa French   \n",
              "Thomas-Spencer                           Gail Rose   \n",
              "Wallace, Smith and Shepard            Ronald Clark   \n",
              "White, Mcclain and Cobb            Victoria Sutton   \n",
              "\n",
              "                                                     Employee_Job_Title  \\\n",
              "Company_Name                                                              \n",
              "Andrade LLC                                                        Make   \n",
              "Baker, Allen and Edwards                            Production engineer   \n",
              "Bullock-Carrillo                                             Ergonomist   \n",
              "Campos, Reynolds and Mccormick                               Ergonomist   \n",
              "James and Sons                                          Equities trader   \n",
              "Johnston, Fleming and Tanner                        Production engineer   \n",
              "Marshall-Holloway                             Radiographer, therapeutic   \n",
              "Matthews Inc                    Diplomatic Services operational officer   \n",
              "Nelson-Li                       Diplomatic Services operational officer   \n",
              "Nichols-James                   Diplomatic Services operational officer   \n",
              "Scott Inc                                    Regulatory affairs officer   \n",
              "Taylor-Ramos                                  Radiographer, therapeutic   \n",
              "Thomas-Spencer                                          Patent examiner   \n",
              "Wallace, Smith and Shepard                   Regulatory affairs officer   \n",
              "White, Mcclain and Cobb                                 Naval architect   \n",
              "\n",
              "                                    Employee_City  \\\n",
              "Company_Name                                        \n",
              "Andrade LLC                          Ricardomouth   \n",
              "Baker, Allen and Edwards                Whiteside   \n",
              "Bullock-Carrillo                   New Russellton   \n",
              "Campos, Reynolds and Mccormick   New Cindychester   \n",
              "James and Sons                     New Russellton   \n",
              "Johnston, Fleming and Tanner       West Jamesview   \n",
              "Marshall-Holloway                     Kristaburgh   \n",
              "Matthews Inc                          Kristaburgh   \n",
              "Nelson-Li                            Whitakerbury   \n",
              "Nichols-James                   North Melissafurt   \n",
              "Scott Inc                                Wardfort   \n",
              "Taylor-Ramos                       West Jamesview   \n",
              "Thomas-Spencer                       Whitakerbury   \n",
              "Wallace, Smith and Shepard      North Melissafurt   \n",
              "White, Mcclain and Cobb                 Whiteside   \n",
              "\n",
              "                                                Employee_Country  \\\n",
              "Company_Name                                                       \n",
              "Andrade LLC                                                 Mali   \n",
              "Baker, Allen and Edwards                                Dominica   \n",
              "Bullock-Carrillo                                           Gabon   \n",
              "Campos, Reynolds and Mccormick  Lao People's Democratic Republic   \n",
              "James and Sons                             Palestinian Territory   \n",
              "Johnston, Fleming and Tanner                Syrian Arab Republic   \n",
              "Marshall-Holloway                         British Virgin Islands   \n",
              "Matthews Inc                                      Western Sahara   \n",
              "Nelson-Li                                            Switzerland   \n",
              "Nichols-James                                   Marshall Islands   \n",
              "Scott Inc                                               Anguilla   \n",
              "Taylor-Ramos                                              Kuwait   \n",
              "Thomas-Spencer                                           Finland   \n",
              "Wallace, Smith and Shepard                                 Palau   \n",
              "White, Mcclain and Cobb                                   Poland   \n",
              "\n",
              "                                Employee_Salary Employment_Status  \\\n",
              "Company_Name                                                        \n",
              "Andrade LLC                              850140         Full Time   \n",
              "Baker, Allen and Edwards                 523499         Full Time   \n",
              "Bullock-Carrillo                         985290         Full Time   \n",
              "Campos, Reynolds and Mccormick           516950         Full Time   \n",
              "James and Sons                           321520         Full Time   \n",
              "Johnston, Fleming and Tanner             116400         Full Time   \n",
              "Marshall-Holloway                         58800         Full Time   \n",
              "Matthews Inc                             777000         Full Time   \n",
              "Nelson-Li                                796690         Full Time   \n",
              "Nichols-James                            589090         Full Time   \n",
              "Scott Inc                                630890         Full Time   \n",
              "Taylor-Ramos                             870580         Full Time   \n",
              "Thomas-Spencer                           178570         Full Time   \n",
              "Wallace, Smith and Shepard               914110         Full Time   \n",
              "White, Mcclain and Cobb                  656260         Full Time   \n",
              "\n",
              "                                Employee_Rating  \n",
              "Company_Name                                     \n",
              "Andrade LLC                                 2.6  \n",
              "Baker, Allen and Edwards                    4.8  \n",
              "Bullock-Carrillo                            2.4  \n",
              "Campos, Reynolds and Mccormick              2.3  \n",
              "James and Sons                              3.9  \n",
              "Johnston, Fleming and Tanner                3.1  \n",
              "Marshall-Holloway                           0.6  \n",
              "Matthews Inc                                3.3  \n",
              "Nelson-Li                                   4.1  \n",
              "Nichols-James                               4.3  \n",
              "Scott Inc                                   3.1  \n",
              "Taylor-Ramos                                1.3  \n",
              "Thomas-Spencer                              1.9  \n",
              "Wallace, Smith and Shepard                  3.2  \n",
              "White, Mcclain and Cobb                     4.9  "
            ]
          },
          "execution_count": 222,
          "metadata": {},
          "output_type": "execute_result"
        }
      ],
      "source": [
        "df.groupby('Company_Name').first()\n",
        "#first(), last(), nth()"
      ]
    },
    {
      "cell_type": "markdown",
      "metadata": {
        "id": "UDh9MC6YPrwc"
      },
      "source": [
        "### 113. Reset the index of the dataframe inplace and delete the older index values."
      ]
    },
    {
      "cell_type": "code",
      "execution_count": 225,
      "metadata": {
        "id": "y8pjDrAYPrwc",
        "outputId": "805d55d7-c4bc-4641-88c8-c048db373ec8"
      },
      "outputs": [
        {
          "data": {
            "text/html": [
              "<div>\n",
              "<style scoped>\n",
              "    .dataframe tbody tr th:only-of-type {\n",
              "        vertical-align: middle;\n",
              "    }\n",
              "\n",
              "    .dataframe tbody tr th {\n",
              "        vertical-align: top;\n",
              "    }\n",
              "\n",
              "    .dataframe thead th {\n",
              "        text-align: right;\n",
              "    }\n",
              "</style>\n",
              "<table border=\"1\" class=\"dataframe\">\n",
              "  <thead>\n",
              "    <tr style=\"text-align: right;\">\n",
              "      <th></th>\n",
              "      <th>Name</th>\n",
              "      <th>Company_Name</th>\n",
              "      <th>Employee_Job_Title</th>\n",
              "      <th>Employee_City</th>\n",
              "      <th>Employee_Country</th>\n",
              "      <th>Employee_Salary</th>\n",
              "      <th>Employment_Status</th>\n",
              "      <th>Employee_Rating</th>\n",
              "    </tr>\n",
              "  </thead>\n",
              "  <tbody>\n",
              "    <tr>\n",
              "      <th>0</th>\n",
              "      <td>Spencer Adkins</td>\n",
              "      <td>James and Sons</td>\n",
              "      <td>Equities trader</td>\n",
              "      <td>New Russellton</td>\n",
              "      <td>Palestinian Territory</td>\n",
              "      <td>321520</td>\n",
              "      <td>Full Time</td>\n",
              "      <td>3.9</td>\n",
              "    </tr>\n",
              "    <tr>\n",
              "      <th>1</th>\n",
              "      <td>Julie Morton</td>\n",
              "      <td>Nichols-James</td>\n",
              "      <td>Diplomatic Services operational officer</td>\n",
              "      <td>North Melissafurt</td>\n",
              "      <td>Marshall Islands</td>\n",
              "      <td>589090</td>\n",
              "      <td>Full Time</td>\n",
              "      <td>4.3</td>\n",
              "    </tr>\n",
              "    <tr>\n",
              "      <th>2</th>\n",
              "      <td>Matthew Hall</td>\n",
              "      <td>Scott Inc</td>\n",
              "      <td>Regulatory affairs officer</td>\n",
              "      <td>Wardfort</td>\n",
              "      <td>Anguilla</td>\n",
              "      <td>630890</td>\n",
              "      <td>Full Time</td>\n",
              "      <td>3.1</td>\n",
              "    </tr>\n",
              "    <tr>\n",
              "      <th>3</th>\n",
              "      <td>Brad Scott</td>\n",
              "      <td>Johnston, Fleming and Tanner</td>\n",
              "      <td>Production engineer</td>\n",
              "      <td>West Jamesview</td>\n",
              "      <td>Syrian Arab Republic</td>\n",
              "      <td>116400</td>\n",
              "      <td>Full Time</td>\n",
              "      <td>3.1</td>\n",
              "    </tr>\n",
              "    <tr>\n",
              "      <th>4</th>\n",
              "      <td>Theresa Owens</td>\n",
              "      <td>Baker, Allen and Edwards</td>\n",
              "      <td>Production engineer</td>\n",
              "      <td>Whiteside</td>\n",
              "      <td>Dominica</td>\n",
              "      <td>523499</td>\n",
              "      <td>Full Time</td>\n",
              "      <td>4.8</td>\n",
              "    </tr>\n",
              "    <tr>\n",
              "      <th>...</th>\n",
              "      <td>...</td>\n",
              "      <td>...</td>\n",
              "      <td>...</td>\n",
              "      <td>...</td>\n",
              "      <td>...</td>\n",
              "      <td>...</td>\n",
              "      <td>...</td>\n",
              "      <td>...</td>\n",
              "    </tr>\n",
              "    <tr>\n",
              "      <th>299995</th>\n",
              "      <td>Nancy Neal</td>\n",
              "      <td>Bullock-Carrillo</td>\n",
              "      <td>Optometrist</td>\n",
              "      <td>North Melissafurt</td>\n",
              "      <td>Samoa</td>\n",
              "      <td>99670</td>\n",
              "      <td>Intern</td>\n",
              "      <td>3.3</td>\n",
              "    </tr>\n",
              "    <tr>\n",
              "      <th>299996</th>\n",
              "      <td>Michele Butler</td>\n",
              "      <td>Johnston, Fleming and Tanner</td>\n",
              "      <td>Administrator</td>\n",
              "      <td>Aliciafort</td>\n",
              "      <td>Cuba</td>\n",
              "      <td>949580</td>\n",
              "      <td>Intern</td>\n",
              "      <td>2.6</td>\n",
              "    </tr>\n",
              "    <tr>\n",
              "      <th>299997</th>\n",
              "      <td>Lynn Wilson</td>\n",
              "      <td>Nichols-James</td>\n",
              "      <td>Administrator</td>\n",
              "      <td>New Cindychester</td>\n",
              "      <td>Bolivia</td>\n",
              "      <td>802830</td>\n",
              "      <td>Full Time</td>\n",
              "      <td>0.6</td>\n",
              "    </tr>\n",
              "    <tr>\n",
              "      <th>299998</th>\n",
              "      <td>Lindsey Keith</td>\n",
              "      <td>Nichols-James</td>\n",
              "      <td>Make</td>\n",
              "      <td>Whitakerbury</td>\n",
              "      <td>Western Sahara</td>\n",
              "      <td>257240</td>\n",
              "      <td>Full Time</td>\n",
              "      <td>2.4</td>\n",
              "    </tr>\n",
              "    <tr>\n",
              "      <th>299999</th>\n",
              "      <td>Karen Delgado</td>\n",
              "      <td>James and Sons</td>\n",
              "      <td>Actuary</td>\n",
              "      <td>New Russellton</td>\n",
              "      <td>United Kingdom</td>\n",
              "      <td>575770</td>\n",
              "      <td>Intern</td>\n",
              "      <td>3.3</td>\n",
              "    </tr>\n",
              "  </tbody>\n",
              "</table>\n",
              "<p>300000 rows × 8 columns</p>\n",
              "</div>"
            ],
            "text/plain": [
              "                  Name                  Company_Name  \\\n",
              "0       Spencer Adkins                James and Sons   \n",
              "1         Julie Morton                 Nichols-James   \n",
              "2         Matthew Hall                     Scott Inc   \n",
              "3           Brad Scott  Johnston, Fleming and Tanner   \n",
              "4        Theresa Owens      Baker, Allen and Edwards   \n",
              "...                ...                           ...   \n",
              "299995      Nancy Neal              Bullock-Carrillo   \n",
              "299996  Michele Butler  Johnston, Fleming and Tanner   \n",
              "299997     Lynn Wilson                 Nichols-James   \n",
              "299998   Lindsey Keith                 Nichols-James   \n",
              "299999   Karen Delgado                James and Sons   \n",
              "\n",
              "                             Employee_Job_Title      Employee_City  \\\n",
              "0                               Equities trader     New Russellton   \n",
              "1       Diplomatic Services operational officer  North Melissafurt   \n",
              "2                    Regulatory affairs officer           Wardfort   \n",
              "3                           Production engineer     West Jamesview   \n",
              "4                           Production engineer          Whiteside   \n",
              "...                                         ...                ...   \n",
              "299995                              Optometrist  North Melissafurt   \n",
              "299996                            Administrator         Aliciafort   \n",
              "299997                            Administrator   New Cindychester   \n",
              "299998                                     Make       Whitakerbury   \n",
              "299999                                  Actuary     New Russellton   \n",
              "\n",
              "             Employee_Country  Employee_Salary Employment_Status  \\\n",
              "0       Palestinian Territory           321520         Full Time   \n",
              "1            Marshall Islands           589090         Full Time   \n",
              "2                    Anguilla           630890         Full Time   \n",
              "3        Syrian Arab Republic           116400         Full Time   \n",
              "4                    Dominica           523499         Full Time   \n",
              "...                       ...              ...               ...   \n",
              "299995                  Samoa            99670            Intern   \n",
              "299996                   Cuba           949580            Intern   \n",
              "299997                Bolivia           802830         Full Time   \n",
              "299998         Western Sahara           257240         Full Time   \n",
              "299999         United Kingdom           575770            Intern   \n",
              "\n",
              "        Employee_Rating  \n",
              "0                   3.9  \n",
              "1                   4.3  \n",
              "2                   3.1  \n",
              "3                   3.1  \n",
              "4                   4.8  \n",
              "...                 ...  \n",
              "299995              3.3  \n",
              "299996              2.6  \n",
              "299997              0.6  \n",
              "299998              2.4  \n",
              "299999              3.3  \n",
              "\n",
              "[300000 rows x 8 columns]"
            ]
          },
          "execution_count": 225,
          "metadata": {},
          "output_type": "execute_result"
        }
      ],
      "source": [
        "df.reset_index(drop=True, inplace=True)\n",
        "df"
      ]
    },
    {
      "cell_type": "markdown",
      "metadata": {
        "id": "FzJUkgTBPrwc"
      },
      "source": [
        "### 115-1) Add a new row at the bottom of the DataFrame."
      ]
    },
    {
      "cell_type": "code",
      "execution_count": 239,
      "metadata": {
        "id": "DcG-5cTMPrwc",
        "outputId": "9490345c-296e-436a-d329-b668272acb9f"
      },
      "outputs": [
        {
          "data": {
            "text/html": [
              "<div>\n",
              "<style scoped>\n",
              "    .dataframe tbody tr th:only-of-type {\n",
              "        vertical-align: middle;\n",
              "    }\n",
              "\n",
              "    .dataframe tbody tr th {\n",
              "        vertical-align: top;\n",
              "    }\n",
              "\n",
              "    .dataframe thead th {\n",
              "        text-align: right;\n",
              "    }\n",
              "</style>\n",
              "<table border=\"1\" class=\"dataframe\">\n",
              "  <thead>\n",
              "    <tr style=\"text-align: right;\">\n",
              "      <th></th>\n",
              "      <th>Name</th>\n",
              "      <th>Company_Name</th>\n",
              "      <th>Employee_Job_Title</th>\n",
              "      <th>Employee_City</th>\n",
              "      <th>Employee_Country</th>\n",
              "      <th>Employee_Salary</th>\n",
              "      <th>Employment_Status</th>\n",
              "      <th>Employee_Rating</th>\n",
              "    </tr>\n",
              "  </thead>\n",
              "  <tbody>\n",
              "    <tr>\n",
              "      <th>0</th>\n",
              "      <td>Spencer Adkins</td>\n",
              "      <td>James and Sons</td>\n",
              "      <td>Equities trader</td>\n",
              "      <td>New Russellton</td>\n",
              "      <td>Palestinian Territory</td>\n",
              "      <td>321520</td>\n",
              "      <td>Full Time</td>\n",
              "      <td>3.9</td>\n",
              "    </tr>\n",
              "    <tr>\n",
              "      <th>1</th>\n",
              "      <td>Julie Morton</td>\n",
              "      <td>Nichols-James</td>\n",
              "      <td>Diplomatic Services operational officer</td>\n",
              "      <td>North Melissafurt</td>\n",
              "      <td>Marshall Islands</td>\n",
              "      <td>589090</td>\n",
              "      <td>Full Time</td>\n",
              "      <td>4.3</td>\n",
              "    </tr>\n",
              "    <tr>\n",
              "      <th>2</th>\n",
              "      <td>Matthew Hall</td>\n",
              "      <td>Scott Inc</td>\n",
              "      <td>Regulatory affairs officer</td>\n",
              "      <td>Wardfort</td>\n",
              "      <td>Anguilla</td>\n",
              "      <td>630890</td>\n",
              "      <td>Full Time</td>\n",
              "      <td>3.1</td>\n",
              "    </tr>\n",
              "    <tr>\n",
              "      <th>3</th>\n",
              "      <td>Brad Scott</td>\n",
              "      <td>Johnston, Fleming and Tanner</td>\n",
              "      <td>Production engineer</td>\n",
              "      <td>West Jamesview</td>\n",
              "      <td>Syrian Arab Republic</td>\n",
              "      <td>116400</td>\n",
              "      <td>Full Time</td>\n",
              "      <td>3.1</td>\n",
              "    </tr>\n",
              "    <tr>\n",
              "      <th>4</th>\n",
              "      <td>Theresa Owens</td>\n",
              "      <td>Baker, Allen and Edwards</td>\n",
              "      <td>Production engineer</td>\n",
              "      <td>Whiteside</td>\n",
              "      <td>Dominica</td>\n",
              "      <td>523499</td>\n",
              "      <td>Full Time</td>\n",
              "      <td>4.8</td>\n",
              "    </tr>\n",
              "    <tr>\n",
              "      <th>...</th>\n",
              "      <td>...</td>\n",
              "      <td>...</td>\n",
              "      <td>...</td>\n",
              "      <td>...</td>\n",
              "      <td>...</td>\n",
              "      <td>...</td>\n",
              "      <td>...</td>\n",
              "      <td>...</td>\n",
              "    </tr>\n",
              "    <tr>\n",
              "      <th>299997</th>\n",
              "      <td>Lynn Wilson</td>\n",
              "      <td>Nichols-James</td>\n",
              "      <td>Administrator</td>\n",
              "      <td>New Cindychester</td>\n",
              "      <td>Bolivia</td>\n",
              "      <td>802830</td>\n",
              "      <td>Full Time</td>\n",
              "      <td>0.6</td>\n",
              "    </tr>\n",
              "    <tr>\n",
              "      <th>299998</th>\n",
              "      <td>Lindsey Keith</td>\n",
              "      <td>Nichols-James</td>\n",
              "      <td>Make</td>\n",
              "      <td>Whitakerbury</td>\n",
              "      <td>Western Sahara</td>\n",
              "      <td>257240</td>\n",
              "      <td>Full Time</td>\n",
              "      <td>2.4</td>\n",
              "    </tr>\n",
              "    <tr>\n",
              "      <th>299999</th>\n",
              "      <td>Karen Delgado</td>\n",
              "      <td>James and Sons</td>\n",
              "      <td>Actuary</td>\n",
              "      <td>New Russellton</td>\n",
              "      <td>United Kingdom</td>\n",
              "      <td>575770</td>\n",
              "      <td>Intern</td>\n",
              "      <td>3.3</td>\n",
              "    </tr>\n",
              "    <tr>\n",
              "      <th>300000</th>\n",
              "      <td>Chris Anders</td>\n",
              "      <td>Scott Inc</td>\n",
              "      <td>Production engineer</td>\n",
              "      <td>Wardfort</td>\n",
              "      <td>Anguilla</td>\n",
              "      <td>343930</td>\n",
              "      <td>Full Time</td>\n",
              "      <td>3.3</td>\n",
              "    </tr>\n",
              "    <tr>\n",
              "      <th>300001</th>\n",
              "      <td>Chris Anders</td>\n",
              "      <td>Scott Inc</td>\n",
              "      <td>Production engineer</td>\n",
              "      <td>Wardfort</td>\n",
              "      <td>Anguilla</td>\n",
              "      <td>343930</td>\n",
              "      <td>Full Time</td>\n",
              "      <td>3.3</td>\n",
              "    </tr>\n",
              "  </tbody>\n",
              "</table>\n",
              "<p>300002 rows × 8 columns</p>\n",
              "</div>"
            ],
            "text/plain": [
              "                  Name                  Company_Name  \\\n",
              "0       Spencer Adkins                James and Sons   \n",
              "1         Julie Morton                 Nichols-James   \n",
              "2         Matthew Hall                     Scott Inc   \n",
              "3           Brad Scott  Johnston, Fleming and Tanner   \n",
              "4        Theresa Owens      Baker, Allen and Edwards   \n",
              "...                ...                           ...   \n",
              "299997     Lynn Wilson                 Nichols-James   \n",
              "299998   Lindsey Keith                 Nichols-James   \n",
              "299999   Karen Delgado                James and Sons   \n",
              "300000    Chris Anders                     Scott Inc   \n",
              "300001    Chris Anders                     Scott Inc   \n",
              "\n",
              "                             Employee_Job_Title      Employee_City  \\\n",
              "0                               Equities trader     New Russellton   \n",
              "1       Diplomatic Services operational officer  North Melissafurt   \n",
              "2                    Regulatory affairs officer           Wardfort   \n",
              "3                           Production engineer     West Jamesview   \n",
              "4                           Production engineer          Whiteside   \n",
              "...                                         ...                ...   \n",
              "299997                            Administrator   New Cindychester   \n",
              "299998                                     Make       Whitakerbury   \n",
              "299999                                  Actuary     New Russellton   \n",
              "300000                      Production engineer           Wardfort   \n",
              "300001                      Production engineer           Wardfort   \n",
              "\n",
              "             Employee_Country  Employee_Salary Employment_Status  \\\n",
              "0       Palestinian Territory           321520         Full Time   \n",
              "1            Marshall Islands           589090         Full Time   \n",
              "2                    Anguilla           630890         Full Time   \n",
              "3        Syrian Arab Republic           116400         Full Time   \n",
              "4                    Dominica           523499         Full Time   \n",
              "...                       ...              ...               ...   \n",
              "299997                Bolivia           802830         Full Time   \n",
              "299998         Western Sahara           257240         Full Time   \n",
              "299999         United Kingdom           575770            Intern   \n",
              "300000               Anguilla           343930         Full Time   \n",
              "300001               Anguilla           343930         Full Time   \n",
              "\n",
              "        Employee_Rating  \n",
              "0                   3.9  \n",
              "1                   4.3  \n",
              "2                   3.1  \n",
              "3                   3.1  \n",
              "4                   4.8  \n",
              "...                 ...  \n",
              "299997              0.6  \n",
              "299998              2.4  \n",
              "299999              3.3  \n",
              "300000              3.3  \n",
              "300001              3.3  \n",
              "\n",
              "[300002 rows x 8 columns]"
            ]
          },
          "execution_count": 239,
          "metadata": {},
          "output_type": "execute_result"
        }
      ],
      "source": [
        "new_row = {'Name':'Chris Anders', 'Company_Name':'Scott Inc', 'Employee_Job_Title':'Production engineer', 'Employee_City':'Wardfort', 'Employee_Country':'Anguilla', 'Employee_Salary':343930, 'Employment_Status':'Full Time', 'Employee_Rating':3.3}\n",
        "df.loc[len(df)] = new_row\n",
        "df"
      ]
    },
    {
      "cell_type": "markdown",
      "metadata": {
        "id": "fLIDtIb2Prwc"
      },
      "source": [
        "### 115-2) Delete the row that was just newly added."
      ]
    },
    {
      "cell_type": "code",
      "execution_count": 242,
      "metadata": {
        "id": "FFQiOtuHPrwc",
        "outputId": "c0efebf3-2b3c-4c26-9f49-7efa8bde6123"
      },
      "outputs": [
        {
          "data": {
            "text/html": [
              "<div>\n",
              "<style scoped>\n",
              "    .dataframe tbody tr th:only-of-type {\n",
              "        vertical-align: middle;\n",
              "    }\n",
              "\n",
              "    .dataframe tbody tr th {\n",
              "        vertical-align: top;\n",
              "    }\n",
              "\n",
              "    .dataframe thead th {\n",
              "        text-align: right;\n",
              "    }\n",
              "</style>\n",
              "<table border=\"1\" class=\"dataframe\">\n",
              "  <thead>\n",
              "    <tr style=\"text-align: right;\">\n",
              "      <th></th>\n",
              "      <th>Name</th>\n",
              "      <th>Company_Name</th>\n",
              "      <th>Employee_Job_Title</th>\n",
              "      <th>Employee_City</th>\n",
              "      <th>Employee_Country</th>\n",
              "      <th>Employee_Salary</th>\n",
              "      <th>Employment_Status</th>\n",
              "      <th>Employee_Rating</th>\n",
              "    </tr>\n",
              "  </thead>\n",
              "  <tbody>\n",
              "    <tr>\n",
              "      <th>0</th>\n",
              "      <td>Spencer Adkins</td>\n",
              "      <td>James and Sons</td>\n",
              "      <td>Equities trader</td>\n",
              "      <td>New Russellton</td>\n",
              "      <td>Palestinian Territory</td>\n",
              "      <td>321520</td>\n",
              "      <td>Full Time</td>\n",
              "      <td>3.9</td>\n",
              "    </tr>\n",
              "    <tr>\n",
              "      <th>1</th>\n",
              "      <td>Julie Morton</td>\n",
              "      <td>Nichols-James</td>\n",
              "      <td>Diplomatic Services operational officer</td>\n",
              "      <td>North Melissafurt</td>\n",
              "      <td>Marshall Islands</td>\n",
              "      <td>589090</td>\n",
              "      <td>Full Time</td>\n",
              "      <td>4.3</td>\n",
              "    </tr>\n",
              "    <tr>\n",
              "      <th>2</th>\n",
              "      <td>Matthew Hall</td>\n",
              "      <td>Scott Inc</td>\n",
              "      <td>Regulatory affairs officer</td>\n",
              "      <td>Wardfort</td>\n",
              "      <td>Anguilla</td>\n",
              "      <td>630890</td>\n",
              "      <td>Full Time</td>\n",
              "      <td>3.1</td>\n",
              "    </tr>\n",
              "    <tr>\n",
              "      <th>3</th>\n",
              "      <td>Brad Scott</td>\n",
              "      <td>Johnston, Fleming and Tanner</td>\n",
              "      <td>Production engineer</td>\n",
              "      <td>West Jamesview</td>\n",
              "      <td>Syrian Arab Republic</td>\n",
              "      <td>116400</td>\n",
              "      <td>Full Time</td>\n",
              "      <td>3.1</td>\n",
              "    </tr>\n",
              "    <tr>\n",
              "      <th>4</th>\n",
              "      <td>Theresa Owens</td>\n",
              "      <td>Baker, Allen and Edwards</td>\n",
              "      <td>Production engineer</td>\n",
              "      <td>Whiteside</td>\n",
              "      <td>Dominica</td>\n",
              "      <td>523499</td>\n",
              "      <td>Full Time</td>\n",
              "      <td>4.8</td>\n",
              "    </tr>\n",
              "    <tr>\n",
              "      <th>...</th>\n",
              "      <td>...</td>\n",
              "      <td>...</td>\n",
              "      <td>...</td>\n",
              "      <td>...</td>\n",
              "      <td>...</td>\n",
              "      <td>...</td>\n",
              "      <td>...</td>\n",
              "      <td>...</td>\n",
              "    </tr>\n",
              "    <tr>\n",
              "      <th>299996</th>\n",
              "      <td>Michele Butler</td>\n",
              "      <td>Johnston, Fleming and Tanner</td>\n",
              "      <td>Administrator</td>\n",
              "      <td>Aliciafort</td>\n",
              "      <td>Cuba</td>\n",
              "      <td>949580</td>\n",
              "      <td>Intern</td>\n",
              "      <td>2.6</td>\n",
              "    </tr>\n",
              "    <tr>\n",
              "      <th>299997</th>\n",
              "      <td>Lynn Wilson</td>\n",
              "      <td>Nichols-James</td>\n",
              "      <td>Administrator</td>\n",
              "      <td>New Cindychester</td>\n",
              "      <td>Bolivia</td>\n",
              "      <td>802830</td>\n",
              "      <td>Full Time</td>\n",
              "      <td>0.6</td>\n",
              "    </tr>\n",
              "    <tr>\n",
              "      <th>299998</th>\n",
              "      <td>Lindsey Keith</td>\n",
              "      <td>Nichols-James</td>\n",
              "      <td>Make</td>\n",
              "      <td>Whitakerbury</td>\n",
              "      <td>Western Sahara</td>\n",
              "      <td>257240</td>\n",
              "      <td>Full Time</td>\n",
              "      <td>2.4</td>\n",
              "    </tr>\n",
              "    <tr>\n",
              "      <th>299999</th>\n",
              "      <td>Karen Delgado</td>\n",
              "      <td>James and Sons</td>\n",
              "      <td>Actuary</td>\n",
              "      <td>New Russellton</td>\n",
              "      <td>United Kingdom</td>\n",
              "      <td>575770</td>\n",
              "      <td>Intern</td>\n",
              "      <td>3.3</td>\n",
              "    </tr>\n",
              "    <tr>\n",
              "      <th>300000</th>\n",
              "      <td>Chris Anders</td>\n",
              "      <td>Scott Inc</td>\n",
              "      <td>Production engineer</td>\n",
              "      <td>Wardfort</td>\n",
              "      <td>Anguilla</td>\n",
              "      <td>343930</td>\n",
              "      <td>Full Time</td>\n",
              "      <td>3.3</td>\n",
              "    </tr>\n",
              "  </tbody>\n",
              "</table>\n",
              "<p>300001 rows × 8 columns</p>\n",
              "</div>"
            ],
            "text/plain": [
              "                  Name                  Company_Name  \\\n",
              "0       Spencer Adkins                James and Sons   \n",
              "1         Julie Morton                 Nichols-James   \n",
              "2         Matthew Hall                     Scott Inc   \n",
              "3           Brad Scott  Johnston, Fleming and Tanner   \n",
              "4        Theresa Owens      Baker, Allen and Edwards   \n",
              "...                ...                           ...   \n",
              "299996  Michele Butler  Johnston, Fleming and Tanner   \n",
              "299997     Lynn Wilson                 Nichols-James   \n",
              "299998   Lindsey Keith                 Nichols-James   \n",
              "299999   Karen Delgado                James and Sons   \n",
              "300000    Chris Anders                     Scott Inc   \n",
              "\n",
              "                             Employee_Job_Title      Employee_City  \\\n",
              "0                               Equities trader     New Russellton   \n",
              "1       Diplomatic Services operational officer  North Melissafurt   \n",
              "2                    Regulatory affairs officer           Wardfort   \n",
              "3                           Production engineer     West Jamesview   \n",
              "4                           Production engineer          Whiteside   \n",
              "...                                         ...                ...   \n",
              "299996                            Administrator         Aliciafort   \n",
              "299997                            Administrator   New Cindychester   \n",
              "299998                                     Make       Whitakerbury   \n",
              "299999                                  Actuary     New Russellton   \n",
              "300000                      Production engineer           Wardfort   \n",
              "\n",
              "             Employee_Country  Employee_Salary Employment_Status  \\\n",
              "0       Palestinian Territory           321520         Full Time   \n",
              "1            Marshall Islands           589090         Full Time   \n",
              "2                    Anguilla           630890         Full Time   \n",
              "3        Syrian Arab Republic           116400         Full Time   \n",
              "4                    Dominica           523499         Full Time   \n",
              "...                       ...              ...               ...   \n",
              "299996                   Cuba           949580            Intern   \n",
              "299997                Bolivia           802830         Full Time   \n",
              "299998         Western Sahara           257240         Full Time   \n",
              "299999         United Kingdom           575770            Intern   \n",
              "300000               Anguilla           343930         Full Time   \n",
              "\n",
              "        Employee_Rating  \n",
              "0                   3.9  \n",
              "1                   4.3  \n",
              "2                   3.1  \n",
              "3                   3.1  \n",
              "4                   4.8  \n",
              "...                 ...  \n",
              "299996              2.6  \n",
              "299997              0.6  \n",
              "299998              2.4  \n",
              "299999              3.3  \n",
              "300000              3.3  \n",
              "\n",
              "[300001 rows x 8 columns]"
            ]
          },
          "execution_count": 242,
          "metadata": {},
          "output_type": "execute_result"
        }
      ],
      "source": [
        "df = df.drop(len(df)-1)\n",
        "df"
      ]
    },
    {
      "cell_type": "markdown",
      "metadata": {
        "id": "xJf1nVtKPrwc"
      },
      "source": [
        "### 117. Add a new column \"Employee_Rating_New\" which should be as follows:"
      ]
    },
    {
      "cell_type": "markdown",
      "metadata": {
        "id": "UUWXtANCPrwc"
      },
      "source": [
        "Employee_Rating_New = max(1.5, 2*Employee_Rating - 3)"
      ]
    },
    {
      "cell_type": "code",
      "execution_count": 254,
      "metadata": {
        "id": "ra5mlB_4Prwc"
      },
      "outputs": [
        {
          "data": {
            "text/html": [
              "<div>\n",
              "<style scoped>\n",
              "    .dataframe tbody tr th:only-of-type {\n",
              "        vertical-align: middle;\n",
              "    }\n",
              "\n",
              "    .dataframe tbody tr th {\n",
              "        vertical-align: top;\n",
              "    }\n",
              "\n",
              "    .dataframe thead th {\n",
              "        text-align: right;\n",
              "    }\n",
              "</style>\n",
              "<table border=\"1\" class=\"dataframe\">\n",
              "  <thead>\n",
              "    <tr style=\"text-align: right;\">\n",
              "      <th></th>\n",
              "      <th>Name</th>\n",
              "      <th>Company_Name</th>\n",
              "      <th>Employee_Job_Title</th>\n",
              "      <th>Employee_City</th>\n",
              "      <th>Employee_Country</th>\n",
              "      <th>Employee_Salary</th>\n",
              "      <th>Employment_Status</th>\n",
              "      <th>Employee_Rating</th>\n",
              "      <th>Employee_Rating_New</th>\n",
              "    </tr>\n",
              "  </thead>\n",
              "  <tbody>\n",
              "    <tr>\n",
              "      <th>0</th>\n",
              "      <td>Spencer Adkins</td>\n",
              "      <td>James and Sons</td>\n",
              "      <td>Equities trader</td>\n",
              "      <td>New Russellton</td>\n",
              "      <td>Palestinian Territory</td>\n",
              "      <td>321520</td>\n",
              "      <td>Full Time</td>\n",
              "      <td>3.9</td>\n",
              "      <td>4.8</td>\n",
              "    </tr>\n",
              "    <tr>\n",
              "      <th>1</th>\n",
              "      <td>Julie Morton</td>\n",
              "      <td>Nichols-James</td>\n",
              "      <td>Diplomatic Services operational officer</td>\n",
              "      <td>North Melissafurt</td>\n",
              "      <td>Marshall Islands</td>\n",
              "      <td>589090</td>\n",
              "      <td>Full Time</td>\n",
              "      <td>4.3</td>\n",
              "      <td>5.6</td>\n",
              "    </tr>\n",
              "    <tr>\n",
              "      <th>2</th>\n",
              "      <td>Matthew Hall</td>\n",
              "      <td>Scott Inc</td>\n",
              "      <td>Regulatory affairs officer</td>\n",
              "      <td>Wardfort</td>\n",
              "      <td>Anguilla</td>\n",
              "      <td>630890</td>\n",
              "      <td>Full Time</td>\n",
              "      <td>3.1</td>\n",
              "      <td>3.2</td>\n",
              "    </tr>\n",
              "    <tr>\n",
              "      <th>3</th>\n",
              "      <td>Brad Scott</td>\n",
              "      <td>Johnston, Fleming and Tanner</td>\n",
              "      <td>Production engineer</td>\n",
              "      <td>West Jamesview</td>\n",
              "      <td>Syrian Arab Republic</td>\n",
              "      <td>116400</td>\n",
              "      <td>Full Time</td>\n",
              "      <td>3.1</td>\n",
              "      <td>3.2</td>\n",
              "    </tr>\n",
              "    <tr>\n",
              "      <th>4</th>\n",
              "      <td>Theresa Owens</td>\n",
              "      <td>Baker, Allen and Edwards</td>\n",
              "      <td>Production engineer</td>\n",
              "      <td>Whiteside</td>\n",
              "      <td>Dominica</td>\n",
              "      <td>523499</td>\n",
              "      <td>Full Time</td>\n",
              "      <td>4.8</td>\n",
              "      <td>6.6</td>\n",
              "    </tr>\n",
              "    <tr>\n",
              "      <th>...</th>\n",
              "      <td>...</td>\n",
              "      <td>...</td>\n",
              "      <td>...</td>\n",
              "      <td>...</td>\n",
              "      <td>...</td>\n",
              "      <td>...</td>\n",
              "      <td>...</td>\n",
              "      <td>...</td>\n",
              "      <td>...</td>\n",
              "    </tr>\n",
              "    <tr>\n",
              "      <th>299996</th>\n",
              "      <td>Michele Butler</td>\n",
              "      <td>Johnston, Fleming and Tanner</td>\n",
              "      <td>Administrator</td>\n",
              "      <td>Aliciafort</td>\n",
              "      <td>Cuba</td>\n",
              "      <td>949580</td>\n",
              "      <td>Intern</td>\n",
              "      <td>2.6</td>\n",
              "      <td>2.2</td>\n",
              "    </tr>\n",
              "    <tr>\n",
              "      <th>299997</th>\n",
              "      <td>Lynn Wilson</td>\n",
              "      <td>Nichols-James</td>\n",
              "      <td>Administrator</td>\n",
              "      <td>New Cindychester</td>\n",
              "      <td>Bolivia</td>\n",
              "      <td>802830</td>\n",
              "      <td>Full Time</td>\n",
              "      <td>0.6</td>\n",
              "      <td>1.5</td>\n",
              "    </tr>\n",
              "    <tr>\n",
              "      <th>299998</th>\n",
              "      <td>Lindsey Keith</td>\n",
              "      <td>Nichols-James</td>\n",
              "      <td>Make</td>\n",
              "      <td>Whitakerbury</td>\n",
              "      <td>Western Sahara</td>\n",
              "      <td>257240</td>\n",
              "      <td>Full Time</td>\n",
              "      <td>2.4</td>\n",
              "      <td>1.8</td>\n",
              "    </tr>\n",
              "    <tr>\n",
              "      <th>299999</th>\n",
              "      <td>Karen Delgado</td>\n",
              "      <td>James and Sons</td>\n",
              "      <td>Actuary</td>\n",
              "      <td>New Russellton</td>\n",
              "      <td>United Kingdom</td>\n",
              "      <td>575770</td>\n",
              "      <td>Intern</td>\n",
              "      <td>3.3</td>\n",
              "      <td>3.6</td>\n",
              "    </tr>\n",
              "    <tr>\n",
              "      <th>300000</th>\n",
              "      <td>Chris Anders</td>\n",
              "      <td>Scott Inc</td>\n",
              "      <td>Production engineer</td>\n",
              "      <td>Wardfort</td>\n",
              "      <td>Anguilla</td>\n",
              "      <td>343930</td>\n",
              "      <td>Full Time</td>\n",
              "      <td>3.3</td>\n",
              "      <td>3.6</td>\n",
              "    </tr>\n",
              "  </tbody>\n",
              "</table>\n",
              "<p>300001 rows × 9 columns</p>\n",
              "</div>"
            ],
            "text/plain": [
              "                  Name                  Company_Name  \\\n",
              "0       Spencer Adkins                James and Sons   \n",
              "1         Julie Morton                 Nichols-James   \n",
              "2         Matthew Hall                     Scott Inc   \n",
              "3           Brad Scott  Johnston, Fleming and Tanner   \n",
              "4        Theresa Owens      Baker, Allen and Edwards   \n",
              "...                ...                           ...   \n",
              "299996  Michele Butler  Johnston, Fleming and Tanner   \n",
              "299997     Lynn Wilson                 Nichols-James   \n",
              "299998   Lindsey Keith                 Nichols-James   \n",
              "299999   Karen Delgado                James and Sons   \n",
              "300000    Chris Anders                     Scott Inc   \n",
              "\n",
              "                             Employee_Job_Title      Employee_City  \\\n",
              "0                               Equities trader     New Russellton   \n",
              "1       Diplomatic Services operational officer  North Melissafurt   \n",
              "2                    Regulatory affairs officer           Wardfort   \n",
              "3                           Production engineer     West Jamesview   \n",
              "4                           Production engineer          Whiteside   \n",
              "...                                         ...                ...   \n",
              "299996                            Administrator         Aliciafort   \n",
              "299997                            Administrator   New Cindychester   \n",
              "299998                                     Make       Whitakerbury   \n",
              "299999                                  Actuary     New Russellton   \n",
              "300000                      Production engineer           Wardfort   \n",
              "\n",
              "             Employee_Country  Employee_Salary Employment_Status  \\\n",
              "0       Palestinian Territory           321520         Full Time   \n",
              "1            Marshall Islands           589090         Full Time   \n",
              "2                    Anguilla           630890         Full Time   \n",
              "3        Syrian Arab Republic           116400         Full Time   \n",
              "4                    Dominica           523499         Full Time   \n",
              "...                       ...              ...               ...   \n",
              "299996                   Cuba           949580            Intern   \n",
              "299997                Bolivia           802830         Full Time   \n",
              "299998         Western Sahara           257240         Full Time   \n",
              "299999         United Kingdom           575770            Intern   \n",
              "300000               Anguilla           343930         Full Time   \n",
              "\n",
              "        Employee_Rating  Employee_Rating_New  \n",
              "0                   3.9                  4.8  \n",
              "1                   4.3                  5.6  \n",
              "2                   3.1                  3.2  \n",
              "3                   3.1                  3.2  \n",
              "4                   4.8                  6.6  \n",
              "...                 ...                  ...  \n",
              "299996              2.6                  2.2  \n",
              "299997              0.6                  1.5  \n",
              "299998              2.4                  1.8  \n",
              "299999              3.3                  3.6  \n",
              "300000              3.3                  3.6  \n",
              "\n",
              "[300001 rows x 9 columns]"
            ]
          },
          "execution_count": 254,
          "metadata": {},
          "output_type": "execute_result"
        }
      ],
      "source": [
        "Employee_Rating_New = df[['Employee_Rating']].map(lambda x: max(1.5, x*2-3))\n",
        "df['Employee_Rating_New'] = Employee_Rating_New\n",
        "df"
      ]
    },
    {
      "cell_type": "markdown",
      "metadata": {
        "id": "YmBh4AMbPrwc"
      },
      "source": [
        "### 118. Convert the entire DataFrame to a list of lists. Do NOT overwrite to the current dataframe object."
      ]
    },
    {
      "cell_type": "code",
      "execution_count": 409,
      "metadata": {
        "id": "XvTDsfsEPrwc"
      },
      "outputs": [],
      "source": [
        "df_list = df.values.tolist()"
      ]
    },
    {
      "cell_type": "markdown",
      "metadata": {
        "id": "lhevAQP_Prwc"
      },
      "source": [
        "### 120. Rearrange the columns in the below order. Overwrite to the current DataFrame object."
      ]
    },
    {
      "cell_type": "code",
      "execution_count": null,
      "metadata": {
        "id": "Du4_ynG7Prwc"
      },
      "outputs": [],
      "source": [
        "new_order = [\"Name\", \"Employee_Job_Title\", \"Company_Name\",\n",
        "             \"Employee_City\", \"Employee_Country\", \"Employment_Status\",\n",
        "             \"Employee_Salary\", \"Employee_Rating\", \"Employee_Rating_New\"]\n",
        "\n"
      ]
    },
    {
      "cell_type": "markdown",
      "metadata": {
        "id": "wmrg1zNmPrwc"
      },
      "source": [
        "### 123. Drop the 'Name' column inplace from the DataFrame."
      ]
    },
    {
      "cell_type": "code",
      "execution_count": null,
      "metadata": {
        "id": "g7vQq6tjPrwc",
        "outputId": "ddeec790-b660-42a9-e620-c47e97544f09"
      },
      "outputs": [
        {
          "data": {
            "text/html": [
              "<div>\n",
              "<style scoped>\n",
              "    .dataframe tbody tr th:only-of-type {\n",
              "        vertical-align: middle;\n",
              "    }\n",
              "\n",
              "    .dataframe tbody tr th {\n",
              "        vertical-align: top;\n",
              "    }\n",
              "\n",
              "    .dataframe thead th {\n",
              "        text-align: right;\n",
              "    }\n",
              "</style>\n",
              "<table border=\"1\" class=\"dataframe\">\n",
              "  <thead>\n",
              "    <tr style=\"text-align: right;\">\n",
              "      <th></th>\n",
              "      <th>Employee_Job_Title</th>\n",
              "      <th>Company_Name</th>\n",
              "      <th>Employee_City</th>\n",
              "      <th>Employee_Country</th>\n",
              "      <th>Employment_Status</th>\n",
              "      <th>Employee_Salary</th>\n",
              "      <th>Employee_Rating</th>\n",
              "      <th>Employee_Rating_New</th>\n",
              "    </tr>\n",
              "  </thead>\n",
              "  <tbody>\n",
              "    <tr>\n",
              "      <th>0</th>\n",
              "      <td>Equities trader</td>\n",
              "      <td>James and Sons</td>\n",
              "      <td>New Russellton</td>\n",
              "      <td>Palestinian Territory</td>\n",
              "      <td>Full Time</td>\n",
              "      <td>321520</td>\n",
              "      <td>3.9</td>\n",
              "      <td>4.8</td>\n",
              "    </tr>\n",
              "    <tr>\n",
              "      <th>1</th>\n",
              "      <td>Diplomatic Services operational officer</td>\n",
              "      <td>Nichols-James</td>\n",
              "      <td>North Melissafurt</td>\n",
              "      <td>Marshall Islands</td>\n",
              "      <td>Full Time</td>\n",
              "      <td>589090</td>\n",
              "      <td>4.3</td>\n",
              "      <td>5.6</td>\n",
              "    </tr>\n",
              "    <tr>\n",
              "      <th>2</th>\n",
              "      <td>Regulatory affairs officer</td>\n",
              "      <td>Scott Inc</td>\n",
              "      <td>Wardfort</td>\n",
              "      <td>Anguilla</td>\n",
              "      <td>Full Time</td>\n",
              "      <td>630890</td>\n",
              "      <td>3.1</td>\n",
              "      <td>3.2</td>\n",
              "    </tr>\n",
              "    <tr>\n",
              "      <th>3</th>\n",
              "      <td>Production engineer</td>\n",
              "      <td>Johnston, Fleming and Tanner</td>\n",
              "      <td>West Jamesview</td>\n",
              "      <td>Syrian Arab Republic</td>\n",
              "      <td>Full Time</td>\n",
              "      <td>116400</td>\n",
              "      <td>3.1</td>\n",
              "      <td>3.2</td>\n",
              "    </tr>\n",
              "    <tr>\n",
              "      <th>4</th>\n",
              "      <td>Production engineer</td>\n",
              "      <td>Baker, Allen and Edwards</td>\n",
              "      <td>Whiteside</td>\n",
              "      <td>Dominica</td>\n",
              "      <td>Full Time</td>\n",
              "      <td>523499</td>\n",
              "      <td>4.8</td>\n",
              "      <td>6.6</td>\n",
              "    </tr>\n",
              "    <tr>\n",
              "      <th>...</th>\n",
              "      <td>...</td>\n",
              "      <td>...</td>\n",
              "      <td>...</td>\n",
              "      <td>...</td>\n",
              "      <td>...</td>\n",
              "      <td>...</td>\n",
              "      <td>...</td>\n",
              "      <td>...</td>\n",
              "    </tr>\n",
              "    <tr>\n",
              "      <th>299996</th>\n",
              "      <td>Administrator</td>\n",
              "      <td>Johnston, Fleming and Tanner</td>\n",
              "      <td>Aliciafort</td>\n",
              "      <td>Cuba</td>\n",
              "      <td>Intern</td>\n",
              "      <td>949580</td>\n",
              "      <td>2.6</td>\n",
              "      <td>2.2</td>\n",
              "    </tr>\n",
              "    <tr>\n",
              "      <th>299997</th>\n",
              "      <td>Administrator</td>\n",
              "      <td>Nichols-James</td>\n",
              "      <td>New Cindychester</td>\n",
              "      <td>Bolivia</td>\n",
              "      <td>Full Time</td>\n",
              "      <td>802830</td>\n",
              "      <td>0.6</td>\n",
              "      <td>1.5</td>\n",
              "    </tr>\n",
              "    <tr>\n",
              "      <th>299998</th>\n",
              "      <td>Make</td>\n",
              "      <td>Nichols-James</td>\n",
              "      <td>Whitakerbury</td>\n",
              "      <td>Western Sahara</td>\n",
              "      <td>Full Time</td>\n",
              "      <td>257240</td>\n",
              "      <td>2.4</td>\n",
              "      <td>1.8</td>\n",
              "    </tr>\n",
              "    <tr>\n",
              "      <th>299999</th>\n",
              "      <td>Actuary</td>\n",
              "      <td>James and Sons</td>\n",
              "      <td>New Russellton</td>\n",
              "      <td>United Kingdom</td>\n",
              "      <td>Intern</td>\n",
              "      <td>575770</td>\n",
              "      <td>3.3</td>\n",
              "      <td>3.6</td>\n",
              "    </tr>\n",
              "    <tr>\n",
              "      <th>300000</th>\n",
              "      <td>Production engineer</td>\n",
              "      <td>Scott Inc</td>\n",
              "      <td>Wardfort</td>\n",
              "      <td>Anguilla</td>\n",
              "      <td>Full Time</td>\n",
              "      <td>343930</td>\n",
              "      <td>3.3</td>\n",
              "      <td>3.6</td>\n",
              "    </tr>\n",
              "  </tbody>\n",
              "</table>\n",
              "<p>300001 rows × 8 columns</p>\n",
              "</div>"
            ],
            "text/plain": [
              "                             Employee_Job_Title                  Company_Name  \\\n",
              "0                               Equities trader                James and Sons   \n",
              "1       Diplomatic Services operational officer                 Nichols-James   \n",
              "2                    Regulatory affairs officer                     Scott Inc   \n",
              "3                           Production engineer  Johnston, Fleming and Tanner   \n",
              "4                           Production engineer      Baker, Allen and Edwards   \n",
              "...                                         ...                           ...   \n",
              "299996                            Administrator  Johnston, Fleming and Tanner   \n",
              "299997                            Administrator                 Nichols-James   \n",
              "299998                                     Make                 Nichols-James   \n",
              "299999                                  Actuary                James and Sons   \n",
              "300000                      Production engineer                     Scott Inc   \n",
              "\n",
              "            Employee_City       Employee_Country Employment_Status  \\\n",
              "0          New Russellton  Palestinian Territory         Full Time   \n",
              "1       North Melissafurt       Marshall Islands         Full Time   \n",
              "2                Wardfort               Anguilla         Full Time   \n",
              "3          West Jamesview   Syrian Arab Republic         Full Time   \n",
              "4               Whiteside               Dominica         Full Time   \n",
              "...                   ...                    ...               ...   \n",
              "299996         Aliciafort                   Cuba            Intern   \n",
              "299997   New Cindychester                Bolivia         Full Time   \n",
              "299998       Whitakerbury         Western Sahara         Full Time   \n",
              "299999     New Russellton         United Kingdom            Intern   \n",
              "300000           Wardfort               Anguilla         Full Time   \n",
              "\n",
              "        Employee_Salary  Employee_Rating  Employee_Rating_New  \n",
              "0                321520              3.9                  4.8  \n",
              "1                589090              4.3                  5.6  \n",
              "2                630890              3.1                  3.2  \n",
              "3                116400              3.1                  3.2  \n",
              "4                523499              4.8                  6.6  \n",
              "...                 ...              ...                  ...  \n",
              "299996           949580              2.6                  2.2  \n",
              "299997           802830              0.6                  1.5  \n",
              "299998           257240              2.4                  1.8  \n",
              "299999           575770              3.3                  3.6  \n",
              "300000           343930              3.3                  3.6  \n",
              "\n",
              "[300001 rows x 8 columns]"
            ]
          },
          "metadata": {},
          "output_type": "display_data"
        }
      ],
      "source": []
    },
    {
      "cell_type": "markdown",
      "metadata": {
        "id": "gOxyP2r_Prwc"
      },
      "source": [
        "### 126. Rename the columns and store to a new DataFrame 'df_renamed':"
      ]
    },
    {
      "cell_type": "markdown",
      "metadata": {
        "id": "Qx_Hwh_lPrwc"
      },
      "source": [
        "1. Employee_Rating -> Rating\n",
        "2. Employee_Country -> Country\n",
        "3. Employee_Salary -> Salary\n",
        "4. Employee_Rating_New -> Rating_New\n",
        "5. Employment_Status -> Employment_type\n",
        "6. Employment_City -> City"
      ]
    },
    {
      "cell_type": "code",
      "execution_count": null,
      "metadata": {
        "id": "h1hUBX1QPrwc"
      },
      "outputs": [],
      "source": []
    },
    {
      "cell_type": "markdown",
      "metadata": {
        "id": "7Kojy-g4Prwd"
      },
      "source": [
        "### 128. Count the number of NaN values in each column"
      ]
    },
    {
      "cell_type": "code",
      "execution_count": null,
      "metadata": {
        "id": "j9haiZ1FPrwd",
        "outputId": "1d92d55c-26c7-4fcb-9901-c12d33f2daac"
      },
      "outputs": [
        {
          "data": {
            "text/plain": [
              "Employee_Job_Title     0\n",
              "Company_Name           0\n",
              "Employee_City          0\n",
              "Employee_Country       0\n",
              "Employment_Status      0\n",
              "Employee_Salary        0\n",
              "Employee_Rating        0\n",
              "Employee_Rating_New    0\n",
              "dtype: int64"
            ]
          },
          "metadata": {},
          "output_type": "display_data"
        }
      ],
      "source": []
    },
    {
      "cell_type": "markdown",
      "metadata": {
        "id": "W7E3aCKBPrwd"
      },
      "source": [
        "### 131.  Map every Company_Name to a unique integer value. Name the new column \"Company_ID\".  "
      ]
    },
    {
      "cell_type": "markdown",
      "metadata": {
        "id": "W37hLjkdPrwd"
      },
      "source": [
        "For instance, if the data has 5 companies, \"Company A\" -> 1, \"Company B\" -> 2, \"Company C\" -> 3, \"Company D\" -> 4, \"Company E\" -> 5."
      ]
    },
    {
      "cell_type": "code",
      "execution_count": null,
      "metadata": {
        "id": "jcfZnjdtPrwd"
      },
      "outputs": [],
      "source": []
    },
    {
      "cell_type": "markdown",
      "metadata": {
        "id": "5lphDDlZPrwd"
      },
      "source": [
        "### 133. Print the number of rows where 'City' belongs to the following list of cities."
      ]
    },
    {
      "cell_type": "markdown",
      "metadata": {
        "id": "G5h1fH6nPrwd"
      },
      "source": [
        "Use the isin() method."
      ]
    },
    {
      "cell_type": "code",
      "execution_count": null,
      "metadata": {
        "id": "Fgnl81tqPrwd",
        "outputId": "bbad4699-ba46-4dd8-ab54-41bfc0b670cc"
      },
      "outputs": [
        {
          "name": "stdout",
          "output_type": "stream",
          "text": [
            "90054\n"
          ]
        }
      ],
      "source": [
        "city_filter_list = [\"New Russellton\", \"Whiteside\", \"Kristaburgh\"]\n",
        "\n",
        "row_count =\n",
        "print(row_count)"
      ]
    },
    {
      "cell_type": "markdown",
      "metadata": {
        "id": "Emf-MsF3Prwd"
      },
      "source": [
        "### 135. Print the name of the person with the 10th largest salary. If there are multiple people with the same salary, print all names."
      ]
    },
    {
      "cell_type": "code",
      "execution_count": null,
      "metadata": {
        "id": "x7Qx7qtAPrwd",
        "outputId": "f6b7b693-9433-42ee-9c01-60534ead3527"
      },
      "outputs": [
        {
          "data": {
            "text/plain": [
              "array(['Allen Chavez', 'David Ryan', 'Elizabeth Bell', 'Megan Petersen'],\n",
              "      dtype=object)"
            ]
          },
          "metadata": {},
          "output_type": "display_data"
        }
      ],
      "source": []
    },
    {
      "cell_type": "markdown",
      "metadata": {
        "id": "yaN4vI2yPrwd"
      },
      "source": [
        "### 136. Print a cross tabulation of Company Name and Employment Type."
      ]
    },
    {
      "cell_type": "code",
      "execution_count": null,
      "metadata": {
        "id": "YPKxUd5bPrwd",
        "outputId": "97f0785e-95e2-4a15-cd37-ea53738beccc"
      },
      "outputs": [
        {
          "name": "stdout",
          "output_type": "stream",
          "text": [
            "Employment_Status               Full Time  Intern\n",
            "Company_Name                                     \n",
            "Andrade LLC                         15964    4019\n",
            "Baker, Allen and Edwards            16118    3966\n",
            "Bullock-Carrillo                    16135    3928\n",
            "Campos, Reynolds and Mccormick      15930    3997\n",
            "James and Sons                      15888    3980\n",
            "Johnston, Fleming and Tanner        15832    3979\n",
            "Marshall-Holloway                   15871    3988\n",
            "Matthews Inc                        16082    4001\n",
            "Nelson-Li                           16027    4105\n",
            "Nichols-James                       15872    4039\n",
            "Scott Inc                           16396    3994\n",
            "Taylor-Ramos                        16086    4036\n",
            "Thomas-Spencer                      16037    4105\n",
            "Wallace, Smith and Shepard          15467    3897\n",
            "White, Mcclain and Cobb             16305    3956\n"
          ]
        }
      ],
      "source": []
    },
    {
      "cell_type": "markdown",
      "metadata": {
        "id": "iqj8hJoDPrwd"
      },
      "source": [
        "### 143-145. Print the 25th, 50th and 75th percentile of the Salary column"
      ]
    },
    {
      "cell_type": "code",
      "execution_count": null,
      "metadata": {
        "id": "NzCMK_J5Prwd",
        "outputId": "ee1941d6-d041-4690-fa38-d3b0e043db26"
      },
      "outputs": [
        {
          "data": {
            "text/plain": [
              "25%    250000.0\n",
              "50%    500780.0\n",
              "75%    749710.0\n",
              "Name: Employee_Salary, dtype: float64"
            ]
          },
          "metadata": {},
          "output_type": "display_data"
        }
      ],
      "source": []
    },
    {
      "cell_type": "markdown",
      "metadata": {
        "id": "kenNdpdNPrwd"
      },
      "source": [
        "### 147. Distribute the Salary column in 10 equal sized bins and label each bin from 1 to 10 and add a new column named \"Labels\""
      ]
    },
    {
      "cell_type": "code",
      "execution_count": null,
      "metadata": {
        "id": "veVlRYSSPrwd"
      },
      "outputs": [],
      "source": []
    },
    {
      "cell_type": "markdown",
      "metadata": {
        "id": "A3fOKGiwPrwd"
      },
      "source": [
        "# Pandas Notebook 4"
      ]
    },
    {
      "cell_type": "markdown",
      "metadata": {
        "id": "WQfCpOo3Prwd"
      },
      "source": [
        "### 151. Sort DataFrame based on another list"
      ]
    },
    {
      "cell_type": "code",
      "execution_count": null,
      "metadata": {
        "id": "-mvK9yF4Prwd"
      },
      "outputs": [],
      "source": [
        "import pandas as pd"
      ]
    },
    {
      "cell_type": "code",
      "execution_count": 265,
      "metadata": {
        "id": "JzeC_4fbPrwd",
        "outputId": "a0a2392b-633d-4480-899d-f5a0b6e70fed"
      },
      "outputs": [
        {
          "name": "stdout",
          "output_type": "stream",
          "text": [
            "  col1  col2\n",
            "2    C     3\n",
            "0    A     1\n",
            "3    D     4\n",
            "1    B     2\n"
          ]
        }
      ],
      "source": [
        "df = pd.DataFrame([[\"A\", 1], [\"B\", 2],\n",
        "                   [\"C\", 3], [\"D\", 4]], columns=[\"col1\", \"col2\"])\n",
        "\n",
        "sort_list = [\"C\", \"A\", \"D\", \"B\"]\n",
        "\n",
        "# start your code below\n",
        "new_df = df.sort_values(by=\"col1\", key=lambda x: x.map({k: i for i, k in enumerate(sort_list)}))\n",
        "\n",
        "# end your code here\n",
        "print(new_df)\n"
      ]
    },
    {
      "cell_type": "markdown",
      "metadata": {
        "id": "afpqED6hPrwd"
      },
      "source": [
        "### 152. Insert a column at a specific location in a DataFrame with a name, \"new_column\""
      ]
    },
    {
      "cell_type": "code",
      "execution_count": 268,
      "metadata": {
        "id": "iMcOaa8-Prwd",
        "outputId": "a024406e-b44b-4889-8976-26a387afa803"
      },
      "outputs": [
        {
          "data": {
            "text/html": [
              "<div>\n",
              "<style scoped>\n",
              "    .dataframe tbody tr th:only-of-type {\n",
              "        vertical-align: middle;\n",
              "    }\n",
              "\n",
              "    .dataframe tbody tr th {\n",
              "        vertical-align: top;\n",
              "    }\n",
              "\n",
              "    .dataframe thead th {\n",
              "        text-align: right;\n",
              "    }\n",
              "</style>\n",
              "<table border=\"1\" class=\"dataframe\">\n",
              "  <thead>\n",
              "    <tr style=\"text-align: right;\">\n",
              "      <th></th>\n",
              "      <th>col_A</th>\n",
              "      <th>new_column</th>\n",
              "      <th>col_B</th>\n",
              "    </tr>\n",
              "  </thead>\n",
              "  <tbody>\n",
              "    <tr>\n",
              "      <th>0</th>\n",
              "      <td>A</td>\n",
              "      <td>P</td>\n",
              "      <td>1</td>\n",
              "    </tr>\n",
              "    <tr>\n",
              "      <th>1</th>\n",
              "      <td>B</td>\n",
              "      <td>Q</td>\n",
              "      <td>2</td>\n",
              "    </tr>\n",
              "    <tr>\n",
              "      <th>2</th>\n",
              "      <td>C</td>\n",
              "      <td>R</td>\n",
              "      <td>3</td>\n",
              "    </tr>\n",
              "    <tr>\n",
              "      <th>3</th>\n",
              "      <td>D</td>\n",
              "      <td>S</td>\n",
              "      <td>4</td>\n",
              "    </tr>\n",
              "  </tbody>\n",
              "</table>\n",
              "</div>"
            ],
            "text/plain": [
              "  col_A new_column  col_B\n",
              "0     A          P      1\n",
              "1     B          Q      2\n",
              "2     C          R      3\n",
              "3     D          S      4"
            ]
          },
          "execution_count": 268,
          "metadata": {},
          "output_type": "execute_result"
        }
      ],
      "source": [
        "df = pd.DataFrame([[\"A\", 1], [\"B\", 2],\n",
        "                   [\"C\", 3], [\"D\", 4]],\n",
        "                  columns=[\"col_A\", \"col_B\"])\n",
        "\n",
        "new_column = [\"P\", \"Q\", \"R\", \"S\"]\n",
        "insert_position = 1 ## between col_A and col_B\n",
        "\n",
        "## start your code below\n",
        "df.insert(insert_position, \"new_column\", new_column)\n",
        "df\n",
        "\n",
        "## end your code here\n",
        "\n",
        "\n"
      ]
    },
    {
      "cell_type": "markdown",
      "metadata": {
        "id": "4-C1Qqv3Prwe"
      },
      "source": [
        "### 154. Count the number of Non-NaN cells for each column"
      ]
    },
    {
      "cell_type": "code",
      "execution_count": 269,
      "metadata": {
        "id": "AtNw1M7-Prwe"
      },
      "outputs": [],
      "source": [
        "import numpy as np"
      ]
    },
    {
      "cell_type": "code",
      "execution_count": 271,
      "metadata": {
        "id": "I6WDNRR0Prwe",
        "outputId": "39047bd7-4023-4d1c-bed7-8192427562a1"
      },
      "outputs": [
        {
          "data": {
            "text/plain": [
              "col_A    3\n",
              "col_B    2\n",
              "dtype: int64"
            ]
          },
          "execution_count": 271,
          "metadata": {},
          "output_type": "execute_result"
        }
      ],
      "source": [
        "df = pd.DataFrame([[\"A\", np.NaN], [np.NaN, 2],\n",
        "                   [\"C\", np.NaN], [\"D\", 4]],\n",
        "                  columns=[\"col_A\", \"col_B\"])\n",
        "\n",
        "## start your code below\n",
        "df.count()\n",
        "\n",
        "## end your code here\n"
      ]
    },
    {
      "cell_type": "markdown",
      "metadata": {
        "id": "CvFtI76XPrwe"
      },
      "source": [
        "### 156. Reverse DataFrame row-wise"
      ]
    },
    {
      "cell_type": "code",
      "execution_count": 280,
      "metadata": {
        "id": "ExLVfbNqPrwe",
        "outputId": "5cdc3caf-dae2-40a5-ddf5-36a1625d9af9"
      },
      "outputs": [
        {
          "data": {
            "text/html": [
              "<div>\n",
              "<style scoped>\n",
              "    .dataframe tbody tr th:only-of-type {\n",
              "        vertical-align: middle;\n",
              "    }\n",
              "\n",
              "    .dataframe tbody tr th {\n",
              "        vertical-align: top;\n",
              "    }\n",
              "\n",
              "    .dataframe thead th {\n",
              "        text-align: right;\n",
              "    }\n",
              "</style>\n",
              "<table border=\"1\" class=\"dataframe\">\n",
              "  <thead>\n",
              "    <tr style=\"text-align: right;\">\n",
              "      <th></th>\n",
              "      <th>col_A</th>\n",
              "      <th>col_B</th>\n",
              "    </tr>\n",
              "  </thead>\n",
              "  <tbody>\n",
              "    <tr>\n",
              "      <th>3</th>\n",
              "      <td>D</td>\n",
              "      <td>4</td>\n",
              "    </tr>\n",
              "    <tr>\n",
              "      <th>2</th>\n",
              "      <td>C</td>\n",
              "      <td>3</td>\n",
              "    </tr>\n",
              "    <tr>\n",
              "      <th>1</th>\n",
              "      <td>B</td>\n",
              "      <td>2</td>\n",
              "    </tr>\n",
              "    <tr>\n",
              "      <th>0</th>\n",
              "      <td>A</td>\n",
              "      <td>1</td>\n",
              "    </tr>\n",
              "  </tbody>\n",
              "</table>\n",
              "</div>"
            ],
            "text/plain": [
              "  col_A  col_B\n",
              "3     D      4\n",
              "2     C      3\n",
              "1     B      2\n",
              "0     A      1"
            ]
          },
          "execution_count": 280,
          "metadata": {},
          "output_type": "execute_result"
        }
      ],
      "source": [
        "df = pd.DataFrame([[\"A\", 1], [\"B\", 2],\n",
        "                   [\"C\", 3], [\"D\", 4]],\n",
        "                  columns=[\"col_A\", \"col_B\"])\n",
        "\n",
        "## start your code below\n",
        "df[::-1]\n",
        "\n",
        "## end our code here\n",
        "\n"
      ]
    },
    {
      "cell_type": "markdown",
      "metadata": {
        "id": "38e33v6QPrwe"
      },
      "source": [
        "### 157. Reverse DataFrame column-wise"
      ]
    },
    {
      "cell_type": "code",
      "execution_count": 282,
      "metadata": {
        "id": "Jr7QSOqlPrwe",
        "outputId": "ea011ce0-3a38-465a-9d33-2a8dcfdc8bf5"
      },
      "outputs": [
        {
          "data": {
            "text/html": [
              "<div>\n",
              "<style scoped>\n",
              "    .dataframe tbody tr th:only-of-type {\n",
              "        vertical-align: middle;\n",
              "    }\n",
              "\n",
              "    .dataframe tbody tr th {\n",
              "        vertical-align: top;\n",
              "    }\n",
              "\n",
              "    .dataframe thead th {\n",
              "        text-align: right;\n",
              "    }\n",
              "</style>\n",
              "<table border=\"1\" class=\"dataframe\">\n",
              "  <thead>\n",
              "    <tr style=\"text-align: right;\">\n",
              "      <th></th>\n",
              "      <th>col_B</th>\n",
              "      <th>col_A</th>\n",
              "    </tr>\n",
              "  </thead>\n",
              "  <tbody>\n",
              "    <tr>\n",
              "      <th>0</th>\n",
              "      <td>1</td>\n",
              "      <td>A</td>\n",
              "    </tr>\n",
              "    <tr>\n",
              "      <th>1</th>\n",
              "      <td>2</td>\n",
              "      <td>B</td>\n",
              "    </tr>\n",
              "    <tr>\n",
              "      <th>2</th>\n",
              "      <td>3</td>\n",
              "      <td>C</td>\n",
              "    </tr>\n",
              "    <tr>\n",
              "      <th>3</th>\n",
              "      <td>4</td>\n",
              "      <td>D</td>\n",
              "    </tr>\n",
              "  </tbody>\n",
              "</table>\n",
              "</div>"
            ],
            "text/plain": [
              "   col_B col_A\n",
              "0      1     A\n",
              "1      2     B\n",
              "2      3     C\n",
              "3      4     D"
            ]
          },
          "execution_count": 282,
          "metadata": {},
          "output_type": "execute_result"
        }
      ],
      "source": [
        "df = pd.DataFrame([[\"A\", 1], [\"B\", 2],\n",
        "                   [\"C\", 3], [\"D\", 4]],\n",
        "                  columns=[\"col_A\", \"col_B\"])\n",
        "\n",
        "## start your code below\n",
        "df.iloc[:, ::-1]\n",
        "\n",
        "## end your code here\n"
      ]
    },
    {
      "cell_type": "markdown",
      "metadata": {
        "id": "1200qNhhPrwe"
      },
      "source": [
        "### 158. Insert a row at an arbitrary position"
      ]
    },
    {
      "cell_type": "code",
      "execution_count": 322,
      "metadata": {
        "id": "ZRIZh6Z4Prwe",
        "outputId": "a1cbce6e-4dc3-498b-8d79-99d3193513c1"
      },
      "outputs": [
        {
          "data": {
            "text/html": [
              "<div>\n",
              "<style scoped>\n",
              "    .dataframe tbody tr th:only-of-type {\n",
              "        vertical-align: middle;\n",
              "    }\n",
              "\n",
              "    .dataframe tbody tr th {\n",
              "        vertical-align: top;\n",
              "    }\n",
              "\n",
              "    .dataframe thead th {\n",
              "        text-align: right;\n",
              "    }\n",
              "</style>\n",
              "<table border=\"1\" class=\"dataframe\">\n",
              "  <thead>\n",
              "    <tr style=\"text-align: right;\">\n",
              "      <th></th>\n",
              "      <th>col_A</th>\n",
              "      <th>col_B</th>\n",
              "    </tr>\n",
              "  </thead>\n",
              "  <tbody>\n",
              "    <tr>\n",
              "      <th>0</th>\n",
              "      <td>A</td>\n",
              "      <td>1</td>\n",
              "    </tr>\n",
              "    <tr>\n",
              "      <th>1</th>\n",
              "      <td>P</td>\n",
              "      <td>5</td>\n",
              "    </tr>\n",
              "    <tr>\n",
              "      <th>2</th>\n",
              "      <td>B</td>\n",
              "      <td>2</td>\n",
              "    </tr>\n",
              "    <tr>\n",
              "      <th>3</th>\n",
              "      <td>C</td>\n",
              "      <td>3</td>\n",
              "    </tr>\n",
              "    <tr>\n",
              "      <th>4</th>\n",
              "      <td>D</td>\n",
              "      <td>4</td>\n",
              "    </tr>\n",
              "  </tbody>\n",
              "</table>\n",
              "</div>"
            ],
            "text/plain": [
              "  col_A col_B\n",
              "0     A     1\n",
              "1     P     5\n",
              "2     B     2\n",
              "3     C     3\n",
              "4     D     4"
            ]
          },
          "execution_count": 322,
          "metadata": {},
          "output_type": "execute_result"
        }
      ],
      "source": [
        "df = pd.DataFrame([[\"A\", 1], [\"B\", 2],\n",
        "                   [\"C\", 3], [\"D\", 4]],\n",
        "                  columns=[\"col_A\", \"col_B\"])\n",
        "\n",
        "insert_pos = 1\n",
        "insert_row = [\"P\", 5]\n",
        "\n",
        "## start your code below\n",
        "as_df = pd.DataFrame(insert_row, index=df.columns).T\n",
        "df = pd.concat([df.iloc[:insert_pos], as_df, df.iloc[insert_pos:]]).reset_index(drop=True)\n",
        "\n",
        "## end your code here\n",
        "df"
      ]
    },
    {
      "cell_type": "markdown",
      "metadata": {
        "id": "aDMttlI2Prwe"
      },
      "source": [
        "### 160. The cumulative sum of a column in DataFrame"
      ]
    },
    {
      "cell_type": "code",
      "execution_count": 337,
      "metadata": {
        "id": "9vMBzrtWPrwe",
        "outputId": "683342cd-2788-4378-e530-6b6ce2355250"
      },
      "outputs": [
        {
          "data": {
            "text/html": [
              "<div>\n",
              "<style scoped>\n",
              "    .dataframe tbody tr th:only-of-type {\n",
              "        vertical-align: middle;\n",
              "    }\n",
              "\n",
              "    .dataframe tbody tr th {\n",
              "        vertical-align: top;\n",
              "    }\n",
              "\n",
              "    .dataframe thead th {\n",
              "        text-align: right;\n",
              "    }\n",
              "</style>\n",
              "<table border=\"1\" class=\"dataframe\">\n",
              "  <thead>\n",
              "    <tr style=\"text-align: right;\">\n",
              "      <th></th>\n",
              "      <th>col_A</th>\n",
              "      <th>col_B</th>\n",
              "      <th>CumsulativeSum</th>\n",
              "    </tr>\n",
              "  </thead>\n",
              "  <tbody>\n",
              "    <tr>\n",
              "      <th>0</th>\n",
              "      <td>A</td>\n",
              "      <td>1</td>\n",
              "      <td>1</td>\n",
              "    </tr>\n",
              "    <tr>\n",
              "      <th>1</th>\n",
              "      <td>B</td>\n",
              "      <td>2</td>\n",
              "      <td>3</td>\n",
              "    </tr>\n",
              "    <tr>\n",
              "      <th>2</th>\n",
              "      <td>C</td>\n",
              "      <td>3</td>\n",
              "      <td>6</td>\n",
              "    </tr>\n",
              "    <tr>\n",
              "      <th>3</th>\n",
              "      <td>D</td>\n",
              "      <td>4</td>\n",
              "      <td>10</td>\n",
              "    </tr>\n",
              "  </tbody>\n",
              "</table>\n",
              "</div>"
            ],
            "text/plain": [
              "  col_A  col_B  CumsulativeSum\n",
              "0     A      1               1\n",
              "1     B      2               3\n",
              "2     C      3               6\n",
              "3     D      4              10"
            ]
          },
          "execution_count": 337,
          "metadata": {},
          "output_type": "execute_result"
        }
      ],
      "source": [
        "df = pd.DataFrame([[\"A\", 1], [\"B\", 2],\n",
        "                   [\"C\", 3], [\"D\", 4]], columns=[\"col_A\", \"col_B\"])\n",
        "\n",
        "## start your code below\n",
        "new_col = df.iloc[:,-1].cumsum()\n",
        "new_col = new_col.rename('CumsulativeSum')\n",
        "new_df = pd.concat([df, new_col], axis=1)\n",
        "\n",
        "## end your code here\n",
        "\n",
        "new_df"
      ]
    },
    {
      "cell_type": "markdown",
      "metadata": {
        "id": "v0ws_CSDPrwe"
      },
      "source": [
        "### 165. Filter n-largest values from a DataFrame"
      ]
    },
    {
      "cell_type": "code",
      "execution_count": 343,
      "metadata": {
        "id": "AFNOq8dFPrwe",
        "outputId": "6bf6fbdd-fa0e-48a6-94fe-5b17d32adb2f"
      },
      "outputs": [
        {
          "data": {
            "text/html": [
              "<div>\n",
              "<style scoped>\n",
              "    .dataframe tbody tr th:only-of-type {\n",
              "        vertical-align: middle;\n",
              "    }\n",
              "\n",
              "    .dataframe tbody tr th {\n",
              "        vertical-align: top;\n",
              "    }\n",
              "\n",
              "    .dataframe thead th {\n",
              "        text-align: right;\n",
              "    }\n",
              "</style>\n",
              "<table border=\"1\" class=\"dataframe\">\n",
              "  <thead>\n",
              "    <tr style=\"text-align: right;\">\n",
              "      <th></th>\n",
              "      <th>col_A</th>\n",
              "      <th>col_B</th>\n",
              "    </tr>\n",
              "  </thead>\n",
              "  <tbody>\n",
              "    <tr>\n",
              "      <th>1</th>\n",
              "      <td>B</td>\n",
              "      <td>400</td>\n",
              "    </tr>\n",
              "    <tr>\n",
              "      <th>3</th>\n",
              "      <td>D</td>\n",
              "      <td>300</td>\n",
              "    </tr>\n",
              "  </tbody>\n",
              "</table>\n",
              "</div>"
            ],
            "text/plain": [
              "  col_A  col_B\n",
              "1     B    400\n",
              "3     D    300"
            ]
          },
          "execution_count": 343,
          "metadata": {},
          "output_type": "execute_result"
        }
      ],
      "source": [
        "df = pd.DataFrame([[\"A\", 200], [\"B\", 400],\n",
        "                   [\"C\", 100], [\"D\", 300]],\n",
        "                  columns=[\"col_A\", \"col_B\"])\n",
        "\n",
        "k = 2\n",
        "\n",
        "## start your code below\n",
        "largest_k = df.nlargest(k, 'col_B')\n",
        "\n",
        "## end your code here\n",
        "\n",
        "largest_k"
      ]
    },
    {
      "cell_type": "markdown",
      "metadata": {
        "id": "GmHLLoNRPrwf"
      },
      "source": [
        "### 169. Delete the rows that have NaN values"
      ]
    },
    {
      "cell_type": "code",
      "execution_count": 345,
      "metadata": {
        "id": "Ye1YN4-8Prwf",
        "outputId": "818fd693-9bad-4f3b-d1a2-0770641f0d66"
      },
      "outputs": [
        {
          "name": "stdout",
          "output_type": "stream",
          "text": [
            "  col_A  col_B\n",
            "1     B    2.0\n",
            "3     D    4.0\n"
          ]
        }
      ],
      "source": [
        "df = pd.DataFrame([[\"A\", np.NaN], [\"B\", 2],\n",
        "                   [\"C\", np.NaN], [\"D\", 4]],\n",
        "                  columns=[\"col_A\", \"col_B\"])\n",
        "\n",
        "## start your code below\n",
        "df = df.dropna()\n",
        "\n",
        "## end your code here\n",
        "\n",
        "print(df)"
      ]
    },
    {
      "cell_type": "markdown",
      "metadata": {
        "id": "fHREZCa0Prwf"
      },
      "source": [
        "### 171. Fill NaN values with column mean"
      ]
    },
    {
      "cell_type": "code",
      "execution_count": 353,
      "metadata": {
        "id": "ibDpfJIIPrwf",
        "outputId": "8099e5b0-5820-41e9-df76-73fa754bbe68"
      },
      "outputs": [
        {
          "name": "stdout",
          "output_type": "stream",
          "text": [
            "  col_A  col_B\n",
            "0     A    3.0\n",
            "1     B    2.0\n",
            "2     C    3.0\n",
            "3     D    4.0\n"
          ]
        }
      ],
      "source": [
        "df = pd.DataFrame([[\"A\", np.NaN], [\"B\", 2],\n",
        "                   [\"C\", np.NaN], [\"D\", 4]],\n",
        "                  columns=[\"col_A\", \"col_B\"])\n",
        "\n",
        "## start your code below\n",
        "df = df.fillna(df['col_B'].mean())\n",
        "\n",
        "## end your code here\n",
        "\n",
        "print(df)\n"
      ]
    },
    {
      "cell_type": "markdown",
      "metadata": {
        "id": "wHsEIJWTPrwf"
      },
      "source": [
        "### 173. Swap two rows of a dataframe"
      ]
    },
    {
      "cell_type": "code",
      "execution_count": 356,
      "metadata": {
        "id": "7DR1JH4KPrwf",
        "outputId": "8f663d51-6aa3-4c9a-b710-10c0b97e2220"
      },
      "outputs": [
        {
          "name": "stdout",
          "output_type": "stream",
          "text": [
            "  col_A  col_B\n",
            "0     A      1\n",
            "1     D      4\n",
            "2     C      3\n",
            "3     B      2\n"
          ]
        }
      ],
      "source": [
        "df = pd.DataFrame([[\"A\", 1], [\"B\", 2],\n",
        "                   [\"C\", 3], [\"D\", 4]],\n",
        "                  columns=[\"col_A\", \"col_B\"])\n",
        "\n",
        "# swap second and last row\n",
        "row_1, row_2 = 1, 3\n",
        "\n",
        "## start your code below\n",
        "df.iloc[[row_1, row_2]] = df.iloc[[row_2, row_1]].values\n",
        "\n",
        "\n",
        "## end your code here\n",
        "\n",
        "print(df)"
      ]
    },
    {
      "cell_type": "markdown",
      "metadata": {
        "id": "XGPqwIMiPrwf"
      },
      "source": [
        "### 174. Create a column \"col_D\" that contains the 2nd largest value in each row"
      ]
    },
    {
      "cell_type": "code",
      "execution_count": 371,
      "metadata": {
        "id": "7Ol5pheRPrwf",
        "outputId": "355e110d-bfec-4c0e-cfd6-5af36c79ff7c"
      },
      "outputs": [
        {
          "data": {
            "text/html": [
              "<div>\n",
              "<style scoped>\n",
              "    .dataframe tbody tr th:only-of-type {\n",
              "        vertical-align: middle;\n",
              "    }\n",
              "\n",
              "    .dataframe tbody tr th {\n",
              "        vertical-align: top;\n",
              "    }\n",
              "\n",
              "    .dataframe thead th {\n",
              "        text-align: right;\n",
              "    }\n",
              "</style>\n",
              "<table border=\"1\" class=\"dataframe\">\n",
              "  <thead>\n",
              "    <tr style=\"text-align: right;\">\n",
              "      <th></th>\n",
              "      <th>col_A</th>\n",
              "      <th>col_B</th>\n",
              "      <th>col_C</th>\n",
              "      <th>col_D</th>\n",
              "    </tr>\n",
              "  </thead>\n",
              "  <tbody>\n",
              "    <tr>\n",
              "      <th>0</th>\n",
              "      <td>4</td>\n",
              "      <td>1</td>\n",
              "      <td>5</td>\n",
              "      <td>4</td>\n",
              "    </tr>\n",
              "    <tr>\n",
              "      <th>1</th>\n",
              "      <td>5</td>\n",
              "      <td>2</td>\n",
              "      <td>9</td>\n",
              "      <td>5</td>\n",
              "    </tr>\n",
              "    <tr>\n",
              "      <th>2</th>\n",
              "      <td>2</td>\n",
              "      <td>9</td>\n",
              "      <td>3</td>\n",
              "      <td>3</td>\n",
              "    </tr>\n",
              "    <tr>\n",
              "      <th>3</th>\n",
              "      <td>8</td>\n",
              "      <td>5</td>\n",
              "      <td>4</td>\n",
              "      <td>5</td>\n",
              "    </tr>\n",
              "  </tbody>\n",
              "</table>\n",
              "</div>"
            ],
            "text/plain": [
              "   col_A  col_B  col_C  col_D\n",
              "0      4      1      5      4\n",
              "1      5      2      9      5\n",
              "2      2      9      3      3\n",
              "3      8      5      4      5"
            ]
          },
          "execution_count": 371,
          "metadata": {},
          "output_type": "execute_result"
        }
      ],
      "source": [
        "df = pd.DataFrame([[4, 1, 5],\n",
        "                   [5, 2, 9],\n",
        "                   [2, 9, 3],\n",
        "                   [8, 5, 4]],\n",
        "                  columns=[\"col_A\", \"col_B\", \"col_C\"])\n",
        "\n",
        "\n",
        "## start your code below\n",
        "col_D = df.apply(lambda row: sorted(row)[-2], axis=1)\n",
        "df['col_D'] = col_D\n",
        "\n",
        "# end your code here\n",
        "\n",
        "df"
      ]
    },
    {
      "cell_type": "markdown",
      "metadata": {
        "id": "_ZP1gpiyPrwf"
      },
      "source": [
        "### 176. Get the Group \"A\" of the dataframe by first grouping the dataframe and then using the group key."
      ]
    },
    {
      "cell_type": "code",
      "execution_count": 374,
      "metadata": {
        "id": "cY9QgdB0Prwf",
        "outputId": "9619430e-912a-4c9a-8113-78809ad237c2"
      },
      "outputs": [
        {
          "data": {
            "text/html": [
              "<div>\n",
              "<style scoped>\n",
              "    .dataframe tbody tr th:only-of-type {\n",
              "        vertical-align: middle;\n",
              "    }\n",
              "\n",
              "    .dataframe tbody tr th {\n",
              "        vertical-align: top;\n",
              "    }\n",
              "\n",
              "    .dataframe thead th {\n",
              "        text-align: right;\n",
              "    }\n",
              "</style>\n",
              "<table border=\"1\" class=\"dataframe\">\n",
              "  <thead>\n",
              "    <tr style=\"text-align: right;\">\n",
              "      <th></th>\n",
              "      <th>col_A</th>\n",
              "      <th>col_B</th>\n",
              "    </tr>\n",
              "  </thead>\n",
              "  <tbody>\n",
              "    <tr>\n",
              "      <th>0</th>\n",
              "      <td>A</td>\n",
              "      <td>1</td>\n",
              "    </tr>\n",
              "    <tr>\n",
              "      <th>2</th>\n",
              "      <td>A</td>\n",
              "      <td>3</td>\n",
              "    </tr>\n",
              "  </tbody>\n",
              "</table>\n",
              "</div>"
            ],
            "text/plain": [
              "  col_A  col_B\n",
              "0     A      1\n",
              "2     A      3"
            ]
          },
          "execution_count": 374,
          "metadata": {},
          "output_type": "execute_result"
        }
      ],
      "source": [
        "df = pd.DataFrame([[\"A\", 1], [\"B\", 2],\n",
        "                   [\"A\", 3], [\"D\", 4]],\n",
        "                  columns=[\"col_A\", \"col_B\"])\n",
        "\n",
        "\n",
        "## start your code below\n",
        "group_A = df.groupby('col_A').get_group('A')\n",
        "\n",
        "## end your code here\n",
        "\n",
        "group_A"
      ]
    },
    {
      "cell_type": "markdown",
      "metadata": {
        "id": "6qLkpsfJPrwf"
      },
      "source": [
        "### 178. Get the rows where the value of \"col_A\" is equal to \"col_B\"."
      ]
    },
    {
      "cell_type": "code",
      "execution_count": 378,
      "metadata": {
        "id": "_V4UjqAcPrwf",
        "outputId": "3fb0c286-5c27-4b93-a686-cdf9965d8c85"
      },
      "outputs": [
        {
          "name": "stdout",
          "output_type": "stream",
          "text": [
            "   col_A  col_B  col_C\n",
            "1      5      5      9\n"
          ]
        }
      ],
      "source": [
        "df = pd.DataFrame([[4, 1, 5],\n",
        "                   [5, 5, 9],\n",
        "                   [2, 9, 3],\n",
        "                   [8, 5, 8]],\n",
        "                  columns=[\"col_A\", \"col_B\", \"col_C\"])\n",
        "\n",
        "\n",
        "## start your code below\n",
        "new_df = df[df['col_A'] == df['col_B']]\n",
        "\n",
        "\n",
        "## end your code here\n",
        "\n",
        "print(new_df)"
      ]
    },
    {
      "cell_type": "markdown",
      "metadata": {
        "id": "zBrjbWaJPrwf"
      },
      "source": [
        "### 180. Sort the Data on col_A and col_B"
      ]
    },
    {
      "cell_type": "markdown",
      "metadata": {
        "id": "jm83ump7Prwf"
      },
      "source": [
        "col_A -> Ascending\n",
        "col_B -> Descending"
      ]
    },
    {
      "cell_type": "code",
      "execution_count": 403,
      "metadata": {
        "id": "fQEcxc8jPrwf",
        "outputId": "81b6c6cd-2f30-47a2-ecd3-e91208df4a60"
      },
      "outputs": [
        {
          "name": "stdout",
          "output_type": "stream",
          "text": [
            "   col_A  col_B  col_C\n",
            "2      2      9      3\n",
            "1      2      5      9\n",
            "0      4      1      5\n",
            "3      8      5      8\n"
          ]
        }
      ],
      "source": [
        "df = pd.DataFrame([[4, 1, 5],\n",
        "                   [2, 5, 9],\n",
        "                   [2, 9, 3],\n",
        "                   [8, 5, 8]],\n",
        "                  columns=[\"col_A\", \"col_B\", \"col_C\"])\n",
        "\n",
        "\n",
        "## start your code below\n",
        "new_df = pd.DataFrame.copy(df)\n",
        "# new_df.iloc[:,0] = df['col_A'].sort_values()\n",
        "# new_df.iloc[:,1] = df['col_B'].sort_values(ascending=False)\n",
        "\n",
        "new_df = df.sort_values(by=['col_A', 'col_B'], ascending=[True, False], inplace=False)\n",
        "\n",
        "## end your code here\n",
        "\n",
        "print(new_df)"
      ]
    },
    {
      "cell_type": "markdown",
      "metadata": {
        "id": "7KlaeXOfPrwf"
      },
      "source": [
        "### 182. Get the mean of every column"
      ]
    },
    {
      "cell_type": "code",
      "execution_count": null,
      "metadata": {
        "id": "1Dd1GGezPrwf",
        "outputId": "25cf02cd-fbb5-4d83-ca9c-b6b3b5dc116e"
      },
      "outputs": [
        {
          "name": "stdout",
          "output_type": "stream",
          "text": [
            "col_A    4.75\n",
            "col_B    5.00\n",
            "col_C    6.25\n",
            "dtype: float64\n"
          ]
        }
      ],
      "source": [
        "df = pd.DataFrame([[4, 1, 5],\n",
        "                   [5, 5, 9],\n",
        "                   [2, 9, 3],\n",
        "                   [8, 5, 8]],\n",
        "                  columns=[\"col_A\", \"col_B\", \"col_C\"])\n",
        "\n",
        "\n",
        "## start your code below\n",
        "\n",
        "\n",
        "## end your code here\n",
        "\n",
        "print(mean)"
      ]
    },
    {
      "cell_type": "markdown",
      "metadata": {
        "id": "2aZuO-2rPrwg"
      },
      "source": [
        "### 182. Get the mean of every row"
      ]
    },
    {
      "cell_type": "code",
      "execution_count": null,
      "metadata": {
        "id": "yoPD5_2uPrwg",
        "outputId": "fe4413f6-b59b-4c99-caae-f17ccdf31a72"
      },
      "outputs": [
        {
          "name": "stdout",
          "output_type": "stream",
          "text": [
            "0    3.333333\n",
            "1    6.333333\n",
            "2    4.666667\n",
            "3    7.000000\n",
            "dtype: float64\n"
          ]
        }
      ],
      "source": [
        "df = pd.DataFrame([[4, 1, 5],\n",
        "                   [5, 5, 9],\n",
        "                   [2, 9, 3],\n",
        "                   [8, 5, 8]],\n",
        "                  columns=[\"col_A\", \"col_B\", \"col_C\"])\n",
        "\n",
        "\n",
        "## start your code below\n",
        "\n",
        "\n",
        "## end your code here\n",
        "\n",
        "print(mean)"
      ]
    },
    {
      "cell_type": "markdown",
      "metadata": {
        "id": "_YbH7plTPrwg"
      },
      "source": [
        "### 183. Concatentate the two DataFrames row-wise"
      ]
    },
    {
      "cell_type": "code",
      "execution_count": null,
      "metadata": {
        "id": "exHtzmasPrwg",
        "outputId": "e706fd85-4f06-4f6d-fc8c-43099719cac3"
      },
      "outputs": [
        {
          "name": "stdout",
          "output_type": "stream",
          "text": [
            "  col_A  col_B\n",
            "0     A      1\n",
            "1     B      2\n",
            "2     A      3\n",
            "3     C      4\n"
          ]
        }
      ],
      "source": [
        "df1 = pd.DataFrame([[\"A\", 1], [\"B\", 2]],\n",
        "                  columns=[\"col_A\", \"col_B\"])\n",
        "\n",
        "df2 = pd.DataFrame([[\"A\", 3], [\"C\", 4]],\n",
        "                  columns=[\"col_A\", \"col_B\"])\n",
        "\n",
        "## start your code below\n",
        "\n",
        "\n",
        "## end your code here\n",
        "\n",
        "print(new_df)"
      ]
    },
    {
      "cell_type": "markdown",
      "metadata": {
        "id": "J1YP4kROPrwg"
      },
      "source": [
        "### 184. Concatentate the two DataFrames column-wise"
      ]
    },
    {
      "cell_type": "code",
      "execution_count": null,
      "metadata": {
        "id": "_6g5l896Prwg",
        "outputId": "13468d3d-b781-43f7-9b08-eba9940c1b53"
      },
      "outputs": [
        {
          "name": "stdout",
          "output_type": "stream",
          "text": [
            "   0  1  2  3\n",
            "0  A  1  A  3\n",
            "1  B  2  C  4\n"
          ]
        }
      ],
      "source": [
        "df1 = pd.DataFrame([[\"A\", 1], [\"B\", 2]],\n",
        "                  columns=[\"col_A\", \"col_B\"])\n",
        "\n",
        "df2 = pd.DataFrame([[\"A\", 3], [\"C\", 4]],\n",
        "                  columns=[\"col_C\", \"col_D\"])\n",
        "\n",
        "## start your code below\n",
        "\n",
        "\n",
        "## end your code here\n",
        "\n",
        "print(new_df)"
      ]
    },
    {
      "cell_type": "markdown",
      "metadata": {
        "id": "BUS9tVJ4Prwg"
      },
      "source": [
        "### 185. Change the last two values in the last column to [2,4]"
      ]
    },
    {
      "cell_type": "markdown",
      "metadata": {
        "id": "3huwajexPrwg"
      },
      "source": [
        "Change 3 -> 2\n",
        "Change 8 -> 4\n",
        "\n",
        "**Note: You should do this in a single line of code**"
      ]
    },
    {
      "cell_type": "code",
      "execution_count": null,
      "metadata": {
        "id": "u7mqu0ytPrwg",
        "outputId": "4a9588a2-568a-4964-e27b-f091328a7912"
      },
      "outputs": [
        {
          "name": "stdout",
          "output_type": "stream",
          "text": [
            "   col_A  col_B  col_C\n",
            "0      4      1      5\n",
            "1      5      5      9\n",
            "2      2      9      2\n",
            "3      8      5      4\n"
          ]
        }
      ],
      "source": [
        "df = pd.DataFrame([[4, 1, 5],\n",
        "                   [5, 5, 9],\n",
        "                   [2, 9, 3],\n",
        "                   [8, 5, 8]],\n",
        "                  columns=[\"col_A\", \"col_B\", \"col_C\"])\n",
        "\n",
        "\n",
        "## start your code below\n",
        "\n",
        "\n",
        "## end your code here\n",
        "\n",
        "print(df)"
      ]
    },
    {
      "cell_type": "markdown",
      "metadata": {
        "id": "oEiV2wO0Prwg"
      },
      "source": [
        "### 186. Replace all '1' with '2'"
      ]
    },
    {
      "cell_type": "code",
      "execution_count": null,
      "metadata": {
        "id": "YzgJzJylPrwg",
        "outputId": "77a1cabe-5142-4302-cd7e-77767d30deb5"
      },
      "outputs": [
        {
          "name": "stdout",
          "output_type": "stream",
          "text": [
            "   col_A  col_B  col_C\n",
            "0      4      2      5\n",
            "1      5      5      2\n",
            "2      2      9      3\n",
            "3      8      5      8\n"
          ]
        }
      ],
      "source": [
        "df = pd.DataFrame([[4, 1, 5],\n",
        "                   [5, 5, 1],\n",
        "                   [1, 9, 3],\n",
        "                   [8, 5, 8]],\n",
        "                  columns=[\"col_A\", \"col_B\", \"col_C\"])\n",
        "\n",
        "\n",
        "## start your code below\n",
        "\n",
        "\n",
        "## end your code here\n",
        "\n",
        "print(df)"
      ]
    },
    {
      "cell_type": "markdown",
      "metadata": {
        "id": "Farw3695Prwg"
      },
      "source": [
        "### 187. Replace all '1' with '2' and '5' with '6' in a single line of code"
      ]
    },
    {
      "cell_type": "code",
      "execution_count": null,
      "metadata": {
        "id": "4VZHuZDkPrwg",
        "outputId": "ce8a5f95-9f9e-4920-e066-bb75d8bf26af"
      },
      "outputs": [
        {
          "name": "stdout",
          "output_type": "stream",
          "text": [
            "   col_A  col_B  col_C\n",
            "0      4      2      6\n",
            "1      6      6      2\n",
            "2      2      9      3\n",
            "3      8      6      8\n"
          ]
        }
      ],
      "source": [
        "df = pd.DataFrame([[4, 1, 5],\n",
        "                   [5, 5, 1],\n",
        "                   [1, 9, 3],\n",
        "                   [8, 5, 8]],\n",
        "                  columns=[\"col_A\", \"col_B\", \"col_C\"])\n",
        "\n",
        "\n",
        "## start your code below\n",
        "\n",
        "\n",
        "## end your code here\n",
        "\n",
        "print(df)"
      ]
    },
    {
      "cell_type": "markdown",
      "metadata": {
        "id": "YlXxdLsvPrwg"
      },
      "source": [
        "### 189. Convert the DataFrame to a list of lists. Don't include the header row."
      ]
    },
    {
      "cell_type": "code",
      "execution_count": null,
      "metadata": {
        "id": "0d50VmKfPrwg",
        "outputId": "4a74f220-07a3-47c9-c704-91ef5c6c1f5c"
      },
      "outputs": [
        {
          "name": "stdout",
          "output_type": "stream",
          "text": [
            "[[4, 1, 5], [5, 5, 1], [1, 9, 3], [8, 5, 8]]\n"
          ]
        }
      ],
      "source": [
        "df = pd.DataFrame([[4, 1, 5],\n",
        "                   [5, 5, 1],\n",
        "                   [1, 9, 3],\n",
        "                   [8, 5, 8]],\n",
        "                  columns=[\"col_A\", \"col_B\", \"col_C\"])\n",
        "\n",
        "\n",
        "## start your code below\n",
        "\n",
        "\n",
        "## end your code here\n",
        "\n",
        "print(data_list)"
      ]
    },
    {
      "cell_type": "markdown",
      "metadata": {
        "id": "0gar4f56Prwg"
      },
      "source": [
        "### 190. Add three new columns that show the cumulative sum of every column"
      ]
    },
    {
      "cell_type": "code",
      "execution_count": null,
      "metadata": {
        "id": "e7ZY0OMNPrwh",
        "outputId": "c3bf384e-4315-4089-86fd-9ea69727f1bd"
      },
      "outputs": [
        {
          "name": "stdout",
          "output_type": "stream",
          "text": [
            "   col_A  col_B  col_C  cumsum1  cumsum2  cumsum3\n",
            "0      4      1      5        4        5       10\n",
            "1      5      5      1        5       10       11\n",
            "2      1      9      3        1       10       13\n",
            "3      8      5      8        8       13       21\n"
          ]
        }
      ],
      "source": [
        "df = pd.DataFrame([[4, 1, 5],\n",
        "                   [5, 5, 1],\n",
        "                   [1, 9, 3],\n",
        "                   [8, 5, 8]],\n",
        "                  columns=[\"col_A\", \"col_B\", \"col_C\"])\n",
        "\n",
        "\n",
        "## start your code below\n",
        "\n",
        "\n",
        "## end your code here\n",
        "\n",
        "print(df)"
      ]
    },
    {
      "cell_type": "markdown",
      "metadata": {
        "id": "TZE1oYwdPrwh"
      },
      "source": [
        "### 191. Print the cumulative sum of every row in a new column."
      ]
    },
    {
      "cell_type": "markdown",
      "metadata": {
        "id": "dpruQV5JPrwh"
      },
      "source": [
        "### In other words, make a column that stores the cumulative sum of the (sum of every row)."
      ]
    },
    {
      "cell_type": "code",
      "execution_count": null,
      "metadata": {
        "id": "yUNGlq-BPrwh",
        "outputId": "5a65a79f-5a6a-434d-ed79-10b6aea3fcdf"
      },
      "outputs": [
        {
          "name": "stdout",
          "output_type": "stream",
          "text": [
            "   col_A  col_B  cumsum  cumsum\n",
            "0      4      1       5      10\n",
            "1      5      5       1      11\n",
            "2      1      9       3      13\n",
            "3      8      5       8      21\n"
          ]
        }
      ],
      "source": [
        "df = pd.DataFrame([[4, 1, 5],\n",
        "                   [5, 5, 1],\n",
        "                   [1, 9, 3],\n",
        "                   [8, 5, 8]],\n",
        "                  columns=[\"col_A\", \"col_B\", \"col_C\"])\n",
        "\n",
        "\n",
        "## start your code below\n",
        "\n",
        "\n",
        "## end your code here\n",
        "\n",
        "print(df)"
      ]
    },
    {
      "cell_type": "markdown",
      "metadata": {
        "id": "Dqx-QKolPrwh"
      },
      "source": [
        "### 194. GroupBy col_A, then find the sum of col_B and mean of col_C"
      ]
    },
    {
      "cell_type": "code",
      "execution_count": null,
      "metadata": {
        "id": "YnMQ6CxcPrwh",
        "outputId": "da8ff7f5-7d44-43f6-bed2-bb5bcd0549b0"
      },
      "outputs": [
        {
          "name": "stdout",
          "output_type": "stream",
          "text": [
            "col_A\n",
            "A    6\n",
            "B    5\n",
            "C    9\n",
            "Name: col_B, dtype: int64 col_A\n",
            "A    6.5\n",
            "B    1.0\n",
            "C    3.0\n",
            "Name: col_C, dtype: float64\n"
          ]
        }
      ],
      "source": [
        "df = pd.DataFrame([[\"A\", 1, 5],\n",
        "                   [\"B\", 5, 1],\n",
        "                   [\"C\", 9, 3],\n",
        "                   [\"A\", 5, 8]],\n",
        "                  columns=[\"col_A\", \"col_B\", \"col_C\"])\n",
        "\n",
        "\n",
        "## start your code below\n",
        "\n",
        "\n",
        "## end your code here\n",
        "\n"
      ]
    },
    {
      "cell_type": "markdown",
      "metadata": {
        "id": "3CD_qQSPPrwh"
      },
      "source": [
        "### 195. Find the correlation between every pair of column"
      ]
    },
    {
      "cell_type": "code",
      "execution_count": null,
      "metadata": {
        "id": "qcS11NtoPrwh",
        "outputId": "bd0bc910-db8b-4816-b534-52ba036a4c3f"
      },
      "outputs": [
        {
          "name": "stdout",
          "output_type": "stream",
          "text": [
            "          col_A     col_B     col_C\n",
            "col_A  1.000000 -0.424264  0.599377\n",
            "col_B -0.424264  1.000000 -0.273434\n",
            "col_C  0.599377 -0.273434  1.000000\n"
          ]
        }
      ],
      "source": [
        "df = pd.DataFrame([[4, 1, 5],\n",
        "                   [5, 5, 1],\n",
        "                   [1, 9, 3],\n",
        "                   [8, 5, 8]],\n",
        "                  columns=[\"col_A\", \"col_B\", \"col_C\"])\n",
        "\n",
        "\n",
        "## start your code below\n",
        "\n",
        "\n",
        "## end your code here\n",
        "\n",
        "print(new_df)"
      ]
    },
    {
      "cell_type": "markdown",
      "metadata": {
        "id": "qOX_sYbxPrwh"
      },
      "source": [
        "### 198. Merge the two dataframes using the join() method on col_A.\n",
        "참고) Note that the `join()` method is similar to the `merge()` method, but it operates on the index by default and has a simplified syntax.\n",
        "\n",
        "\n",
        "\n",
        "\n",
        "\n"
      ]
    },
    {
      "cell_type": "code",
      "execution_count": null,
      "metadata": {
        "id": "nWBLhsuSPrwh",
        "outputId": "31bc51e5-8d52-47f1-a58d-13b3df697493"
      },
      "outputs": [
        {
          "name": "stdout",
          "output_type": "stream",
          "text": [
            "  col_A  col_B  col_C\n",
            "0     A    1.0    3.0\n",
            "1     B    2.0    NaN\n",
            "2     C    NaN    4.0\n"
          ]
        }
      ],
      "source": [
        "df1 = pd.DataFrame([[\"A\", 1], [\"B\", 2]],\n",
        "                  columns=[\"col_A\", \"col_B\"])\n",
        "\n",
        "df2 = pd.DataFrame([[\"A\", 3], [\"C\", 4]],\n",
        "                  columns=[\"col_A\", \"col_C\"])\n",
        "\n",
        "## start your code below\n",
        "\n",
        "# end your code here\n",
        "\n",
        "print(new_df)"
      ]
    },
    {
      "cell_type": "markdown",
      "metadata": {
        "id": "NyozVwfxPrwh"
      },
      "source": [
        "### 199. Perform the full outer join on the two DataFrames."
      ]
    },
    {
      "cell_type": "code",
      "execution_count": null,
      "metadata": {
        "id": "22rGkC9yPrwh",
        "outputId": "45492d17-8059-4404-df81-2e3edd6a6b9a"
      },
      "outputs": [
        {
          "name": "stdout",
          "output_type": "stream",
          "text": [
            "  col_A  col_B  col_C\n",
            "0     A    1.0    3.0\n",
            "1     B    2.0    NaN\n",
            "2     C    NaN    4.0\n"
          ]
        }
      ],
      "source": [
        "df1 = pd.DataFrame([[\"A\", 1], [\"B\", 2]],\n",
        "                  columns=[\"col_A\", \"col_B\"])\n",
        "\n",
        "df2 = pd.DataFrame([[\"A\", 3], [\"C\", 4]],\n",
        "                  columns=[\"col_A\", \"col_C\"])\n",
        "\n",
        "## start your code below\n",
        "\n",
        "\n",
        "## end your code here\n",
        "\n",
        "print(new_df)"
      ]
    },
    {
      "cell_type": "markdown",
      "metadata": {
        "id": "IWYj_JFqPrwh"
      },
      "source": [
        "### 200. Convert the DataFrame to a dictionary."
      ]
    },
    {
      "cell_type": "code",
      "execution_count": null,
      "metadata": {
        "id": "0xugwk-RPrwh",
        "outputId": "d003e16f-6d1e-4adb-d064-42cc7a4ea4cd"
      },
      "outputs": [
        {
          "data": {
            "text/plain": [
              "{'col_A': {0: 4, 1: 5, 2: 1, 3: 8},\n",
              " 'col_B': {0: 1, 1: 5, 2: 9, 3: 5},\n",
              " 'col_C': {0: 5, 1: 1, 2: 3, 3: 8}}"
            ]
          },
          "metadata": {},
          "output_type": "display_data"
        }
      ],
      "source": [
        "df = pd.DataFrame([[4, 1, 5],\n",
        "                   [5, 5, 1],\n",
        "                   [1, 9, 3],\n",
        "                   [8, 5, 8]],\n",
        "                  columns=[\"col_A\", \"col_B\", \"col_C\"])\n",
        "\n",
        "\n",
        "## start your code below\n",
        "\n",
        "\n",
        "## end your code here\n",
        "\n",
        "dict_df"
      ]
    },
    {
      "cell_type": "markdown",
      "metadata": {
        "id": "_ENlgObSPrwh"
      },
      "source": [
        "### 끝.\n",
        "### 고생하셨습니다."
      ]
    }
  ],
  "metadata": {
    "colab": {
      "provenance": []
    },
    "deepnote": {},
    "deepnote_execution_queue": [],
    "deepnote_notebook_id": "07dac775df544b37af03c6a6f77c87ab",
    "kernelspec": {
      "display_name": "base",
      "language": "python",
      "name": "python3"
    },
    "language_info": {
      "codemirror_mode": {
        "name": "ipython",
        "version": 3
      },
      "file_extension": ".py",
      "mimetype": "text/x-python",
      "name": "python",
      "nbconvert_exporter": "python",
      "pygments_lexer": "ipython3",
      "version": "3.11.3"
    },
    "orig_nbformat": 2
  },
  "nbformat": 4,
  "nbformat_minor": 0
}
